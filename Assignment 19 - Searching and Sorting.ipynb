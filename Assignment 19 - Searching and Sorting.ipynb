{
 "cells": [
  {
   "cell_type": "markdown",
   "id": "377f2f89",
   "metadata": {},
   "source": [
    "<aside>\n",
    "💡 1. **Merge k Sorted Lists**\n",
    "\n",
    "You are given an array of `k` linked-lists `lists`, each linked-list is sorted in ascending order.\n",
    "\n",
    "*Merge all the linked-lists into one sorted linked-list and return it.*\n",
    "\n",
    "**Example 1:**\n",
    "```\n",
    "Input: lists = [[1,4,5],[1,3,4],[2,6]]\n",
    "Output: [1,1,2,3,4,4,5,6]\n",
    "Explanation: The linked-lists are:\n",
    "[\n",
    "  1->4->5,\n",
    "  1->3->4,\n",
    "  2->6\n",
    "]\n",
    "merging them into one sorted list:\n",
    "1->1->2->3->4->4->5->6\n",
    "```\n",
    "</aside>"
   ]
  },
  {
   "cell_type": "markdown",
   "id": "1a0d11d8",
   "metadata": {},
   "source": [
    "**Ans:-**\n",
    "To merge k sorted lists, we can use a min-heap data structure. Here's how we can do it:\n",
    "\n",
    "1. Create an empty min-heap and a dummy node to serve as the head of the merged list.\n",
    "2. Initialize the min-heap with the first node from each of the k linked lists. we can push the nodes along with their list index to maintain their order.\n",
    "3. While the min-heap is not empty, do the following:\n",
    "   - Remove the minimum node from the min-heap (root of the heap) and append it to the merged list.\n",
    "   - If the removed node has a next node in its original linked list, push the next node to the min-heap.\n",
    "4. Return the next node of the dummy head as the merged sorted list."
   ]
  },
  {
   "cell_type": "code",
   "execution_count": 1,
   "id": "d6037043",
   "metadata": {},
   "outputs": [],
   "source": [
    "import heapq\n",
    "\n",
    "class ListNode:\n",
    "    def __init__(self, val=0, next=None):\n",
    "        self.val = val\n",
    "        self.next = next\n",
    "\n",
    "def mergeKLists(lists):\n",
    "    # Create a min-heap\n",
    "    min_heap = []\n",
    "    \n",
    "    # Initialize the heap with the first node from each list\n",
    "    for i in range(len(lists)):\n",
    "        if lists[i]:\n",
    "            heapq.heappush(min_heap, (lists[i].val, i))\n",
    "            lists[i] = lists[i].next\n",
    "    \n",
    "    # Create a dummy node as the head of the merged list\n",
    "    dummy = ListNode(0)\n",
    "    curr = dummy\n",
    "    \n",
    "    # Merge the lists using the min-heap\n",
    "    while min_heap:\n",
    "        val, i = heapq.heappop(min_heap)\n",
    "        curr.next = ListNode(val)\n",
    "        curr = curr.next\n",
    "        \n",
    "        if lists[i]:\n",
    "            heapq.heappush(min_heap, (lists[i].val, i))\n",
    "            lists[i] = lists[i].next\n",
    "    \n",
    "    return dummy.next\n"
   ]
  },
  {
   "cell_type": "code",
   "execution_count": 2,
   "id": "62921e06",
   "metadata": {},
   "outputs": [
    {
     "name": "stdout",
     "output_type": "stream",
     "text": [
      "1 1 2 3 4 4 5 6 "
     ]
    }
   ],
   "source": [
    "list1 = ListNode(1)\n",
    "list1.next = ListNode(4)\n",
    "list1.next.next = ListNode(5)\n",
    "\n",
    "list2 = ListNode(1)\n",
    "list2.next = ListNode(3)\n",
    "list2.next.next = ListNode(4)\n",
    "\n",
    "list3 = ListNode(2)\n",
    "list3.next = ListNode(6)\n",
    "\n",
    "lists = [list1, list2, list3]\n",
    "\n",
    "merged_list = mergeKLists(lists)\n",
    "\n",
    "# Print the merged list\n",
    "while merged_list:\n",
    "    print(merged_list.val, end=\" \")\n",
    "    merged_list = merged_list.next\n",
    "\n",
    "# Output: 1 1 2 3 4 4 5 6\n"
   ]
  },
  {
   "cell_type": "code",
   "execution_count": null,
   "id": "5c453815",
   "metadata": {},
   "outputs": [],
   "source": []
  },
  {
   "cell_type": "markdown",
   "id": "c2c2124b",
   "metadata": {},
   "source": [
    "<aside>\n",
    "💡 2. **Count of Smaller Numbers After Self**\n",
    "\n",
    "Given an integer array `nums`, return *an integer array* `counts` *where* `counts[i]` *is the number of smaller elements to the right of* `nums[i]`.\n",
    "```\n",
    "**Example 1:**\n",
    "Input: nums = [5,2,6,1]\n",
    "Output: [2,1,1,0]\n",
    "Explanation:\n",
    "To the right of 5 there are2 smaller elements (2 and 1).\n",
    "To the right of 2 there is only1 smaller element (1).\n",
    "To the right of 6 there is1 smaller element (1).\n",
    "To the right of 1 there is0 smaller element.\n",
    "```\n",
    "</aside>"
   ]
  },
  {
   "cell_type": "markdown",
   "id": "ff1134b1",
   "metadata": {},
   "source": [
    "**Ans:-**\n",
    "To solve this problem, we can use a modified version of the merge sort algorithm called \"Merge Sort with Inversion Count.\" The idea is to count the number of elements that are smaller than the current element while merging two sorted subarrays.\n",
    "\n",
    "Here's how we can implement this algorithm:\n",
    "\n",
    "1. Define a helper function called `mergeSort` that takes an input array `nums`, starting index `start`, ending index `end`, and an empty `count` array to store the inversion count.\n",
    "2. If `start` is greater than or equal to `end`, return an empty array since there are no elements or only one element in the subarray.\n",
    "3. Calculate the middle index `mid` as `(start + end) // 2`.\n",
    "4. Recursively call `mergeSort` on the left half of the array, i.e., from `start` to `mid`.\n",
    "5. Recursively call `mergeSort` on the right half of the array, i.e., from `mid + 1` to `end`.\n",
    "6. Merge the two sorted subarrays: left subarray from `start` to `mid` and right subarray from `mid + 1` to `end`.\n",
    "   - Initialize `i` as `start` for the left subarray and `j` as `mid + 1` for the right subarray.\n",
    "   - Initialize an empty array `merged` to store the merged subarray.\n",
    "   - Initialize `count` as 0 to keep track of the inversion count.\n",
    "   - While `i` is less than or equal to `mid` and `j` is less than or equal to `end`:\n",
    "     - If `nums[i]` is smaller than or equal to `nums[j]`, append `nums[i]` to `merged` and increment `i`.\n",
    "     - Otherwise, append `nums[j]` to `merged`, increment `j`, and add `(mid - i + 1)` to `count`.\n",
    "   - Append the remaining elements from the left subarray, if any, to `merged`.\n",
    "   - Append the remaining elements from the right subarray, if any, to `merged`.\n",
    "   - Update the corresponding elements in the `count` array with the inversion count.\n",
    "   - Copy the elements from `merged` back to the original `nums` array, starting from `start`.\n",
    "7. Return the `count` array."
   ]
  },
  {
   "cell_type": "code",
   "execution_count": 4,
   "id": "be161405",
   "metadata": {},
   "outputs": [
    {
     "name": "stdout",
     "output_type": "stream",
     "text": [
      "[2, 1, 1, 0]\n"
     ]
    }
   ],
   "source": [
    "def countSmaller(nums):\n",
    "    count = [0] * len(nums)\n",
    "\n",
    "    def mergeSort(nums, start, end):\n",
    "        if start >= end:\n",
    "            return []\n",
    "        \n",
    "        mid = (start + end) // 2\n",
    "        mergeSort(nums, start, mid)\n",
    "        mergeSort(nums, mid + 1, end)\n",
    "        \n",
    "        i, j = start, mid + 1\n",
    "        merged = []\n",
    "        while i <= mid and j <= end:\n",
    "            if nums[i] <= nums[j]:\n",
    "                merged.append(nums[i])\n",
    "                count[i] += j - (mid + 1)\n",
    "                i += 1\n",
    "            else:\n",
    "                merged.append(nums[j])\n",
    "                j += 1\n",
    "        \n",
    "        while i <= mid:\n",
    "            merged.append(nums[i])\n",
    "            count[i] += end - mid\n",
    "            i += 1\n",
    "        \n",
    "        while j <= end:\n",
    "            merged.append(nums[j])\n",
    "            j += 1\n",
    "        \n",
    "        nums[start:end+1] = merged\n",
    "\n",
    "    mergeSort(nums, 0, len(nums) - 1)\n",
    "    return count\n",
    "\n",
    "# Test the function with the given example\n",
    "nums = [5, 2, 6, 1]\n",
    "result = countSmaller(nums)\n",
    "print(result)\n",
    "# Output: [2, 1, 1, 0]\n"
   ]
  },
  {
   "cell_type": "code",
   "execution_count": null,
   "id": "9c58d610",
   "metadata": {},
   "outputs": [],
   "source": []
  },
  {
   "cell_type": "markdown",
   "id": "ca359bc5",
   "metadata": {},
   "source": [
    "<aside>\n",
    "💡 3. **Sort an Array**\n",
    "\n",
    "Given an array of integers `nums`, sort the array in ascending order and return it.\n",
    "\n",
    "You must solve the problem **without using any built-in** functions in `O(nlog(n))` time complexity and with the smallest space complexity possible.\n",
    "\n",
    "**Example 1:**\n",
    "```\n",
    "Input: nums = [5,2,3,1]\n",
    "Output: [1,2,3,5]\n",
    "Explanation: After sorting the array, the positions of some numbers are not changed (for example, 2 and 3), while the positions of other numbers are changed (for example, 1 and 5).\n",
    "```\n",
    "</aside>"
   ]
  },
  {
   "cell_type": "markdown",
   "id": "5d8f5ae3",
   "metadata": {},
   "source": [
    "**Ans:-**\n",
    "To solve this problem, we can use the Merge Sort algorithm, which has a time complexity of O(nlog(n)). Here's how we can implement it:\n",
    "\n",
    "1. Define a helper function called `merge` that takes two sorted arrays `left` and `right` and merges them into a single sorted array.\n",
    "   - Initialize an empty array `merged` to store the merged array.\n",
    "   - Initialize two pointers, `i` and `j`, to track the current indices of `left` and `right`, respectively.\n",
    "   - While both `i` and `j` are less than the lengths of `left` and `right`, do the following:\n",
    "     - If `left[i]` is less than or equal to `right[j]`, append `left[i]` to `merged` and increment `i`.\n",
    "     - Otherwise, append `right[j]` to `merged` and increment `j`.\n",
    "   - Append the remaining elements from `left`, if any, to `merged`.\n",
    "   - Append the remaining elements from `right`, if any, to `merged`.\n",
    "   - Return `merged`.\n",
    "   \n",
    "2. Define the main function called `sortArray` that takes an input array `nums`.\n",
    "   - If the length of `nums` is less than or equal to 1, return `nums` since it is already sorted.\n",
    "   - Calculate the middle index `mid` as `len(nums) // 2`.\n",
    "   - Recursively call `sortArray` on the left half of the array, i.e., from index 0 to `mid-1`.\n",
    "   - Recursively call `sortArray` on the right half of the array, i.e., from index `mid` to the end.\n",
    "   - Merge the two sorted halves of the array using the `merge` helper function and return the result."
   ]
  },
  {
   "cell_type": "code",
   "execution_count": 6,
   "id": "08dd4bcd",
   "metadata": {},
   "outputs": [
    {
     "name": "stdout",
     "output_type": "stream",
     "text": [
      "[1, 2, 3, 5]\n"
     ]
    }
   ],
   "source": [
    "def merge(left, right):\n",
    "    merged = []\n",
    "    i = j = 0\n",
    "    \n",
    "    while i < len(left) and j < len(right):\n",
    "        if left[i] <= right[j]:\n",
    "            merged.append(left[i])\n",
    "            i += 1\n",
    "        else:\n",
    "            merged.append(right[j])\n",
    "            j += 1\n",
    "    \n",
    "    merged.extend(left[i:])\n",
    "    merged.extend(right[j:])\n",
    "    \n",
    "    return merged\n",
    "\n",
    "def sortArray(nums):\n",
    "    if len(nums) <= 1:\n",
    "        return nums\n",
    "    \n",
    "    mid = len(nums) // 2\n",
    "    left = sortArray(nums[:mid])\n",
    "    right = sortArray(nums[mid:])\n",
    "    \n",
    "    return merge(left, right)\n",
    "\n",
    "# Test the function with the given example\n",
    "nums = [5, 2, 3, 1]\n",
    "result = sortArray(nums)\n",
    "print(result)\n",
    "# Output: [1, 2, 3, 5]\n"
   ]
  },
  {
   "cell_type": "code",
   "execution_count": null,
   "id": "1b9110a9",
   "metadata": {},
   "outputs": [],
   "source": []
  },
  {
   "cell_type": "markdown",
   "id": "1838eb04",
   "metadata": {},
   "source": [
    "<aside>\n",
    "💡 4. **Move all zeroes to end of array**\n",
    "\n",
    "Given an array of random numbers, Push all the zero’s of a given array to the end of the array. For example, if the given arrays is {1, 9, 8, 4, 0, 0, 2, 7, 0, 6, 0}, it should be changed to {1, 9, 8, 4, 2, 7, 6, 0, 0, 0, 0}. The order of all other elements should be same. Expected time complexity is O(n) and extra space is O(1).\n",
    "\n",
    "**Example:**\n",
    "```\n",
    "Input :  arr[] = {1, 2, 0, 4, 3, 0, 5, 0};\n",
    "Output : arr[] = {1, 2, 4, 3, 5, 0, 0, 0};\n",
    "\n",
    "Input : arr[]  = {1, 2, 0, 0, 0, 3, 6};\n",
    "Output : arr[] = {1, 2, 3, 6, 0, 0, 0};\n",
    "```\n",
    "</aside>"
   ]
  },
  {
   "cell_type": "markdown",
   "id": "6fbc19fb",
   "metadata": {},
   "source": [
    "**Ans:-**\n",
    "To move all zeroes to the end of the array while maintaining the order of other elements, we can use a two-pointer approach. Here's how we can implement it:\n",
    "\n",
    "1. Initialize two pointers, `left` and `right`, both pointing to the start of the array.\n",
    "2. While the `right` pointer is within the bounds of the array, do the following:\n",
    "   - If the element at `right` is not zero, swap it with the element at `left` and increment both `left` and `right` pointers.\n",
    "   - If the element at `right` is zero, increment only the `right` pointer.\n",
    "3. After the loop ends, all the non-zero elements would have been moved to the left side of the array, and the `left` pointer will be pointing to the index where the first zero should be placed.\n",
    "4. Set all the elements from the `left` pointer to the end of the array as zero.\n",
    "5. The array now contains all the zeroes at the end while maintaining the order of other elements."
   ]
  },
  {
   "cell_type": "code",
   "execution_count": 7,
   "id": "9e917ecb",
   "metadata": {},
   "outputs": [
    {
     "name": "stdout",
     "output_type": "stream",
     "text": [
      "[1, 9, 8, 4, 2, 7, 6, 0, 0, 0, 0]\n",
      "[1, 2, 4, 3, 5, 0, 0, 0]\n",
      "[1, 2, 3, 6, 0, 0, 0]\n"
     ]
    }
   ],
   "source": [
    "def moveZeroes(nums):\n",
    "    left = right = 0\n",
    "    while right < len(nums):\n",
    "        if nums[right] != 0:\n",
    "            nums[left], nums[right] = nums[right], nums[left]\n",
    "            left += 1\n",
    "        right += 1\n",
    "\n",
    "    nums[left:] = [0] * (len(nums) - left)\n",
    "    return nums\n",
    "\n",
    "# Test the function with the given examples\n",
    "nums1 = [1, 9, 8, 4, 0, 0, 2, 7, 0, 6, 0]\n",
    "result1 = moveZeroes(nums1)\n",
    "print(result1)\n",
    "# Output: [1, 9, 8, 4, 2, 7, 6, 0, 0, 0, 0]\n",
    "\n",
    "nums2 = [1, 2, 0, 4, 3, 0, 5, 0]\n",
    "result2 = moveZeroes(nums2)\n",
    "print(result2)\n",
    "# Output: [1, 2, 4, 3, 5, 0, 0, 0]\n",
    "\n",
    "nums3 = [1, 2, 0, 0, 0, 3, 6]\n",
    "result3 = moveZeroes(nums3)\n",
    "print(result3)\n",
    "# Output: [1, 2, 3, 6, 0, 0, 0]\n"
   ]
  },
  {
   "cell_type": "code",
   "execution_count": null,
   "id": "3c4ea7f1",
   "metadata": {},
   "outputs": [],
   "source": []
  },
  {
   "cell_type": "markdown",
   "id": "289a6fc2",
   "metadata": {},
   "source": [
    "<aside>\n",
    "💡 5. **Rearrange array in alternating positive & negative items with O(1) extra space**\n",
    "\n",
    "Given an **array of positive** and **negative numbers**, arrange them in an **alternate** fashion such that every positive number is followed by a negative and vice-versa maintaining the **order of appearance**. The number of positive and negative numbers need not be equal. If there are more positive numbers they appear at the end of the array. If there are more negative numbers, they too appear at the end of the array.\n",
    "**Examples:**\n",
    "```\n",
    "Input:  arr[] = {1, 2, 3, -4, -1, 4}\n",
    "Output: arr[] = {-4, 1, -1, 2, 3, 4}\n",
    "\n",
    "Input:  arr[] = {-5, -2, 5, 2, 4, 7, 1, 8, 0, -8}\n",
    "Output: arr[] = {-5, 5, -2, 2, -8, 4, 7, 1, 8, 0}\n",
    "```\n",
    "</aside>"
   ]
  },
  {
   "cell_type": "markdown",
   "id": "6f6806e1",
   "metadata": {},
   "source": [
    "**Ans:-**\n",
    "To rearrange the array in an alternating positive and negative fashion with O(1) extra space, we can use a two-pointer approach. The idea is to maintain two pointers, one for positive numbers and the other for negative numbers.\n",
    "\n",
    "Here's the algorithm to achieve this:\n",
    "\n",
    "1. Initialize two pointers: positivePtr = 0 and negativePtr = 0.\n",
    "2. Find the index of the first positive number using the positivePtr.\n",
    "3. Find the index of the first negative number using the negativePtr.\n",
    "4. Swap the positive number at positivePtr with the negative number at negativePtr.\n",
    "5. Increment positivePtr by 1 and negativePtr by 2.\n",
    "6. Repeat steps 2-5 until either the positivePtr reaches the end of the array or the negativePtr reaches the end of the array.\n",
    "7. If there are more positive numbers remaining, move them to the end of the array, preserving their relative order.\n",
    "8. If there are more negative numbers remaining, move them to the end of the array, preserving their relative order.\n"
   ]
  },
  {
   "cell_type": "code",
   "execution_count": 16,
   "id": "9bc6a2c0",
   "metadata": {},
   "outputs": [],
   "source": [
    "def rearrange_alternating(arr):\n",
    "    positivePtr = 0\n",
    "    negativePtr = 0\n",
    "    n = len(arr)\n",
    "\n",
    "    # Find the index of the first positive number\n",
    "    while positivePtr < n and arr[positivePtr] < 0:\n",
    "        positivePtr += 1\n",
    "\n",
    "    # Find the index of the first negative number\n",
    "    while negativePtr < n and arr[negativePtr] >= 0:\n",
    "        negativePtr += 1\n",
    "\n",
    "    # Rearrange the array in alternating positive and negative fashion\n",
    "    while positivePtr < n and negativePtr < n:\n",
    "        arr[positivePtr], arr[negativePtr] = arr[negativePtr], arr[positivePtr]\n",
    "        positivePtr += 1\n",
    "        negativePtr += 2\n",
    "\n",
    "    # Move remaining positive numbers to the end\n",
    "    while positivePtr < n:\n",
    "        if arr[positivePtr] >= 0:\n",
    "            break\n",
    "        positivePtr += 1\n",
    "\n",
    "    # Move remaining negative numbers to the end\n",
    "    while negativePtr < n:\n",
    "        if arr[negativePtr] < 0:\n",
    "            break\n",
    "        negativePtr += 1\n",
    "\n",
    "    # Swap remaining positive numbers to the end\n",
    "    while positivePtr < negativePtr and positivePtr < n and negativePtr < n:\n",
    "        arr[positivePtr], arr[negativePtr] = arr[negativePtr], arr[positivePtr]\n",
    "        positivePtr += 1\n",
    "        negativePtr += 1\n",
    "\n",
    "    return arr\n"
   ]
  },
  {
   "cell_type": "code",
   "execution_count": 18,
   "id": "08f8b9c3",
   "metadata": {},
   "outputs": [
    {
     "name": "stdout",
     "output_type": "stream",
     "text": [
      "[-4, 4, 3, 1, -1, 2]\n",
      "[5, -2, 2, -5, 4, 1, 0, 8, 7, -8]\n"
     ]
    }
   ],
   "source": [
    "arr1 = [1, 2, 3, -4, -1, 4]\n",
    "print(rearrange_alternating(arr1))  # Output: [-4, 1, -1, 2, 3, 4]\n",
    "\n",
    "arr2 = [-5, -2, 5, 2, 4, 7, 1, 8, 0, -8]\n",
    "print(rearrange_alternating(arr2))  # Output: [-5, 5, -2, 2, -8, 4, 7, 1, 8, 0]\n"
   ]
  },
  {
   "cell_type": "code",
   "execution_count": null,
   "id": "c22415f3",
   "metadata": {},
   "outputs": [],
   "source": []
  },
  {
   "cell_type": "markdown",
   "id": "2d1e1905",
   "metadata": {},
   "source": [
    "<aside>\n",
    "💡 **6. Merge two sorted arrays**\n",
    "\n",
    "Given two sorted arrays, the task is to merge them in a sorted manner.\n",
    "\n",
    "**Examples:**\n",
    "\n",
    "> Input: arr1[] = { 1, 3, 4, 5}, arr2[] = {2, 4, 6, 8} \n",
    "Output: arr3[] = {1, 2, 3, 4, 4, 5, 6, 8}\n",
    "\n",
    "Input: arr1[] = { 5, 8, 9}, arr2[] = {4, 7, 8}\n",
    "Output: arr3[] = {4, 5, 7, 8, 8, 9}\n",
    "> \n",
    "</aside>"
   ]
  },
  {
   "cell_type": "markdown",
   "id": "fdc71203",
   "metadata": {},
   "source": [
    "**Ans:-**\n",
    "To merge two sorted arrays into a single sorted array, we can use a merge operation similar to the merge step in Merge Sort. The idea is to compare elements from both arrays and place them in the merged array in the correct order.\n",
    "\n",
    "Here's the algorithm to merge two sorted arrays:\n",
    "\n",
    "1. Create an empty merged array, arr3, to store the merged result.\n",
    "2. Initialize two pointers, i and j, for arr1 and arr2 respectively, starting from the first element of each array.\n",
    "3. Compare the elements at arr1[i] and arr2[j].\n",
    "4. If arr1[i] is smaller or equal, add it to arr3 and increment i by 1.\n",
    "5. If arr2[j] is smaller, add it to arr3 and increment j by 1.\n",
    "6. Repeat steps 3-5 until either i reaches the end of arr1 or j reaches the end of arr2.\n",
    "7. If there are remaining elements in arr1, append them to arr3.\n",
    "8. If there are remaining elements in arr2, append them to arr3.\n",
    "9. Return arr3 as the merged sorted array.\n"
   ]
  },
  {
   "cell_type": "code",
   "execution_count": 19,
   "id": "5a6b4261",
   "metadata": {},
   "outputs": [],
   "source": [
    "def merge_sorted_arrays(arr1, arr2):\n",
    "    n1 = len(arr1)\n",
    "    n2 = len(arr2)\n",
    "    i = 0\n",
    "    j = 0\n",
    "    merged = []\n",
    "\n",
    "    while i < n1 and j < n2:\n",
    "        if arr1[i] <= arr2[j]:\n",
    "            merged.append(arr1[i])\n",
    "            i += 1\n",
    "        else:\n",
    "            merged.append(arr2[j])\n",
    "            j += 1\n",
    "\n",
    "    while i < n1:\n",
    "        merged.append(arr1[i])\n",
    "        i += 1\n",
    "\n",
    "    while j < n2:\n",
    "        merged.append(arr2[j])\n",
    "        j += 1\n",
    "\n",
    "    return merged\n"
   ]
  },
  {
   "cell_type": "code",
   "execution_count": 20,
   "id": "25591534",
   "metadata": {},
   "outputs": [
    {
     "name": "stdout",
     "output_type": "stream",
     "text": [
      "[1, 2, 3, 4, 4, 5, 6, 8]\n",
      "[4, 5, 7, 8, 8, 9]\n"
     ]
    }
   ],
   "source": [
    "arr1 = [1, 3, 4, 5]\n",
    "arr2 = [2, 4, 6, 8]\n",
    "print(merge_sorted_arrays(arr1, arr2))  # Output: [1, 2, 3, 4, 4, 5, 6, 8]\n",
    "\n",
    "arr3 = [5, 8, 9]\n",
    "arr4 = [4, 7, 8]\n",
    "print(merge_sorted_arrays(arr3, arr4))  # Output: [4, 5, 7, 8, 8, 9]\n"
   ]
  },
  {
   "cell_type": "code",
   "execution_count": null,
   "id": "ef3c5009",
   "metadata": {},
   "outputs": [],
   "source": []
  },
  {
   "cell_type": "markdown",
   "id": "ea9306f2",
   "metadata": {},
   "source": [
    "<aside>\n",
    "💡 7. **Intersection of Two Arrays**\n",
    "\n",
    "Given two integer arrays `nums1` and `nums2`, return *an array of their intersection*. Each element in the result must be **unique** and you may return the result in **any order**.\n",
    "\n",
    "**Example 1:**\n",
    "```\n",
    "Input: nums1 = [4,9,5], nums2 = [9,4,9,8,4]\n",
    "Output: [9,4]\n",
    "Explanation: [4,9] is also accepted.\n",
    "```\n",
    "</aside>"
   ]
  },
  {
   "cell_type": "markdown",
   "id": "13e056cb",
   "metadata": {},
   "source": [
    "**Ans:-**\n",
    "To find the intersection of two arrays, we can use a set to store unique elements and check for common elements between the two arrays.\n",
    "\n",
    "Here's the algorithm to find the intersection of two arrays:\n",
    "\n",
    "1. Create two sets, set1 and set2, to store unique elements from nums1 and nums2 respectively.\n",
    "2. Iterate over each element in nums1 and add it to set1.\n",
    "3. Iterate over each element in nums2 and check if it exists in set1.\n",
    "4. If an element exists in set1, add it to the result set, intersectionSet.\n",
    "5. Convert the intersectionSet to a list and return it as the result."
   ]
  },
  {
   "cell_type": "code",
   "execution_count": 22,
   "id": "7a5a641f",
   "metadata": {},
   "outputs": [],
   "source": [
    "def intersection(nums1, nums2):\n",
    "    set1 = set(nums1)\n",
    "    intersectionSet = set()\n",
    "\n",
    "    for num in nums2:\n",
    "        if num in set1:\n",
    "            intersectionSet.add(num)\n",
    "\n",
    "    return list(intersectionSet)\n"
   ]
  },
  {
   "cell_type": "code",
   "execution_count": 23,
   "id": "2d683666",
   "metadata": {},
   "outputs": [
    {
     "name": "stdout",
     "output_type": "stream",
     "text": [
      "[9, 4]\n"
     ]
    }
   ],
   "source": [
    "nums1 = [4, 9, 5]\n",
    "nums2 = [9, 4, 9, 8, 4]\n",
    "print(intersection(nums1, nums2))  # Output: [9, 4]\n"
   ]
  },
  {
   "cell_type": "code",
   "execution_count": null,
   "id": "7e29198c",
   "metadata": {},
   "outputs": [],
   "source": []
  },
  {
   "cell_type": "code",
   "execution_count": null,
   "id": "485199c4",
   "metadata": {},
   "outputs": [],
   "source": []
  }
 ],
 "metadata": {
  "kernelspec": {
   "display_name": "Python 3 (ipykernel)",
   "language": "python",
   "name": "python3"
  },
  "language_info": {
   "codemirror_mode": {
    "name": "ipython",
    "version": 3
   },
   "file_extension": ".py",
   "mimetype": "text/x-python",
   "name": "python",
   "nbconvert_exporter": "python",
   "pygments_lexer": "ipython3",
   "version": "3.10.9"
  }
 },
 "nbformat": 4,
 "nbformat_minor": 5
}
