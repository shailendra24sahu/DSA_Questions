{
 "cells": [
  {
   "cell_type": "markdown",
   "id": "90661628",
   "metadata": {},
   "source": [
    "<aside>\n",
    "💡 1. **Roman to Integer**\n",
    "\n",
    "Roman numerals are represented by seven different symbols: `I`, `V`, `X`, `L`, `C`, `D` and `M`.\n",
    "\n",
    "```\n",
    "SymbolValue\n",
    "I             1\n",
    "V             5\n",
    "X             10\n",
    "L             50\n",
    "C             100\n",
    "D             500\n",
    "M             1000\n",
    "```\n",
    "\n",
    "For example, `2` is written as `II` in Roman numeral, just two ones added together. `12` is written as `XII`, which is simply `X + II`. The number `27` is written as `XXVII`, which is `XX + V + II`.\n",
    "\n",
    "Roman numerals are usually written largest to smallest from left to right. However, the numeral for four is not `IIII`. Instead, the number four is written as `IV`. Because the one is before the five we subtract it making four. The same principle applies to the number nine, which is written as `IX`. There are six instances where subtraction is used:\n",
    "\n",
    "- `I` can be placed before `V` (5) and `X` (10) to make 4 and 9.\n",
    "- `X` can be placed before `L` (50) and `C` (100) to make 40 and 90.\n",
    "- `C` can be placed before `D` (500) and `M` (1000) to make 400 and 900.\n",
    "\n",
    "Given a roman numeral, convert it to an integer.\n",
    "\n",
    "**Example 1:**\n",
    "\n",
    "```\n",
    "Input: s = \"III\"\n",
    "Output: 3\n",
    "Explanation: III = 3.\n",
    "```\n",
    "\n",
    "**Example 2:**\n",
    "\n",
    "```\n",
    "Input: s = \"LVIII\"\n",
    "Output: 58\n",
    "Explanation: L = 50, V= 5, III = 3.\n",
    "```\n",
    "\n",
    "**Constraints:**\n",
    "\n",
    "- `1 <= s.length <= 15`\n",
    "- `s` contains only the characters `('I', 'V', 'X', 'L', 'C', 'D', 'M')`.\n",
    "- It is **guaranteed** that `s` is a valid roman numeral in the range `[1, 3999]`.\n",
    "****\n",
    "</aside>"
   ]
  },
  {
   "cell_type": "markdown",
   "id": "bb74b6b5",
   "metadata": {},
   "source": [
    "**Ans:-**\n",
    "Here's a Python algorithm to convert a Roman numeral to an integer:"
   ]
  },
  {
   "cell_type": "code",
   "execution_count": 1,
   "id": "86959081",
   "metadata": {},
   "outputs": [],
   "source": [
    "def romanToInt(s):\n",
    "    roman_values = {'I': 1, 'V': 5, 'X': 10, 'L': 50, 'C': 100, 'D': 500, 'M': 1000}\n",
    "    result = 0\n",
    "    \n",
    "    # Iterate through the string in reverse order\n",
    "    for i in range(len(s) - 1, -1, -1):\n",
    "        if i < len(s) - 1 and roman_values[s[i]] < roman_values[s[i+1]]:\n",
    "            # If the current symbol is smaller than the next symbol, subtract its value\n",
    "            result -= roman_values[s[i]]\n",
    "        else:\n",
    "            # Otherwise, add its value to the result\n",
    "            result += roman_values[s[i]]\n",
    "    \n",
    "    return result\n"
   ]
  },
  {
   "cell_type": "code",
   "execution_count": 2,
   "id": "2de5b52c",
   "metadata": {},
   "outputs": [
    {
     "name": "stdout",
     "output_type": "stream",
     "text": [
      "27\n"
     ]
    }
   ],
   "source": [
    "# Example usage\n",
    "roman_numeral = \"XXVII\"\n",
    "integer_value = romanToInt(roman_numeral)\n",
    "print(integer_value)  # Output: 27"
   ]
  },
  {
   "cell_type": "code",
   "execution_count": 3,
   "id": "62462b3a",
   "metadata": {},
   "outputs": [
    {
     "name": "stdout",
     "output_type": "stream",
     "text": [
      "3\n"
     ]
    }
   ],
   "source": [
    "# Example usage\n",
    "roman_numeral = \"III\"\n",
    "integer_value = romanToInt(roman_numeral)\n",
    "print(integer_value) "
   ]
  },
  {
   "cell_type": "code",
   "execution_count": null,
   "id": "00a6c5cd",
   "metadata": {},
   "outputs": [],
   "source": []
  },
  {
   "cell_type": "markdown",
   "id": "538d130b",
   "metadata": {},
   "source": [
    "<aside>\n",
    "💡 2. **Longest Substring Without Repeating Characters**\n",
    "\n",
    "Given a string `s`, find the length of the **longest substring** without repeating characters.\n",
    "\n",
    "**Example 1:**\n",
    "\n",
    "```\n",
    "Input: s = \"abcabcbb\"\n",
    "Output: 3\n",
    "Explanation: The answer is \"abc\", with the length of 3.\n",
    "```\n",
    "\n",
    "**Example 2:**\n",
    "\n",
    "```\n",
    "Input: s = \"bbbbb\"\n",
    "Output: 1\n",
    "Explanation: The answer is \"b\", with the length of 1.\n",
    "```\n",
    "\n",
    "**Example 3:**\n",
    "\n",
    "```\n",
    "Input: s = \"pwwkew\"\n",
    "Output: 3\n",
    "Explanation: The answer is \"wke\", with the length of 3.\n",
    "Notice that the answer must be a substring, \"pwke\" is a subsequence and not a substring.\n",
    "```\n",
    "\n",
    "**Constraints:**\n",
    "\n",
    "- `0 <= s.length <= 50000`\n",
    "- `s` consists of English letters, digits, symbols and spaces.\n",
    "</aside>"
   ]
  },
  {
   "cell_type": "markdown",
   "id": "0efa25e0",
   "metadata": {},
   "source": [
    "**Ans:-**\n",
    "To find the length of the longest substring without repeating characters, we can use the sliding window technique. Here's a Python algorithm that solves this problem:"
   ]
  },
  {
   "cell_type": "code",
   "execution_count": 4,
   "id": "368d9552",
   "metadata": {},
   "outputs": [],
   "source": [
    "def lengthOfLongestSubstring(s):\n",
    "    # Create a dictionary to store the most recent index of each character\n",
    "    char_index = {}\n",
    "    max_length = 0\n",
    "    start = 0\n",
    "    \n",
    "    for end in range(len(s)):\n",
    "        if s[end] in char_index:\n",
    "            # If the current character is already seen, move the start pointer to the next position\n",
    "            start = max(start, char_index[s[end]] + 1)\n",
    "        \n",
    "        # Update the most recent index of the current character\n",
    "        char_index[s[end]] = end\n",
    "        \n",
    "        # Calculate the length of the current substring\n",
    "        current_length = end - start + 1\n",
    "        \n",
    "        # Update the maximum length if necessary\n",
    "        max_length = max(max_length, current_length)\n",
    "    \n",
    "    return max_length\n"
   ]
  },
  {
   "cell_type": "code",
   "execution_count": 7,
   "id": "3ce55778",
   "metadata": {},
   "outputs": [
    {
     "name": "stdout",
     "output_type": "stream",
     "text": [
      "3\n"
     ]
    }
   ],
   "source": [
    "# Example usage\n",
    "string = \"abcabcbb\"\n",
    "length = lengthOfLongestSubstring(string)\n",
    "print(length)  # Output: 3\n"
   ]
  },
  {
   "cell_type": "code",
   "execution_count": null,
   "id": "9a619fbe",
   "metadata": {},
   "outputs": [],
   "source": []
  },
  {
   "cell_type": "markdown",
   "id": "f0327684",
   "metadata": {},
   "source": [
    "<aside>\n",
    "💡 3. **Majority Element**\n",
    "\n",
    "Given an array `nums` of size `n`, return *the majority element*.\n",
    "\n",
    "The majority element is the element that appears more than `⌊n / 2⌋` times. You may assume that the majority element always exists in the array.\n",
    "\n",
    "**Example 1:**\n",
    "\n",
    "```\n",
    "Input: nums = [3,2,3]\n",
    "Output: 3\n",
    "```\n",
    "\n",
    "**Example 2:**\n",
    "\n",
    "```\n",
    "Input: nums = [2,2,1,1,1,2,2]\n",
    "Output: 2\n",
    "```\n",
    "\n",
    "**Constraints:**\n",
    "\n",
    "- `n == nums.length`\n",
    "- `1 <= n <= 5 * 10^4`\n",
    "- `-10^9 <= nums[i] <= 10^9`\n",
    "</aside>"
   ]
  },
  {
   "cell_type": "markdown",
   "id": "ee5c7593",
   "metadata": {},
   "source": [
    "**Ans:-**\n",
    "To find the majority element in an array, we can use the Boyer-Moore Voting Algorithm. This algorithm is based on the observation that if a majority element exists, it will cancel out all other elements until it remains as the majority."
   ]
  },
  {
   "cell_type": "code",
   "execution_count": 8,
   "id": "596c63e1",
   "metadata": {},
   "outputs": [],
   "source": [
    "def majorityElement(nums):\n",
    "    count = 0\n",
    "    majority = None\n",
    "    \n",
    "    for num in nums:\n",
    "        if count == 0:\n",
    "            # If the count is 0, set the current element as the potential majority\n",
    "            majority = num\n",
    "        \n",
    "        if num == majority:\n",
    "            # If the current element is the potential majority, increment the count\n",
    "            count += 1\n",
    "        else:\n",
    "            # If the current element is different, decrement the count\n",
    "            count -= 1\n",
    "    \n",
    "    return majority\n"
   ]
  },
  {
   "cell_type": "code",
   "execution_count": 9,
   "id": "a0e80daf",
   "metadata": {},
   "outputs": [
    {
     "name": "stdout",
     "output_type": "stream",
     "text": [
      "2\n"
     ]
    }
   ],
   "source": [
    "# Example usage\n",
    "array = [2, 2, 1, 1, 1, 2, 2]\n",
    "majority = majorityElement(array)\n",
    "print(majority)  # Output: 2\n"
   ]
  },
  {
   "cell_type": "code",
   "execution_count": null,
   "id": "275102ba",
   "metadata": {},
   "outputs": [],
   "source": []
  },
  {
   "cell_type": "markdown",
   "id": "2c5bf77c",
   "metadata": {},
   "source": [
    "<aside>\n",
    "💡 4. **Group Anagram**\n",
    "\n",
    "Given an array of strings `strs`, group **the anagrams** together. You can return the answer in **any order**.\n",
    "\n",
    "An **Anagram** is a word or phrase formed by rearranging the letters of a different word or phrase, typically using all the original letters exactly once.\n",
    "\n",
    "**Example 1:**\n",
    "\n",
    "```\n",
    "Input: strs = [\"eat\",\"tea\",\"tan\",\"ate\",\"nat\",\"bat\"]\n",
    "Output: [[\"bat\"],[\"nat\",\"tan\"],[\"ate\",\"eat\",\"tea\"]]\n",
    "```\n",
    "\n",
    "**Example 2:**\n",
    "\n",
    "```\n",
    "Input: strs = [\"\"]\n",
    "Output: [[\"\"]]\n",
    "```\n",
    "\n",
    "**Example 3:**\n",
    "\n",
    "```\n",
    "Input: strs = [\"a\"]\n",
    "Output: [[\"a\"]]\n",
    "```\n",
    "\n",
    "**Constraints:**\n",
    "\n",
    "- `1 <= strs.length <= 10000`\n",
    "- `0 <= strs[i].length <= 100`\n",
    "- `strs[i]` consists of lowercase English letters.\n",
    "</aside>"
   ]
  },
  {
   "cell_type": "markdown",
   "id": "08dc63eb",
   "metadata": {},
   "source": [
    "**Ans:-**\n",
    "To group anagrams together in an array of strings, you can use a hash map to store the sorted version of each string as the key and the corresponding anagrams as the value. "
   ]
  },
  {
   "cell_type": "code",
   "execution_count": 11,
   "id": "aaafd48d",
   "metadata": {},
   "outputs": [],
   "source": [
    "def groupAnagrams(strs):\n",
    "    anagram_groups = {}\n",
    "    \n",
    "    for word in strs:\n",
    "        # Sort the characters of the word to obtain the key\n",
    "        key = tuple(sorted(word))\n",
    "        \n",
    "        # Add the word to the corresponding anagram group\n",
    "        if key in anagram_groups:\n",
    "            anagram_groups[key].append(word)\n",
    "        else:\n",
    "            anagram_groups[key] = [word]\n",
    "    \n",
    "    # Convert the values of the hash map to lists of anagram groups\n",
    "    result = list(anagram_groups.values())\n",
    "    \n",
    "    return result\n"
   ]
  },
  {
   "cell_type": "code",
   "execution_count": 12,
   "id": "8587af1b",
   "metadata": {},
   "outputs": [
    {
     "name": "stdout",
     "output_type": "stream",
     "text": [
      "[['eat', 'tea', 'ate'], ['tan', 'nat'], ['bat']]\n"
     ]
    }
   ],
   "source": [
    "# Example usage\n",
    "strings = [\"eat\", \"tea\", \"tan\", \"ate\", \"nat\", \"bat\"]\n",
    "anagram_groups = groupAnagrams(strings)\n",
    "print(anagram_groups)  # Output: [['eat', 'tea', 'ate'], ['tan', 'nat'], ['bat']]\n"
   ]
  },
  {
   "cell_type": "code",
   "execution_count": null,
   "id": "cd8d1938",
   "metadata": {},
   "outputs": [],
   "source": []
  },
  {
   "cell_type": "markdown",
   "id": "fecb76a4",
   "metadata": {},
   "source": [
    "<aside>\n",
    "💡 5. **Ugly Numbers**\n",
    "\n",
    "An **ugly number** is a positive integer whose prime factors are limited to `2`, `3`, and `5`.\n",
    "\n",
    "Given an integer `n`, return *the* `nth` ***ugly number***.\n",
    "\n",
    "**Example 1:**\n",
    "\n",
    "```\n",
    "Input: n = 10\n",
    "Output: 12\n",
    "Explanation: [1, 2, 3, 4, 5, 6, 8, 9, 10, 12] is the sequence of the first 10 ugly numbers.\n",
    "```\n",
    "\n",
    "**Example 2:**\n",
    "\n",
    "```\n",
    "Input: n = 1\n",
    "Output: 1\n",
    "Explanation: 1 has no prime factors, therefore all of its prime factors are limited to 2, 3, and 5.\n",
    "```\n",
    "\n",
    "**Constraints:**\n",
    "\n",
    "- `1 <= n <= 1690`\n",
    "</aside>"
   ]
  },
  {
   "cell_type": "markdown",
   "id": "2dbd38e6",
   "metadata": {},
   "source": [
    "**Ans:-**\n",
    "To solve this problem, we can use a dynamic programming approach. We'll start by initializing an array to store the ugly numbers. We'll set the first element of the array to 1 since 1 is the first ugly number.\n",
    "\n",
    "Next, we'll initialize three pointers, `p2`, `p3`, and `p5`, which will be used to track the indices in the array that will be multiplied by 2, 3, and 5, respectively, to generate the next ugly number.\n",
    "\n",
    "We'll also initialize variables `next_multiple_of_2`, `next_multiple_of_3`, and `next_multiple_of_5` to store the values of the next multiples of 2, 3, and 5, respectively. Initially, all three variables will be set to 2 since the first ugly number multiplied by 2 is 2, the first ugly number multiplied by 3 is 3, and the first ugly number multiplied by 5 is 5.\n",
    "\n",
    "We'll iterate `n-1` times since we have already initialized the first ugly number. In each iteration, we'll find the minimum among `next_multiple_of_2`, `next_multiple_of_3`, and `next_multiple_of_5` and add it to the array of ugly numbers. We'll update the pointers and next multiples accordingly.\n",
    "\n",
    "Finally, we'll return the last element of the array, which will be the `n`th ugly number."
   ]
  },
  {
   "cell_type": "code",
   "execution_count": 13,
   "id": "964c8dd5",
   "metadata": {},
   "outputs": [],
   "source": [
    "def nthUglyNumber(n):\n",
    "    ugly = [0] * n\n",
    "    ugly[0] = 1\n",
    "    p2 = p3 = p5 = 0\n",
    "    next_multiple_of_2 = next_multiple_of_3 = next_multiple_of_5 = 2\n",
    "\n",
    "    for i in range(1, n):\n",
    "        ugly[i] = min(next_multiple_of_2, next_multiple_of_3, next_multiple_of_5)\n",
    "\n",
    "        if ugly[i] == next_multiple_of_2:\n",
    "            p2 += 1\n",
    "            next_multiple_of_2 = ugly[p2] * 2\n",
    "\n",
    "        if ugly[i] == next_multiple_of_3:\n",
    "            p3 += 1\n",
    "            next_multiple_of_3 = ugly[p3] * 3\n",
    "\n",
    "        if ugly[i] == next_multiple_of_5:\n",
    "            p5 += 1\n",
    "            next_multiple_of_5 = ugly[p5] * 5\n",
    "\n",
    "    return ugly[n - 1]\n"
   ]
  },
  {
   "cell_type": "code",
   "execution_count": null,
   "id": "e8af80e0",
   "metadata": {},
   "outputs": [],
   "source": []
  },
  {
   "cell_type": "markdown",
   "id": "65e84b89",
   "metadata": {},
   "source": [
    "<aside>\n",
    "💡 6. **Top K Frequent Words**\n",
    "\n",
    "Given an array of strings `words` and an integer `k`, return *the* `k` *most frequent strings*.\n",
    "\n",
    "Return the answer **sorted** by **the frequency** from highest to lowest. Sort the words with the same frequency by their **lexicographical order**.\n",
    "\n",
    "**Example 1:**\n",
    "\n",
    "```\n",
    "Input: words = [\"i\",\"love\",\"leetcode\",\"i\",\"love\",\"coding\"], k = 2\n",
    "Output: [\"i\",\"love\"]\n",
    "Explanation: \"i\" and \"love\" are the two most frequent words.\n",
    "Note that \"i\" comes before \"love\" due to a lower alphabetical order.\n",
    "```\n",
    "\n",
    "**Example 2:**\n",
    "\n",
    "```\n",
    "Input: words = [\"the\",\"day\",\"is\",\"sunny\",\"the\",\"the\",\"the\",\"sunny\",\"is\",\"is\"], k = 4\n",
    "Output: [\"the\",\"is\",\"sunny\",\"day\"]\n",
    "Explanation: \"the\", \"is\", \"sunny\" and \"day\" are the four most frequent words, with the number of occurrence being 4, 3, 2 and 1 respectively.\n",
    "```\n",
    "\n",
    "**Constraints:**\n",
    "\n",
    "- `1 <= words.length <= 500`\n",
    "- `1 <= words[i].length <= 10`\n",
    "- `words[i]` consists of lowercase English letters.\n",
    "- `k` is in the range `[1, The number of **unique** words[i]]`\n",
    "</aside>"
   ]
  },
  {
   "cell_type": "markdown",
   "id": "bd0f5bbd",
   "metadata": {},
   "source": [
    "**Ans:-**\n",
    "To solve this problem, we can use a combination of dictionary and sorting operations. Here's an algorithm to find the k most frequent words in an array of strings:\n",
    "\n",
    "1. Initialize an empty dictionary `word_counts` to store the frequency of each word.\n",
    "2. Iterate through the words in the array and update their frequencies in the `word_counts` dictionary.\n",
    "3. Sort the words based on their frequencies in descending order. If two words have the same frequency, sort them lexicographically.\n",
    "4. Return the first `k` words from the sorted list.\n"
   ]
  },
  {
   "cell_type": "code",
   "execution_count": 16,
   "id": "e5b4d554",
   "metadata": {},
   "outputs": [],
   "source": [
    "def topKFrequent(words, k):\n",
    "    word_counts = {}\n",
    "\n",
    "    # Count the frequency of each word\n",
    "    for word in words:\n",
    "        if word in word_counts:\n",
    "            word_counts[word] += 1\n",
    "        else:\n",
    "            word_counts[word] = 1\n",
    "\n",
    "    # Sort the words based on frequency and lexicographical order\n",
    "    sorted_words = sorted(word_counts.keys(), key=lambda w: (-word_counts[w], w))\n",
    "\n",
    "    # Return the top k frequent words\n",
    "    return sorted_words[:k]\n"
   ]
  },
  {
   "cell_type": "code",
   "execution_count": 17,
   "id": "28764039",
   "metadata": {},
   "outputs": [
    {
     "data": {
      "text/plain": [
       "['i', 'love']"
      ]
     },
     "execution_count": 17,
     "metadata": {},
     "output_type": "execute_result"
    }
   ],
   "source": [
    "words = [\"i\",\"love\",\"leetcode\",\"i\",\"love\",\"coding\"]\n",
    "k = 2\n",
    "topKFrequent(words,k)"
   ]
  },
  {
   "cell_type": "code",
   "execution_count": null,
   "id": "eca09be3",
   "metadata": {},
   "outputs": [],
   "source": []
  },
  {
   "cell_type": "markdown",
   "id": "83a16b87",
   "metadata": {},
   "source": [
    "<aside>\n",
    "💡 7. **Sliding Window Maximum**\n",
    "\n",
    "You are given an array of integers `nums`, there is a sliding window of size `k` which is moving from the very left of the array to the very right. You can only see the `k` numbers in the window. Each time the sliding window moves right by one position.\n",
    "\n",
    "Return *the max sliding window*.\n",
    "\n",
    "**Example 1:**\n",
    "\n",
    "```\n",
    "Input: nums = [1,3,-1,-3,5,3,6,7], k = 3\n",
    "Output: [3,3,5,5,6,7]\n",
    "Explanation:\n",
    "Window position                Max\n",
    "---------------               -----\n",
    "[1  3  -1] -3  5  3  6 7         3\n",
    " 1 [3  -1  -3] 5  3  6 7         3\n",
    " 1  3 [-1  -3  5] 3  6 7         5\n",
    " 1  3  -1 [-3  5  3] 6 7         5\n",
    " 1  3  -1  -3 [5  3  6]7         6\n",
    " 1  3  -1  -3  5 [3  6  7]       7\n",
    "```\n",
    "\n",
    "**Example 2:**\n",
    "\n",
    "```\n",
    "Input: nums = [1], k = 1\n",
    "Output: [1]\n",
    "```\n",
    "\n",
    "**Constraints:**\n",
    "\n",
    "- `1 <= nums.length <= 100000`\n",
    "- -`10000 <= nums[i] <= 10000`\n",
    "- `1 <= k <= nums.length`\n",
    "</aside>"
   ]
  },
  {
   "cell_type": "markdown",
   "id": "1c66a3b9",
   "metadata": {},
   "source": [
    "**Ans:-**\n",
    "To solve the sliding window maximum problem, you can use a data structure called a deque (double-ended queue) to efficiently keep track of the maximum element in the current window as it slides through the array.\n",
    "\n",
    "Here's a step-by-step approach to solve the problem:\n",
    "\n",
    "1. Initialize an empty deque and an empty result array to store the maximum values.\n",
    "2. Iterate over the input array `nums` from left to right.\n",
    "3. For each element `nums[i]`, do the following:\n",
    "   - Remove elements from the front of the deque that are smaller than or equal to `nums[i]`. This ensures that the deque only contains elements that are potentially the maximum in the current window.\n",
    "   - Add `nums[i]` to the deque.\n",
    "   - If the index of the front element in the deque is smaller than or equal to `i - k`, it means the front element is outside the current window, so remove it from the deque.\n",
    "   - If `i` is greater than or equal to `k - 1`, it means we have processed the first window, so add the front element of the deque to the result array since it represents the maximum in that window.\n",
    "4. Return the result array.\n"
   ]
  },
  {
   "cell_type": "code",
   "execution_count": 18,
   "id": "a94b4fb1",
   "metadata": {},
   "outputs": [],
   "source": [
    "from collections import deque\n",
    "\n",
    "def maxSlidingWindow(nums, k):\n",
    "    result = []\n",
    "    window = deque()\n",
    "\n",
    "    for i in range(len(nums)):\n",
    "        # Remove elements from the front of the deque that are smaller than or equal to nums[i]\n",
    "        while window and nums[i] >= nums[window[-1]]:\n",
    "            window.pop()\n",
    "\n",
    "        # Add nums[i] to the deque\n",
    "        window.append(i)\n",
    "\n",
    "        # Remove the front element if it's outside the current window\n",
    "        if window[0] <= i - k:\n",
    "            window.popleft()\n",
    "\n",
    "        # If we have processed the first window, add the maximum to the result array\n",
    "        if i >= k - 1:\n",
    "            result.append(nums[window[0]])\n",
    "\n",
    "    return result\n"
   ]
  },
  {
   "cell_type": "code",
   "execution_count": 19,
   "id": "6212b11b",
   "metadata": {},
   "outputs": [
    {
     "data": {
      "text/plain": [
       "[1]"
      ]
     },
     "execution_count": 19,
     "metadata": {},
     "output_type": "execute_result"
    }
   ],
   "source": [
    "nums = [1]\n",
    "k = 1\n",
    "maxSlidingWindow(nums,k)"
   ]
  },
  {
   "cell_type": "code",
   "execution_count": null,
   "id": "80ca9a16",
   "metadata": {},
   "outputs": [],
   "source": []
  },
  {
   "cell_type": "markdown",
   "id": "141fd2ea",
   "metadata": {},
   "source": [
    "<aside>\n",
    "💡 8. **Find K Closest Elements**\n",
    "\n",
    "Given a **sorted** integer array `arr`, two integers `k` and `x`, return the `k` closest integers to `x` in the array. The result should also be sorted in ascending order.\n",
    "\n",
    "An integer `a` is closer to `x` than an integer `b` if:\n",
    "\n",
    "- `|a - x| < |b - x|`, or\n",
    "- `|a - x| == |b - x|` and `a < b`\n",
    "\n",
    "**Example 1:**\n",
    "\n",
    "```\n",
    "Input: arr = [1,2,3,4,5], k = 4, x = 3\n",
    "Output: [1,2,3,4]\n",
    "```\n",
    "\n",
    "**Example 2:**\n",
    "\n",
    "```\n",
    "Input: arr = [1,2,3,4,5], k = 4, x = -1\n",
    "Output: [1,2,3,4]\n",
    "```\n",
    "\n",
    "**Constraints:**\n",
    "\n",
    "- `1 <= k <= arr.length`\n",
    "- `1 <= arr.length <= 10000`\n",
    "- `arr` is sorted in **ascending** order.\n",
    "- -`10000 <= arr[i], x <= 10000`\n",
    "\n",
    "</aside>"
   ]
  },
  {
   "cell_type": "markdown",
   "id": "d31cfc78",
   "metadata": {},
   "source": [
    "**Ans:-**\n",
    "To find the k closest elements to a given number x in a sorted array arr, you can use a binary search combined with a two-pointer technique. Here's a step-by-step approach to solve the problem:\n",
    "\n",
    "1. Find the index `left` of the element in arr that is closest to x using binary search. Initially, set `left` as 0 and `right` as the length of arr minus 1.\n",
    "   - While `left` is less than `right`, calculate the midpoint as `(left + right) // 2`.\n",
    "   - If arr[midpoint] is greater than or equal to x, update `right` as `midpoint`.\n",
    "   - Otherwise, update `left` as `midpoint + 1`.\n",
    "   - At the end of the binary search, `left` will be the index of the element in arr that is closest to x.\n",
    "\n",
    "2. Initialize two pointers, `low` and `high`, both pointing to the `left` index.\n",
    "3. Increment `high` by 1 if arr[high] - x is smaller than or equal to x - arr[low]. This ensures that `high` will be the index of the element that is closer to x if the difference is the same.\n",
    "4. Decrement `low` by 1 if `high` reaches the end of the array.\n",
    "5. Return the subarray arr[low + 1:high], which contains the k closest elements to x."
   ]
  },
  {
   "cell_type": "code",
   "execution_count": 20,
   "id": "acfa3975",
   "metadata": {},
   "outputs": [],
   "source": [
    "def findClosestElements(arr, k, x):\n",
    "    left = 0\n",
    "    right = len(arr) - 1\n",
    "\n",
    "    while left < right:\n",
    "        midpoint = (left + right) // 2\n",
    "        if arr[midpoint] >= x:\n",
    "            right = midpoint\n",
    "        else:\n",
    "            left = midpoint + 1\n",
    "\n",
    "    low = left\n",
    "    high = left\n",
    "\n",
    "    while high - low < k:\n",
    "        if high == len(arr) - 1:\n",
    "            low -= 1\n",
    "        elif low == 0:\n",
    "            high += 1\n",
    "        elif x - arr[low - 1] <= arr[high + 1] - x:\n",
    "            low -= 1\n",
    "        else:\n",
    "            high += 1\n",
    "\n",
    "    return arr[low + 1:high]\n"
   ]
  },
  {
   "cell_type": "code",
   "execution_count": 22,
   "id": "777f7912",
   "metadata": {},
   "outputs": [
    {
     "data": {
      "text/plain": [
       "[2, 3, 4]"
      ]
     },
     "execution_count": 22,
     "metadata": {},
     "output_type": "execute_result"
    }
   ],
   "source": [
    "arr = [1,2,3,4,5]\n",
    "k = 4\n",
    "x = 3\n",
    "findClosestElements(arr,k,x)"
   ]
  },
  {
   "cell_type": "code",
   "execution_count": null,
   "id": "b00b9cc5",
   "metadata": {},
   "outputs": [],
   "source": []
  }
 ],
 "metadata": {
  "kernelspec": {
   "display_name": "Python 3 (ipykernel)",
   "language": "python",
   "name": "python3"
  },
  "language_info": {
   "codemirror_mode": {
    "name": "ipython",
    "version": 3
   },
   "file_extension": ".py",
   "mimetype": "text/x-python",
   "name": "python",
   "nbconvert_exporter": "python",
   "pygments_lexer": "ipython3",
   "version": "3.10.9"
  }
 },
 "nbformat": 4,
 "nbformat_minor": 5
}
