{
 "cells": [
  {
   "cell_type": "markdown",
   "id": "29d6841d",
   "metadata": {},
   "source": [
    "<aside>\n",
    "💡 **Question 1**\n",
    "\n",
    "Given an array **arr[ ]** of size **N** having elements, the task is to find the next greater element for each element of the array in order of their appearance in the array.Next greater element of an element in the array is the nearest element on the right which is greater than the current element.If there does not exist next greater of current element, then next greater element for current element is -1. For example, next greater of the last element is always -1.\n",
    "\n",
    "**Example 1:**\n",
    "\n",
    "```\n",
    "Input:\n",
    "N = 4, arr[] = [1 3 2 4]\n",
    "Output:\n",
    "3 4 4 -1\n",
    "Explanation:\n",
    "In the array, the next larger element\n",
    "to 1 is 3 , 3 is 4 , 2 is 4 and for 4 ?\n",
    "since it doesn't exist, it is -1.\n",
    "\n",
    "```\n",
    "\n",
    "**Example 2:**\n",
    "\n",
    "```\n",
    "Input:\n",
    "N = 5, arr[] [6 8 0 1 3]\n",
    "Output:\n",
    "8 -1 1 3 -1\n",
    "Explanation:\n",
    "In the array, the next larger element to\n",
    "6 is 8, for 8 there is no larger elements\n",
    "hence it is -1, for 0 it is 1 , for 1 it\n",
    "is 3 and then for 3 there is no larger\n",
    "element on right and hence -1.\n",
    "```\n",
    "\n",
    "</aside>"
   ]
  },
  {
   "cell_type": "markdown",
   "id": "87406f91",
   "metadata": {},
   "source": [
    "**Ans:-**\n",
    "To find the next greater element for each element of the array, we can use a stack data structure.\n",
    "\n",
    "Here's the algorithm to solve the problem:\n",
    "\n",
    "1. Create an empty stack and initialize the result array with -1 for all elements.\n",
    "2. Iterate through the array elements from right to left:\n",
    "   - While the stack is not empty and the top element of the stack is less than or equal to the current element, pop elements from the stack.\n",
    "   - If the stack becomes empty, there is no greater element to the right of the current element, so the result for that element remains -1.\n",
    "   - If the stack is not empty, the top element of the stack is the next greater element for the current element. Store it in the result array.\n",
    "   - Push the current element onto the stack.\n",
    "3. Return the result array.\n",
    "\n"
   ]
  },
  {
   "cell_type": "code",
   "execution_count": 3,
   "id": "eb7caf56",
   "metadata": {},
   "outputs": [],
   "source": [
    "def findNextGreater(arr):\n",
    "    n = len(arr)\n",
    "    stack = []\n",
    "    result = [-1] * n\n",
    "\n",
    "    for i in range(n - 1, -1, -1):\n",
    "        while stack and stack[-1] <= arr[i]:\n",
    "            stack.pop()\n",
    "\n",
    "        if stack:\n",
    "            result[i] = stack[-1]\n",
    "\n",
    "        stack.append(arr[i])\n",
    "\n",
    "    return result\n"
   ]
  },
  {
   "cell_type": "code",
   "execution_count": 4,
   "id": "6838d0be",
   "metadata": {},
   "outputs": [
    {
     "name": "stdout",
     "output_type": "stream",
     "text": [
      "[3, 4, 4, -1]\n",
      "[8, -1, 1, 3, -1]\n"
     ]
    }
   ],
   "source": [
    "arr1 = [1, 3, 2, 4]\n",
    "print(findNextGreater(arr1))  # Output: [3, 4, 4, -1]\n",
    "\n",
    "arr2 = [6, 8, 0, 1, 3]\n",
    "print(findNextGreater(arr2))  # Output: [8, -1, 1, 3, -1]\n"
   ]
  },
  {
   "cell_type": "code",
   "execution_count": null,
   "id": "4e9612e7",
   "metadata": {},
   "outputs": [],
   "source": []
  },
  {
   "cell_type": "markdown",
   "id": "a02ad117",
   "metadata": {},
   "source": [
    "<aside>\n",
    "💡 **Question 2**\n",
    "\n",
    "Given an array **a** of integers of length **n**, find the nearest smaller number for every element such that the smaller element is on left side.If no small element present on the left print -1.\n",
    "\n",
    "**Example 1:**\n",
    "\n",
    "```\n",
    "Input: n = 3\n",
    "a = {1, 6, 2}\n",
    "Output: -1 1 1\n",
    "Explaination: There is no number at the\n",
    "left of 1. Smaller number than 6 and 2 is 1.\n",
    "```\n",
    "\n",
    "**Example 2:**\n",
    "\n",
    "```\n",
    "Input: n = 6\n",
    "a = {1, 5, 0, 3, 4, 5}\n",
    "Output: -1 1 -1 0 3 4\n",
    "Explaination: Upto 3 it is easy to see\n",
    "the smaller numbers. But for 4 the smaller\n",
    "numbers are 1, 0 and 3. But among them 3\n",
    "is closest. Similary for 5 it is 4.\n",
    "```\n",
    "\n",
    "</aside>"
   ]
  },
  {
   "cell_type": "markdown",
   "id": "65a47c22",
   "metadata": {},
   "source": [
    "**Ans:-**\n",
    "To find the nearest smaller number on the left for each element in the array, we can use a stack data structure.\n",
    "\n",
    "Here's the algorithm to solve the problem:\n",
    "\n",
    "1. Create an empty stack and initialize the result array with -1 for all elements.\n",
    "2. Iterate through the array elements from left to right:\n",
    "   - While the stack is not empty and the top element of the stack is greater than or equal to the current element, pop elements from the stack.\n",
    "   - If the stack becomes empty, there is no smaller element on the left of the current element, so the result for that element remains -1.\n",
    "   - If the stack is not empty, the top element of the stack is the nearest smaller element on the left of the current element. Store it in the result array.\n",
    "   - Push the current element onto the stack.\n",
    "3. Return the result array.\n",
    "\n"
   ]
  },
  {
   "cell_type": "code",
   "execution_count": 5,
   "id": "b3c0d98f",
   "metadata": {},
   "outputs": [],
   "source": [
    "def findNearestSmaller(a):\n",
    "    n = len(a)\n",
    "    stack = []\n",
    "    result = [-1] * n\n",
    "\n",
    "    for i in range(n):\n",
    "        while stack and stack[-1] >= a[i]:\n",
    "            stack.pop()\n",
    "\n",
    "        if stack:\n",
    "            result[i] = stack[-1]\n",
    "\n",
    "        stack.append(a[i])\n",
    "\n",
    "    return result\n"
   ]
  },
  {
   "cell_type": "code",
   "execution_count": 6,
   "id": "dfb0b41a",
   "metadata": {},
   "outputs": [
    {
     "name": "stdout",
     "output_type": "stream",
     "text": [
      "[-1, 1, 1]\n",
      "[-1, 1, -1, 0, 3, 4]\n"
     ]
    }
   ],
   "source": [
    "a1 = [1, 6, 2]\n",
    "print(findNearestSmaller(a1))  # Output: [-1, 1, 1]\n",
    "\n",
    "a2 = [1, 5, 0, 3, 4, 5]\n",
    "print(findNearestSmaller(a2))  # Output: [-1, 1, -1, 0, 3, 4]\n"
   ]
  },
  {
   "cell_type": "code",
   "execution_count": null,
   "id": "7be3b482",
   "metadata": {},
   "outputs": [],
   "source": []
  },
  {
   "cell_type": "markdown",
   "id": "3b966bdb",
   "metadata": {},
   "source": [
    "<aside>\n",
    "💡 **Question 3**\n",
    "\n",
    "Implement a Stack using two queues **q1** and **q2**.\n",
    "\n",
    "**Example 1:**\n",
    "\n",
    "```\n",
    "Input:\n",
    "push(2)\n",
    "push(3)\n",
    "pop()\n",
    "push(4)\n",
    "pop()\n",
    "Output:3 4\n",
    "Explanation:\n",
    "push(2) the stack will be {2}\n",
    "push(3) the stack will be {2 3}\n",
    "pop()   poped element will be 3 the\n",
    "        stack will be {2}\n",
    "push(4) the stack will be {2 4}\n",
    "pop()   poped element will be 4\n",
    "\n",
    "```\n",
    "\n",
    "**Example 2:**\n",
    "\n",
    "```\n",
    "Input:\n",
    "push(2)\n",
    "pop()\n",
    "pop()\n",
    "push(3)\n",
    "Output:2 -1\n",
    "```\n",
    "\n",
    "</aside>"
   ]
  },
  {
   "cell_type": "markdown",
   "id": "a0433e32",
   "metadata": {},
   "source": [
    "**Ans:-**\n",
    "To implement a stack using two queues, we can utilize the properties of the queues to mimic the behavior of a stack.\n",
    "\n",
    "Here's the algorithm to implement a stack using two queues:\n",
    "\n",
    "1. Create two empty queues, q1 and q2.\n",
    "2. For the push operation:\n",
    "   - Add the new element to q1.\n",
    "3. For the pop operation:\n",
    "   - Move all the elements from q1 to q2, except the last element.\n",
    "   - Remove and return the last element from q1.\n",
    "   - Swap the names of q1 and q2, so that q2 becomes the empty queue and q1 becomes the main queue for future operations.\n",
    "4. For the top operation:\n",
    "   - Move all the elements from q1 to q2, except the last element.\n",
    "   - Get and return the last element from q1.\n",
    "   - Swap the names of q1 and q2, so that q2 becomes the empty queue and q1 becomes the main queue for future operations.\n",
    "5. For the empty operation:\n",
    "   - Return True if both q1 and q2 are empty, indicating that the stack is empty. Otherwise, return False.\n"
   ]
  },
  {
   "cell_type": "code",
   "execution_count": 7,
   "id": "c22e5aaa",
   "metadata": {},
   "outputs": [],
   "source": [
    "class Stack:\n",
    "    def __init__(self):\n",
    "        self.q1 = []\n",
    "        self.q2 = []\n",
    "\n",
    "    def push(self, x):\n",
    "        self.q1.append(x)\n",
    "\n",
    "    def pop(self):\n",
    "        if not self.q1:\n",
    "            return -1\n",
    "\n",
    "        while len(self.q1) > 1:\n",
    "            self.q2.append(self.q1.pop(0))\n",
    "\n",
    "        element = self.q1.pop(0)\n",
    "\n",
    "        self.q1, self.q2 = self.q2, self.q1\n",
    "\n",
    "        return element\n",
    "\n",
    "    def top(self):\n",
    "        if not self.q1:\n",
    "            return -1\n",
    "\n",
    "        while len(self.q1) > 1:\n",
    "            self.q2.append(self.q1.pop(0))\n",
    "\n",
    "        element = self.q1[0]\n",
    "\n",
    "        self.q2.append(self.q1.pop(0))\n",
    "\n",
    "        self.q1, self.q2 = self.q2, self.q1\n",
    "\n",
    "        return element\n",
    "\n",
    "    def empty(self):\n",
    "        return len(self.q1) == 0 and len(self.q2) == 0\n"
   ]
  },
  {
   "cell_type": "code",
   "execution_count": 8,
   "id": "5c19d424",
   "metadata": {},
   "outputs": [
    {
     "name": "stdout",
     "output_type": "stream",
     "text": [
      "3\n",
      "4\n",
      "2\n",
      "-1\n",
      "3\n"
     ]
    }
   ],
   "source": [
    "stack = Stack()\n",
    "stack.push(2)\n",
    "stack.push(3)\n",
    "print(stack.pop())  # Output: 3\n",
    "stack.push(4)\n",
    "print(stack.pop())  # Output: 4\n",
    "\n",
    "stack = Stack()\n",
    "stack.push(2)\n",
    "print(stack.pop())  # Output: 2\n",
    "print(stack.pop())  # Output: -1\n",
    "stack.push(3)\n",
    "print(stack.top())  # Output: 3\n"
   ]
  },
  {
   "cell_type": "code",
   "execution_count": null,
   "id": "deb0db85",
   "metadata": {},
   "outputs": [],
   "source": []
  },
  {
   "cell_type": "markdown",
   "id": "c5443a63",
   "metadata": {},
   "source": [
    "<aside>\n",
    "💡 **Question 4**\n",
    "\n",
    "You are given a stack **St**. You have to reverse the stack using recursion.\n",
    "\n",
    "**Example 1:**\n",
    "\n",
    "```\n",
    "Input:St = {3,2,1,7,6}\n",
    "Output:{6,7,1,2,3}\n",
    "```\n",
    "\n",
    "**Example 2:**\n",
    "\n",
    "```\n",
    "Input:St = {4,3,9,6}\n",
    "Output:{6,9,3,4}\n",
    "```\n",
    "\n",
    "</aside>"
   ]
  },
  {
   "cell_type": "markdown",
   "id": "9be5779f",
   "metadata": {},
   "source": [
    "**Ans:-**\n",
    "To reverse a stack using recursion, we can use the following approach:\n",
    "\n",
    "1. Create a recursive function called `reverseStack` that takes the stack `St` as a parameter.\n",
    "2. If the stack is empty or contains only one element, return the stack as it is.\n",
    "3. Otherwise, remove the top element from the stack using the `pop` operation and store it in a variable called `topElement`.\n",
    "4. Recursively call the `reverseStack` function on the remaining stack.\n",
    "5. After the recursive call, insert the `topElement` at the bottom of the reversed stack using the `push` operation.\n",
    "6. Return the reversed stack.\n"
   ]
  },
  {
   "cell_type": "code",
   "execution_count": 11,
   "id": "df95925f",
   "metadata": {},
   "outputs": [
    {
     "name": "stdout",
     "output_type": "stream",
     "text": [
      "[6, 7, 1, 2, 3]\n"
     ]
    }
   ],
   "source": [
    "def insertAtBottom(St, item):\n",
    "    if len(St) == 0:\n",
    "        St.append(item)\n",
    "    else:\n",
    "        temp = St.pop()\n",
    "        insertAtBottom(St, item)\n",
    "        St.append(temp)\n",
    "\n",
    "def reverseStack(St):\n",
    "    if len(St) > 0:\n",
    "        top = St.pop()\n",
    "        reverseStack(St)\n",
    "        insertAtBottom(St, top)\n",
    "\n",
    "# Example usage:\n",
    "St = [3, 2, 1, 7, 6]\n",
    "reverseStack(St)\n",
    "print(St)  # Output: [6, 7, 1, 2, 3]\n"
   ]
  },
  {
   "cell_type": "code",
   "execution_count": null,
   "id": "cb9197ed",
   "metadata": {},
   "outputs": [],
   "source": []
  },
  {
   "cell_type": "markdown",
   "id": "833707b7",
   "metadata": {},
   "source": [
    "<aside>\n",
    "💡 **Question 5**\n",
    "\n",
    "You are given a string **S**, the task is to reverse the string using stack.\n",
    "\n",
    "**Example 1:**\n",
    "\n",
    "```\n",
    "Input: S=\"GeeksforGeeks\"\n",
    "Output: skeeGrofskeeG\n",
    "```\n",
    "\n",
    "</aside>"
   ]
  },
  {
   "cell_type": "markdown",
   "id": "cab523ba",
   "metadata": {},
   "source": [
    "**Ans:-**\n",
    "To reverse a string using a stack, you can follow these steps:\n",
    "\n",
    "1. Create an empty stack.\n",
    "2. Iterate through each character in the string `S`.\n",
    "3. Push each character onto the stack.\n",
    "4. Pop characters from the stack and append them to a new string.\n",
    "5. The new string will be the reversed version of `S`.\n"
   ]
  },
  {
   "cell_type": "code",
   "execution_count": 12,
   "id": "302536f5",
   "metadata": {},
   "outputs": [
    {
     "name": "stdout",
     "output_type": "stream",
     "text": [
      "skeeGrofskeeG\n"
     ]
    }
   ],
   "source": [
    "def reverseString(S):\n",
    "    stack = []\n",
    "    reversedString = \"\"\n",
    "    \n",
    "    # Push each character onto the stack\n",
    "    for char in S:\n",
    "        stack.append(char)\n",
    "    \n",
    "    # Pop characters from the stack and append them to the reversedString\n",
    "    while len(stack) > 0:\n",
    "        reversedString += stack.pop()\n",
    "    \n",
    "    return reversedString\n",
    "\n",
    "# Example usage:\n",
    "S = \"GeeksforGeeks\"\n",
    "reversedS = reverseString(S)\n",
    "print(reversedS)  # Output: skeeGrofskeeG\n"
   ]
  },
  {
   "cell_type": "code",
   "execution_count": null,
   "id": "214a803c",
   "metadata": {},
   "outputs": [],
   "source": []
  },
  {
   "cell_type": "markdown",
   "id": "4ecdbb7d",
   "metadata": {},
   "source": [
    "<aside>\n",
    "💡 **Question 6**\n",
    "\n",
    "Given string **S** representing a postfix expression, the task is to evaluate the expression and find the final value. Operators will only include the basic arithmetic operators like ***, /, + and -**.\n",
    "\n",
    "**Example 1:**\n",
    "\n",
    "```\n",
    "Input: S = \"231*+9-\"\n",
    "Output: -4\n",
    "Explanation:\n",
    "After solving the given expression,\n",
    "we have -4 as result.\n",
    "\n",
    "```\n",
    "\n",
    "**Example 2:**\n",
    "\n",
    "```\n",
    "Input: S = \"123+*8-\"\n",
    "Output: -3\n",
    "Explanation:\n",
    "After solving the given postfix\n",
    "expression, we have -3 as result.\n",
    "```\n",
    "\n",
    "</aside>"
   ]
  },
  {
   "cell_type": "markdown",
   "id": "886043cd",
   "metadata": {},
   "source": [
    "**Ans:-**\n",
    "To evaluate a postfix expression, you can use a stack and follow these steps:\n",
    "\n",
    "1. Create an empty stack.\n",
    "2. Iterate through each character in the postfix expression `S`.\n",
    "   - If the character is a number, convert it to an integer and push it onto the stack.\n",
    "   - If the character is an operator (`*, /, +, -`), pop the top two elements from the stack.\n",
    "     - Perform the corresponding operation on the two elements (e.g., if the operator is `*`, multiply them).\n",
    "     - Push the result back onto the stack.\n",
    "3. After iterating through all the characters in `S`, the final result will be the top element of the stack.\n"
   ]
  },
  {
   "cell_type": "code",
   "execution_count": 13,
   "id": "194fe1d1",
   "metadata": {},
   "outputs": [
    {
     "name": "stdout",
     "output_type": "stream",
     "text": [
      "-4\n",
      "-3\n"
     ]
    }
   ],
   "source": [
    "def evaluatePostfix(S):\n",
    "    stack = []\n",
    "    \n",
    "    for char in S:\n",
    "        if char.isdigit():\n",
    "            stack.append(int(char))\n",
    "        else:\n",
    "            operand2 = stack.pop()\n",
    "            operand1 = stack.pop()\n",
    "            result = performOperation(operand1, operand2, char)\n",
    "            stack.append(result)\n",
    "    \n",
    "    return stack.pop()\n",
    "\n",
    "def performOperation(operand1, operand2, operator):\n",
    "    if operator == '*':\n",
    "        return operand1 * operand2\n",
    "    elif operator == '/':\n",
    "        return operand1 / operand2\n",
    "    elif operator == '+':\n",
    "        return operand1 + operand2\n",
    "    elif operator == '-':\n",
    "        return operand1 - operand2\n",
    "\n",
    "# Example usage:\n",
    "S = \"231*+9-\"\n",
    "result = evaluatePostfix(S)\n",
    "print(result)  # Output: -4\n",
    "\n",
    "S = \"123+*8-\"\n",
    "result = evaluatePostfix(S)\n",
    "print(result)  # Output: -3\n"
   ]
  },
  {
   "cell_type": "code",
   "execution_count": null,
   "id": "0ffd6b65",
   "metadata": {},
   "outputs": [],
   "source": []
  },
  {
   "cell_type": "markdown",
   "id": "b7963dc0",
   "metadata": {},
   "source": [
    "<aside>\n",
    "💡 **Question 7**\n",
    "\n",
    "Design a stack that supports push, pop, top, and retrieving the minimum element in constant time.\n",
    "\n",
    "Implement the `MinStack` class:\n",
    "\n",
    "- `MinStack()` initializes the stack object.\n",
    "- `void push(int val)` pushes the element `val` onto the stack.\n",
    "- `void pop()` removes the element on the top of the stack.\n",
    "- `int top()` gets the top element of the stack.\n",
    "- `int getMin()` retrieves the minimum element in the stack.\n",
    "\n",
    "You must implement a solution with `O(1)` time complexity for each function.\n",
    "\n",
    "**Example 1:**\n",
    "\n",
    "```\n",
    "Input\n",
    "[\"MinStack\",\"push\",\"push\",\"push\",\"getMin\",\"pop\",\"top\",\"getMin\"]\n",
    "[[],[-2],[0],[-3],[],[],[],[]]\n",
    "\n",
    "Output\n",
    "[null,null,null,null,-3,null,0,-2]\n",
    "\n",
    "Explanation\n",
    "MinStack minStack = new MinStack();\n",
    "minStack.push(-2);\n",
    "minStack.push(0);\n",
    "minStack.push(-3);\n",
    "minStack.getMin(); // return -3\n",
    "minStack.pop();\n",
    "minStack.top();    // return 0\n",
    "minStack.getMin(); // return -2\n",
    "```\n",
    "\n",
    "</aside>"
   ]
  },
  {
   "cell_type": "markdown",
   "id": "274ae8e0",
   "metadata": {},
   "source": [
    "**Ans:-**\n",
    "To design a stack that supports push, pop, top, and retrieving the minimum element in constant time, we can use an additional stack to keep track of the minimum elements."
   ]
  },
  {
   "cell_type": "code",
   "execution_count": 14,
   "id": "bf4ee507",
   "metadata": {},
   "outputs": [],
   "source": [
    "class MinStack:\n",
    "    def __init__(self):\n",
    "        self.stack = []\n",
    "        self.min_stack = []\n",
    "\n",
    "    def push(self, val):\n",
    "        self.stack.append(val)\n",
    "        if not self.min_stack or val <= self.min_stack[-1]:\n",
    "            self.min_stack.append(val)\n",
    "\n",
    "    def pop(self):\n",
    "        if self.stack.pop() == self.min_stack[-1]:\n",
    "            self.min_stack.pop()\n",
    "\n",
    "    def top(self):\n",
    "        return self.stack[-1]\n",
    "\n",
    "    def getMin(self):\n",
    "        return self.min_stack[-1]\n"
   ]
  },
  {
   "cell_type": "markdown",
   "id": "142dfe2d",
   "metadata": {},
   "source": [
    "Explanation:\n",
    "- The `MinStack` class initializes two stacks: `stack` to store the elements and `min_stack` to store the minimum elements.\n",
    "- When pushing a new value onto the stack, we append it to the `stack`. If the `min_stack` is empty or the new value is less than or equal to the current minimum (top of `min_stack`), we also append it to the `min_stack`.\n",
    "- When popping an element, we compare it with the top of the `min_stack`. If they are equal, it means the minimum value is being removed, so we also pop it from the `min_stack`.\n",
    "- The `top()` function returns the top element of the `stack`.\n",
    "- The `getMin()` function returns the top element of the `min_stack`, which represents the minimum value in the stack.\n",
    "\n",
    "The time complexity of all the operations (push, pop, top, getMin) is O(1) because we are performing constant time operations on the stacks."
   ]
  },
  {
   "cell_type": "code",
   "execution_count": null,
   "id": "59ec59be",
   "metadata": {},
   "outputs": [],
   "source": []
  },
  {
   "cell_type": "markdown",
   "id": "c816b9ed",
   "metadata": {},
   "source": [
    "<aside>\n",
    "💡 **Question 8**\n",
    "\n",
    "Given `n` non-negative integers representing an elevation map where the width of each bar is `1`, compute how much water it can trap after raining.\n",
    "\n",
    "**Example 1:**\n",
    "\n",
    "!https://assets.leetcode.com/uploads/2018/10/22/rainwatertrap.png\n",
    "\n",
    "```\n",
    "Input: height = [0,1,0,2,1,0,1,3,2,1,2,1]\n",
    "Output: 6\n",
    "Explanation: The above elevation map (black section) is represented by array [0,1,0,2,1,0,1,3,2,1,2,1]. In this case, 6 units of rain water (blue section) are being trapped.\n",
    "\n",
    "```\n",
    "\n",
    "**Example 2:**\n",
    "\n",
    "```\n",
    "Input: height = [4,2,0,3,2,5]\n",
    "Output: 9\n",
    "```\n",
    "\n",
    "</aside>"
   ]
  },
  {
   "attachments": {
    "image.png": {
     "image/png": "[encoded data removed]"
    }
   },
   "cell_type": "markdown",
   "id": "caba5f64",
   "metadata": {},
   "source": [
    "![image.png](attachment:image.png)"
   ]
  },
  {
   "cell_type": "markdown",
   "id": "3d09b275",
   "metadata": {},
   "source": [
    "**Ans:-**\n",
    "To compute how much water can be trapped after raining in the given elevation map, we can use a two-pointer approach.\n",
    "\n",
    "Here's the algorithm to solve the problem:\n",
    "\n",
    "1. Initialize two pointers, `left` and `right`, at the beginning and end of the elevation map, respectively.\n",
    "2. Initialize two variables, `left_max` and `right_max`, to keep track of the maximum height encountered from the left and right side, respectively. Set both variables to 0.\n",
    "3. Initialize a variable `water` to store the total amount of trapped water. Set it to 0.\n",
    "4. Iterate while the `left` pointer is less than or equal to the `right` pointer:\n",
    "   - If the height at the `left` pointer is less than or equal to the height at the `right` pointer:\n",
    "     - If the height at the `left` pointer is greater than `left_max`, update `left_max` with the current height.\n",
    "     - Otherwise, calculate the water trapped at the `left` pointer position as `left_max - height[left]` and add it to `water`.\n",
    "     - Move the `left` pointer one step to the right.\n",
    "   - If the height at the `right` pointer is less than the height at the `left` pointer:\n",
    "     - If the height at the `right` pointer is greater than `right_max`, update `right_max` with the current height.\n",
    "     - Otherwise, calculate the water trapped at the `right` pointer position as `right_max - height[right]` and add it to `water`.\n",
    "     - Move the `right` pointer one step to the left.\n",
    "5. Return the total trapped water stored in the `water` variable.\n"
   ]
  },
  {
   "cell_type": "code",
   "execution_count": 1,
   "id": "3a2223fd",
   "metadata": {},
   "outputs": [],
   "source": [
    "def trap(height):\n",
    "    left = 0\n",
    "    right = len(height) - 1\n",
    "    left_max = right_max = water = 0\n",
    "\n",
    "    while left <= right:\n",
    "        if height[left] <= height[right]:\n",
    "            if height[left] > left_max:\n",
    "                left_max = height[left]\n",
    "            else:\n",
    "                water += left_max - height[left]\n",
    "            left += 1\n",
    "        else:\n",
    "            if height[right] > right_max:\n",
    "                right_max = height[right]\n",
    "            else:\n",
    "                water += right_max - height[right]\n",
    "            right -= 1\n",
    "\n",
    "    return water\n"
   ]
  },
  {
   "cell_type": "code",
   "execution_count": 2,
   "id": "f5b1278a",
   "metadata": {},
   "outputs": [
    {
     "name": "stdout",
     "output_type": "stream",
     "text": [
      "6\n",
      "9\n"
     ]
    }
   ],
   "source": [
    "height1 = [0, 1, 0, 2, 1, 0, 1, 3, 2, 1, 2, 1]\n",
    "print(trap(height1))  # Output: 6\n",
    "\n",
    "height2 = [4, 2, 0, 3, 2, 5]\n",
    "print(trap(height2))  # Output: 9\n"
   ]
  },
  {
   "cell_type": "code",
   "execution_count": null,
   "id": "ce58a394",
   "metadata": {},
   "outputs": [],
   "source": []
  }
 ],
 "metadata": {
  "kernelspec": {
   "display_name": "Python 3 (ipykernel)",
   "language": "python",
   "name": "python3"
  },
  "language_info": {
   "codemirror_mode": {
    "name": "ipython",
    "version": 3
   },
   "file_extension": ".py",
   "mimetype": "text/x-python",
   "name": "python",
   "nbconvert_exporter": "python",
   "pygments_lexer": "ipython3",
   "version": "3.10.9"
  }
 },
 "nbformat": 4,
 "nbformat_minor": 5
}
