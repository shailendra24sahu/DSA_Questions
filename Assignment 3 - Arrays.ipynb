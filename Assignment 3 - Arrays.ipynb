{
 "cells": [
  {
   "cell_type": "markdown",
   "id": "4443362b",
   "metadata": {},
   "source": [
    "Question 1\n",
    "Given an integer array nums of length n and an integer target, find three integers\n",
    "in nums such that the sum is closest to the target.\n",
    "Return the sum of the three integers.\n",
    "\n",
    "You may assume that each input would have exactly one solution.\n",
    "\n",
    "Example 1:\n",
    "Input: nums = [-1,2,1,-4], target = 1\n",
    "Output: 2\n",
    "\n",
    "Explanation: The sum that is closest to the target is 2. (-1 + 2 + 1 = 2)."
   ]
  },
  {
   "cell_type": "markdown",
   "id": "ca57dcf6",
   "metadata": {},
   "source": [
    "**Ans:-**\n",
    "To find three integers in the given array nums whose sum is closest to the target, we can use a two-pointer approach. Here's an algorithm to solve the problem:\n",
    "\n",
    "Sort the input array nums in ascending order.\n",
    "Initialize a variable closestSum to store the closest sum found so far. Set it to a large value, such as positive infinity.\n",
    "Iterate over the array nums from the beginning, considering each element as the potential first element of the triplet.\n",
    "For the current element nums[i], initialize two pointers: left = i + 1 and right = n - 1, where n is the length of nums.\n",
    "While left is less than right:\n",
    "Calculate the current sum: currentSum = nums[i] + nums[left] + nums[right].\n",
    "If the absolute difference between currentSum and target is smaller than the absolute difference between closestSum and target, update closestSum to currentSum.\n",
    "If currentSum is less than target, increment left to consider a larger element.\n",
    "If currentSum is greater than target, decrement right to consider a smaller element.\n",
    "If currentSum is equal to target, return currentSum as the sum of the closest triplet.\n",
    "After the loop ends, return closestSum as the sum of the closest triplet."
   ]
  },
  {
   "cell_type": "code",
   "execution_count": 1,
   "id": "4649c8c3",
   "metadata": {},
   "outputs": [],
   "source": [
    "def threeSumClosest(nums, target):\n",
    "    nums.sort()\n",
    "    n = len(nums)\n",
    "    closestSum = float('inf')\n",
    "\n",
    "    for i in range(n):\n",
    "        left = i + 1\n",
    "        right = n - 1\n",
    "\n",
    "        while left < right:\n",
    "            currentSum = nums[i] + nums[left] + nums[right]\n",
    "            if abs(currentSum - target) < abs(closestSum - target):\n",
    "                closestSum = currentSum\n",
    "\n",
    "            if currentSum < target:\n",
    "                left += 1\n",
    "            elif currentSum > target:\n",
    "                right -= 1\n",
    "            else:\n",
    "                return currentSum\n",
    "\n",
    "    return closestSum"
   ]
  },
  {
   "cell_type": "code",
   "execution_count": 2,
   "id": "2fa8a5c8",
   "metadata": {},
   "outputs": [
    {
     "name": "stdout",
     "output_type": "stream",
     "text": [
      "2\n"
     ]
    }
   ],
   "source": [
    "nums = [-1, 2, 1, -4]\n",
    "target = 1\n",
    "result = threeSumClosest(nums, target)\n",
    "print(result)"
   ]
  },
  {
   "cell_type": "code",
   "execution_count": null,
   "id": "796517a3",
   "metadata": {},
   "outputs": [],
   "source": []
  },
  {
   "cell_type": "markdown",
   "id": "2957657c",
   "metadata": {},
   "source": [
    "Question 2\n",
    "Given an array nums of n integers, return an array of all the unique quadruplets\n",
    "[nums[a], nums[b], nums[c], nums[d]] such that:\n",
    "           ● 0 <= a, b, c, d < n\n",
    "           ● a, b, c, and d are distinct.\n",
    "           ● nums[a] + nums[b] + nums[c] + nums[d] == target\n",
    "\n",
    "You may return the answer in any order.\n",
    "\n",
    "Example 1:\n",
    "Input: nums = [1,0,-1,0,-2,2], target = 0\n",
    "Output: [[-2,-1,1,2],[-2,0,0,2],[-1,0,0,1]]"
   ]
  },
  {
   "cell_type": "markdown",
   "id": "1d775287",
   "metadata": {},
   "source": [
    "**Ans:-**\n",
    "To find all unique quadruplets in the given array `nums` that sum up to the target, we can use a combination of sorting and a two-pointer approach. Here's an algorithm to solve the problem:\n",
    "\n",
    "1. Sort the input array `nums` in ascending order.\n",
    "2. Initialize an empty list `result` to store the unique quadruplets.\n",
    "3. Iterate over the array `nums` up to the third-to-last element. Let's call this element `a`.\n",
    "   - If `a` is greater than `target` divided by 4 (since we need at least four numbers to reach the target), break the loop as further elements will also be greater than the target.\n",
    "   - If `a` is the same as the previous element, skip it to avoid duplicates.\n",
    "   - Iterate over the remaining elements from `a+1` to the last element. Let's call this element `b`.\n",
    "     - If `b` is the same as the previous element, skip it to avoid duplicates.\n",
    "     - Initialize two pointers: `left = b + 1` and `right = n - 1`, where `n` is the length of `nums`.\n",
    "     - While `left` is less than `right`:\n",
    "       - Calculate the current sum: `currentSum = nums[a] + nums[b] + nums[left] + nums[right]`.\n",
    "       - If `currentSum` is equal to the target, add the quadruplet `[nums[a], nums[b], nums[left], nums[right]]` to `result`.\n",
    "         - Increment `left` and decrement `right` to explore other possible combinations.\n",
    "         - Skip any duplicate elements for `left` and `right`.\n",
    "       - If `currentSum` is less than the target, increment `left` to consider a larger element.\n",
    "       - If `currentSum` is greater than the target, decrement `right` to consider a smaller element.\n",
    "4. Return `result` containing all the unique quadruplets.\n"
   ]
  },
  {
   "cell_type": "code",
   "execution_count": 3,
   "id": "493f8110",
   "metadata": {},
   "outputs": [],
   "source": [
    "def fourSum(nums, target):\n",
    "    nums.sort()\n",
    "    n = len(nums)\n",
    "    result = []\n",
    "\n",
    "    for a in range(n - 3):\n",
    "        if a > 0 and nums[a] == nums[a - 1]:\n",
    "            continue\n",
    "\n",
    "        if nums[a] > target // 4:\n",
    "            break\n",
    "\n",
    "        for b in range(a + 1, n - 2):\n",
    "            if b > a + 1 and nums[b] == nums[b - 1]:\n",
    "                continue\n",
    "\n",
    "            left = b + 1\n",
    "            right = n - 1\n",
    "\n",
    "            while left < right:\n",
    "                currentSum = nums[a] + nums[b] + nums[left] + nums[right]\n",
    "\n",
    "                if currentSum == target:\n",
    "                    result.append([nums[a], nums[b], nums[left], nums[right]])\n",
    "                    left += 1\n",
    "                    right -= 1\n",
    "\n",
    "                    while left < right and nums[left] == nums[left - 1]:\n",
    "                        left += 1\n",
    "                    while left < right and nums[right] == nums[right + 1]:\n",
    "                        right -= 1\n",
    "\n",
    "                elif currentSum < target:\n",
    "                    left += 1\n",
    "                else:\n",
    "                    right -= 1\n",
    "\n",
    "    return result"
   ]
  },
  {
   "cell_type": "code",
   "execution_count": 4,
   "id": "9f6600f7",
   "metadata": {},
   "outputs": [
    {
     "name": "stdout",
     "output_type": "stream",
     "text": [
      "[[-2, -1, 1, 2], [-2, 0, 0, 2], [-1, 0, 0, 1]]\n"
     ]
    }
   ],
   "source": [
    "nums = [1, 0, -1, 0, -2, 2]\n",
    "target = 0\n",
    "result = fourSum(nums, target)\n",
    "print(result)"
   ]
  },
  {
   "cell_type": "code",
   "execution_count": null,
   "id": "c037b581",
   "metadata": {},
   "outputs": [],
   "source": []
  },
  {
   "cell_type": "markdown",
   "id": "1cf4aede",
   "metadata": {},
   "source": [
    "<aside>\n",
    "💡 **Question 3**\n",
    "A permutation of an array of integers is an arrangement of its members into a\n",
    "sequence or linear order.\n",
    "\n",
    "For example, for arr = [1,2,3], the following are all the permutations of arr:\n",
    "[1,2,3], [1,3,2], [2, 1, 3], [2, 3, 1], [3,1,2], [3,2,1].\n",
    "\n",
    "The next permutation of an array of integers is the next lexicographically greater\n",
    "permutation of its integer. More formally, if all the permutations of the array are\n",
    "sorted in one container according to their lexicographical order, then the next\n",
    "permutation of that array is the permutation that follows it in the sorted container.\n",
    "\n",
    "If such an arrangement is not possible, the array must be rearranged as the\n",
    "lowest possible order (i.e., sorted in ascending order).\n",
    "\n",
    "● For example, the next permutation of arr = [1,2,3] is [1,3,2].\n",
    "● Similarly, the next permutation of arr = [2,3,1] is [3,1,2].\n",
    "● While the next permutation of arr = [3,2,1] is [1,2,3] because [3,2,1] does not\n",
    "have a lexicographical larger rearrangement.\n",
    "\n",
    "Given an array of integers nums, find the next permutation of nums.\n",
    "The replacement must be in place and use only constant extra memory.\n",
    "\n",
    "**Example 1:**\n",
    "Input: nums = [1,2,3]\n",
    "Output: [1,3,2]\n",
    "\n",
    "</aside>"
   ]
  },
  {
   "cell_type": "markdown",
   "id": "359503ca",
   "metadata": {},
   "source": [
    "**Ans:-**\n",
    "To find the next permutation of an array of integers, we can follow these steps:\n",
    "\n",
    "1. Start from the rightmost element of the array and find the first pair of consecutive elements, `nums[i]` and `nums[i-1]`, such that `nums[i] > nums[i-1]`.\n",
    "2. If no such pair is found, it means the given array is in descending order, and we cannot generate the next lexicographically greater permutation. In this case, we reverse the entire array to get the lowest possible order.\n",
    "3. If a pair is found in step 1, we need to rearrange the array to get the next permutation. To do this, we perform the following steps:\n",
    "   - From the rightmost end, find the first element greater than `nums[i-1]`. Let's call this element `nums[j]`.\n",
    "   - Swap `nums[i-1]` with `nums[j]`.\n",
    "   - Reverse the subarray starting from `nums[i]` to the end of the array."
   ]
  },
  {
   "cell_type": "code",
   "execution_count": 5,
   "id": "27f72a59",
   "metadata": {},
   "outputs": [],
   "source": [
    "def nextPermutation(nums):\n",
    "    n = len(nums)\n",
    "    i = n - 2\n",
    "\n",
    "    # Find the first pair of consecutive elements from the right\n",
    "    # where nums[i] < nums[i+1]\n",
    "    while i >= 0 and nums[i] >= nums[i + 1]:\n",
    "        i -= 1\n",
    "\n",
    "    if i >= 0:\n",
    "        j = n - 1\n",
    "\n",
    "        # Find the first element greater than nums[i]\n",
    "        while nums[j] <= nums[i]:\n",
    "            j -= 1\n",
    "\n",
    "        # Swap nums[i] with nums[j]\n",
    "        nums[i], nums[j] = nums[j], nums[i]\n",
    "\n",
    "    # Reverse the subarray from i+1 to the end\n",
    "    left, right = i + 1, n - 1\n",
    "    while left < right:\n",
    "        nums[left], nums[right] = nums[right], nums[left]\n",
    "        left += 1\n",
    "        right -= 1\n",
    "\n",
    "    return nums"
   ]
  },
  {
   "cell_type": "code",
   "execution_count": 6,
   "id": "350c1b3a",
   "metadata": {},
   "outputs": [
    {
     "name": "stdout",
     "output_type": "stream",
     "text": [
      "[1, 3, 2]\n"
     ]
    }
   ],
   "source": [
    "nums = [1, 2, 3]\n",
    "next_perm = nextPermutation(nums)\n",
    "print(next_perm)  # Output: [1, 3, 2]"
   ]
  },
  {
   "cell_type": "code",
   "execution_count": null,
   "id": "6a8aa5f2",
   "metadata": {},
   "outputs": [],
   "source": []
  },
  {
   "cell_type": "markdown",
   "id": "bfdd8a81",
   "metadata": {},
   "source": [
    "Question 4\n",
    "Given a sorted array of distinct integers and a target value, return the index if the\n",
    "target is found. If not, return the index where it would be if it were inserted in\n",
    "order.\n",
    "\n",
    "You must write an algorithm with O(log n) runtime complexity.\n",
    "\n",
    "Example 1:\n",
    "Input: nums = [1,3,5,6], target = 5\n",
    "Output: 2"
   ]
  },
  {
   "cell_type": "markdown",
   "id": "7bccb952",
   "metadata": {},
   "source": [
    "**Ans:-**\n",
    "To find the index where a target value would be inserted in a sorted array, we can use a binary search algorithm with a slight modification. The binary search algorithm allows us to search for a specific target value efficiently in a sorted array.\n",
    "\n",
    "Here's the algorithm to find the index where the target would be inserted:\n",
    "\n",
    "1. Initialize two pointers, `left` and `right`, pointing to the start and end of the array, respectively.\n",
    "2. While `left <= right`, do the following:\n",
    "   - Calculate the middle index as `mid = (left + right) // 2`.\n",
    "   - If the middle element is equal to the target, return `mid` as the index where the target is found.\n",
    "   - If the middle element is greater than the target, update `right = mid - 1` to search in the left half of the array.\n",
    "   - If the middle element is less than the target, update `left = mid + 1` to search in the right half of the array.\n",
    "3. If the target is not found in the array, it means that `left` has passed `right`. Return `left` as the index where the target would be inserted.\n"
   ]
  },
  {
   "cell_type": "code",
   "execution_count": 7,
   "id": "67c80012",
   "metadata": {},
   "outputs": [],
   "source": [
    "def searchInsert(nums, target):\n",
    "    left = 0\n",
    "    right = len(nums) - 1\n",
    "\n",
    "    while left <= right:\n",
    "        mid = (left + right) // 2\n",
    "\n",
    "        if nums[mid] == target:\n",
    "            return mid\n",
    "        elif nums[mid] < target:\n",
    "            left = mid + 1\n",
    "        else:\n",
    "            right = mid - 1\n",
    "\n",
    "    return left"
   ]
  },
  {
   "cell_type": "code",
   "execution_count": 8,
   "id": "073d118d",
   "metadata": {},
   "outputs": [
    {
     "name": "stdout",
     "output_type": "stream",
     "text": [
      "2\n"
     ]
    }
   ],
   "source": [
    "nums = [1, 3, 5, 6]\n",
    "target = 5\n",
    "index = searchInsert(nums, target)\n",
    "print(index)  # Output: 2"
   ]
  },
  {
   "cell_type": "code",
   "execution_count": null,
   "id": "e64ad1a3",
   "metadata": {},
   "outputs": [],
   "source": []
  },
  {
   "cell_type": "markdown",
   "id": "8b24b24d",
   "metadata": {},
   "source": [
    "<aside>\n",
    "💡 **Question 5**\n",
    "You are given a large integer represented as an integer array digits, where each\n",
    "digits[i] is the ith digit of the integer. The digits are ordered from most significant\n",
    "to least significant in left-to-right order. The large integer does not contain any\n",
    "leading 0's.\n",
    "\n",
    "Increment the large integer by one and return the resulting array of digits.\n",
    "\n",
    "**Example 1:**\n",
    "Input: digits = [1,2,3]\n",
    "Output: [1,2,4]\n",
    "\n",
    "**Explanation:** The array represents the integer 123.\n",
    "Incrementing by one gives 123 + 1 = 124.\n",
    "Thus, the result should be [1,2,4].\n",
    "\n",
    "</aside>"
   ]
  },
  {
   "cell_type": "markdown",
   "id": "16a18c9a",
   "metadata": {},
   "source": [
    "**Ans:-**\n",
    "To increment a large integer represented as an array of digits by one, we can follow the process of addition with carry.\n",
    "\n",
    "Here's the algorithm to increment the large integer by one:\n",
    "\n",
    "1. Start from the rightmost digit.\n",
    "2. Add 1 to the rightmost digit.\n",
    "3. If the result is less than 10, no carry is generated, so we can return the updated array of digits.\n",
    "4. If the result is 10 or greater, there is a carry.\n",
    "   - Set the current digit to 0.\n",
    "   - Move one digit to the left and repeat steps 2-4.\n",
    "   - If we reach the leftmost digit and generate a carry, insert 1 at the beginning of the array.\n",
    "5. Return the updated array of digits."
   ]
  },
  {
   "cell_type": "code",
   "execution_count": 9,
   "id": "e558033d",
   "metadata": {},
   "outputs": [],
   "source": [
    "def plusOne(digits):\n",
    "    n = len(digits)\n",
    "    for i in range(n - 1, -1, -1):\n",
    "        digits[i] += 1\n",
    "        if digits[i] < 10:\n",
    "            return digits\n",
    "        else:\n",
    "            digits[i] = 0\n",
    "\n",
    "    digits.insert(0, 1)\n",
    "    return digits"
   ]
  },
  {
   "cell_type": "code",
   "execution_count": 10,
   "id": "4df9c211",
   "metadata": {},
   "outputs": [
    {
     "name": "stdout",
     "output_type": "stream",
     "text": [
      "[1, 2, 4]\n"
     ]
    }
   ],
   "source": [
    "digits = [1, 2, 3]\n",
    "result = plusOne(digits)\n",
    "print(result)  # Output: [1, 2, 4]"
   ]
  },
  {
   "cell_type": "code",
   "execution_count": null,
   "id": "c6a4ef99",
   "metadata": {},
   "outputs": [],
   "source": []
  },
  {
   "cell_type": "markdown",
   "id": "63bb2130",
   "metadata": {},
   "source": [
    "Question 6\n",
    "Given a non-empty array of integers nums, every element appears twice except\n",
    "for one. Find that single one.\n",
    "\n",
    "You must implement a solution with a linear runtime complexity and use only\n",
    "constant extra space.\n",
    "\n",
    "Example 1:\n",
    "Input: nums = [2,2,1]\n",
    "Output: 1"
   ]
  },
  {
   "cell_type": "markdown",
   "id": "8f417f2a",
   "metadata": {},
   "source": [
    "**Ans:-**\n",
    "To find the single element in an array where every other element appears twice, we can use the bitwise XOR operation. The XOR operation has the property that if we XOR a number with itself, the result is 0. Additionally, XOR is commutative, meaning the order of XOR operations does not matter.\n",
    "\n",
    "Here's the algorithm to find the single element:\n",
    "\n",
    "1. Initialize a variable `result` to 0.\n",
    "2. Iterate through each element `num` in the array `nums`.\n",
    "   - Update `result` by performing the XOR operation between `result` and `num`.\n",
    "3. After iterating through all the elements, the value of `result` will be the single element that appears only once in the array.\n",
    "4. Return `result`."
   ]
  },
  {
   "cell_type": "code",
   "execution_count": 11,
   "id": "e1d6b896",
   "metadata": {},
   "outputs": [],
   "source": [
    "def singleNumber(nums):\n",
    "    result = 0\n",
    "    for num in nums:\n",
    "        result ^= num\n",
    "    return result"
   ]
  },
  {
   "cell_type": "code",
   "execution_count": 12,
   "id": "a82e75aa",
   "metadata": {},
   "outputs": [
    {
     "name": "stdout",
     "output_type": "stream",
     "text": [
      "1\n"
     ]
    }
   ],
   "source": [
    "nums = [2, 2, 1]\n",
    "result = singleNumber(nums)\n",
    "print(result)  # Output: 1"
   ]
  },
  {
   "cell_type": "code",
   "execution_count": null,
   "id": "063e4040",
   "metadata": {},
   "outputs": [],
   "source": []
  },
  {
   "cell_type": "markdown",
   "id": "a5b73b1e",
   "metadata": {},
   "source": [
    "Question 7\n",
    "You are given an inclusive range [lower, upper] and a sorted unique integer array\n",
    "nums, where all elements are within the inclusive range.\n",
    "\n",
    "A number x is considered missing if x is in the range [lower, upper] and x is not in\n",
    "nums.\n",
    "\n",
    "Return the shortest sorted list of ranges that exactly covers all the missing\n",
    "numbers. That is, no element of nums is included in any of the ranges, and each\n",
    "missing number is covered by one of the ranges.\n",
    "\n",
    "Example 1:\n",
    "Input: nums = [0,1,3,50,75], lower = 0, upper = 99\n",
    "Output: [[2,2],[4,49],[51,74],[76,99]]\n",
    "\n",
    "Explanation: The ranges are:\n",
    "[2,2]\n",
    "[4,49]\n",
    "[51,74]\n",
    "[76,99]"
   ]
  },
  {
   "cell_type": "markdown",
   "id": "baa1e1ee",
   "metadata": {},
   "source": [
    "**Ans:-**\n",
    "To solve this problem, we can iterate through the given sorted array `nums` and track the missing ranges. We start with the lower bound and iterate until the upper bound, checking if each number is present in `nums`. Whenever a missing number is found, we create a range from the previous number (or the lower bound) to the current number (or the upper bound). Finally, if the upper bound is missing, we create a range from the last number in `nums` (or the lower bound) to the upper bound.\n",
    "\n",
    "Here's the algorithm to find the shortest sorted list of ranges:\n",
    "\n",
    "1. Initialize an empty list `result` to store the ranges.\n",
    "2. Initialize a variable `prev` to the lower bound minus 1 (to handle the case where the first number in `nums` is the lower bound itself).\n",
    "3. Iterate through each number `num` in `nums` and do the following:\n",
    "   - If `num` is equal to `prev + 1`, update `prev` to `num` and continue to the next iteration.\n",
    "   - If `num` is greater than `prev + 1`, there is a missing range. Create a range from `prev + 1` to `num - 1` and append it to `result`.\n",
    "   - Update `prev` to `num`.\n",
    "4. After the loop, check if the upper bound is missing:\n",
    "   - If `prev` is less than the upper bound, create a range from `prev + 1` to the upper bound and append it to `result`.\n",
    "5. Return the `result` list of ranges."
   ]
  },
  {
   "cell_type": "code",
   "execution_count": 13,
   "id": "530601b3",
   "metadata": {},
   "outputs": [],
   "source": [
    "def findMissingRanges(nums, lower, upper):\n",
    "    result = []\n",
    "    prev = lower - 1\n",
    "\n",
    "    for num in nums:\n",
    "        if num == prev + 1:\n",
    "            prev = num\n",
    "        elif num > prev + 1:\n",
    "            result.append([prev + 1, num - 1])\n",
    "            prev = num\n",
    "\n",
    "    if prev < upper:\n",
    "        result.append([prev + 1, upper])\n",
    "\n",
    "    return result"
   ]
  },
  {
   "cell_type": "code",
   "execution_count": 14,
   "id": "f0b0556e",
   "metadata": {},
   "outputs": [
    {
     "name": "stdout",
     "output_type": "stream",
     "text": [
      "[[2, 2], [4, 49], [51, 74], [76, 99]]\n"
     ]
    }
   ],
   "source": [
    "nums = [0, 1, 3, 50, 75]\n",
    "lower = 0\n",
    "upper = 99\n",
    "result = findMissingRanges(nums, lower, upper)\n",
    "print(result)  # Output: [[2, 2], [4, 49], [51, 74], [76, 99]]"
   ]
  },
  {
   "cell_type": "code",
   "execution_count": null,
   "id": "e169990c",
   "metadata": {},
   "outputs": [],
   "source": []
  },
  {
   "cell_type": "markdown",
   "id": "7037288e",
   "metadata": {},
   "source": [
    "Question 8\n",
    "Given an array of meeting time intervals where intervals[i] = [starti, endi],\n",
    "determine if a person could attend all meetings.\n",
    "\n",
    "Example 1:\n",
    "Input: intervals = [[0,30],[5,10],[15,20]]\n",
    "Output: false"
   ]
  },
  {
   "cell_type": "markdown",
   "id": "833b8640",
   "metadata": {},
   "source": [
    "**Ans:-**\n",
    "To determine if a person could attend all the meetings, we need to check if there are any overlapping intervals. If there is any overlap, it means that the person would have conflicting meetings and cannot attend all of them.\n",
    "\n",
    "Here's the algorithm to determine if a person could attend all meetings:\n",
    "\n",
    "1. Sort the intervals based on the start time.\n",
    "2. Iterate through each interval starting from the second interval (index 1) and compare it with the previous interval.\n",
    "   - If the start time of the current interval is less than or equal to the end time of the previous interval, there is an overlap. Return `False`.\n",
    "   - Otherwise, update the previous interval to the current interval.\n",
    "3. If the loop completes without finding any overlaps, return `True` as the person can attend all meetings."
   ]
  },
  {
   "cell_type": "code",
   "execution_count": 15,
   "id": "1351255b",
   "metadata": {},
   "outputs": [],
   "source": [
    "def canAttendMeetings(intervals):\n",
    "    intervals.sort(key=lambda x: x[0])  # Sort intervals based on start time\n",
    "    n = len(intervals)\n",
    "\n",
    "    for i in range(1, n):\n",
    "        if intervals[i][0] < intervals[i - 1][1]:\n",
    "            return False\n",
    "\n",
    "    return True"
   ]
  },
  {
   "cell_type": "code",
   "execution_count": 16,
   "id": "55ac3c32",
   "metadata": {},
   "outputs": [
    {
     "name": "stdout",
     "output_type": "stream",
     "text": [
      "False\n"
     ]
    }
   ],
   "source": [
    "intervals = [[0, 30], [5, 10], [15, 20]]\n",
    "result = canAttendMeetings(intervals)\n",
    "print(result)  # Output: False"
   ]
  },
  {
   "cell_type": "code",
   "execution_count": null,
   "id": "93442cbd",
   "metadata": {},
   "outputs": [],
   "source": []
  }
 ],
 "metadata": {
  "kernelspec": {
   "display_name": "Python 3 (ipykernel)",
   "language": "python",
   "name": "python3"
  },
  "language_info": {
   "codemirror_mode": {
    "name": "ipython",
    "version": 3
   },
   "file_extension": ".py",
   "mimetype": "text/x-python",
   "name": "python",
   "nbconvert_exporter": "python",
   "pygments_lexer": "ipython3",
   "version": "3.10.9"
  }
 },
 "nbformat": 4,
 "nbformat_minor": 5
}
