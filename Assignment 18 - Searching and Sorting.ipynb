{
 "cells": [
  {
   "cell_type": "markdown",
   "id": "b00e91ab",
   "metadata": {},
   "source": [
    "<aside>\n",
    "💡 1. **Merge Intervals**\n",
    "\n",
    "Given an array of `intervals` where `intervals[i] = [starti, endi]`, merge all overlapping intervals, and return *an array of the non-overlapping intervals that cover all the intervals in the input*.\n",
    "\n",
    "**Example 1:**\n",
    "```\n",
    "Input: intervals = [[1,3],[2,6],[8,10],[15,18]]\n",
    "Output: [[1,6],[8,10],[15,18]]\n",
    "Explanation: Since intervals [1,3] and [2,6] overlap, merge them into [1,6].\n",
    "```\n",
    "</aside>"
   ]
  },
  {
   "cell_type": "markdown",
   "id": "7087adfd",
   "metadata": {},
   "source": [
    "**Ans:-**\n",
    "To merge overlapping intervals in an array of intervals, we can follow these steps:\n",
    "\n",
    "1. Sort the intervals based on the start time.\n",
    "2. Initialize an empty list called `merged` to store the merged intervals.\n",
    "3. Iterate through the sorted intervals:\n",
    "   - If the `merged` list is empty or the current interval does not overlap with the last merged interval, append the current interval to the `merged` list.\n",
    "   - If the current interval overlaps with the last merged interval, update the end time of the last merged interval if necessary.\n",
    "4. Return the `merged` list."
   ]
  },
  {
   "cell_type": "code",
   "execution_count": 1,
   "id": "f091eb08",
   "metadata": {},
   "outputs": [],
   "source": [
    "def merge(intervals):\n",
    "    sorted_intervals = sorted(intervals, key=lambda x: x[0])\n",
    "    merged = []\n",
    "\n",
    "    for interval in sorted_intervals:\n",
    "        if not merged or interval[0] > merged[-1][1]:\n",
    "            merged.append(interval)\n",
    "        else:\n",
    "            merged[-1][1] = max(merged[-1][1], interval[1])\n",
    "\n",
    "    return merged"
   ]
  },
  {
   "cell_type": "code",
   "execution_count": 2,
   "id": "c64c31eb",
   "metadata": {},
   "outputs": [
    {
     "name": "stdout",
     "output_type": "stream",
     "text": [
      "[[1, 6], [8, 10], [15, 18]]\n"
     ]
    }
   ],
   "source": [
    "intervals = [[1, 3], [2, 6], [8, 10], [15, 18]]\n",
    "print(merge(intervals))"
   ]
  },
  {
   "cell_type": "code",
   "execution_count": null,
   "id": "f9fb068c",
   "metadata": {},
   "outputs": [],
   "source": []
  },
  {
   "cell_type": "markdown",
   "id": "1eb80ae5",
   "metadata": {},
   "source": [
    "<aside>\n",
    "💡 2. **Sort Colors**\n",
    "\n",
    "Given an array `nums` with `n` objects colored red, white, or blue, sort them **[in-place](https://en.wikipedia.org/wiki/In-place_algorithm)** so that objects of the same color are adjacent, with the colors in the order red, white, and blue.\n",
    "\n",
    "We will use the integers `0`, `1`, and `2` to represent the color red, white, and blue, respectively.\n",
    "\n",
    "You must solve this problem without using the library's sort function.\n",
    "\n",
    "**Example 1:**\n",
    "```\n",
    "Input: nums = [2,0,2,1,1,0]\n",
    "Output: [0,0,1,1,2,2]\n",
    "```\n",
    "</aside>"
   ]
  },
  {
   "cell_type": "markdown",
   "id": "0c6e1c1c",
   "metadata": {},
   "source": [
    "**Ans:-**\n",
    "To merge overlapping intervals in an array of intervals, we can follow these steps:\n",
    "\n",
    "1. Sort the intervals based on the start time.\n",
    "2. Initialize an empty list called `merged` to store the merged intervals.\n",
    "3. Iterate through the sorted intervals:\n",
    "   - If the `merged` list is empty or the current interval does not overlap with the last merged interval, append the current interval to the `merged` list.\n",
    "   - If the current interval overlaps with the last merged interval, update the end time of the last merged interval if necessary.\n",
    "4. Return the `merged` list."
   ]
  },
  {
   "cell_type": "code",
   "execution_count": 3,
   "id": "ef56176c",
   "metadata": {},
   "outputs": [],
   "source": [
    "def merge(intervals):\n",
    "    sorted_intervals = sorted(intervals, key=lambda x: x[0])\n",
    "    merged = []\n",
    "\n",
    "    for interval in sorted_intervals:\n",
    "        if not merged or interval[0] > merged[-1][1]:\n",
    "            merged.append(interval)\n",
    "        else:\n",
    "            merged[-1][1] = max(merged[-1][1], interval[1])\n",
    "\n",
    "    return merged"
   ]
  },
  {
   "cell_type": "code",
   "execution_count": 4,
   "id": "4cc8e97e",
   "metadata": {},
   "outputs": [
    {
     "name": "stdout",
     "output_type": "stream",
     "text": [
      "[[1, 6], [8, 10], [15, 18]]\n"
     ]
    }
   ],
   "source": [
    "intervals = [[1, 3], [2, 6], [8, 10], [15, 18]]\n",
    "print(merge(intervals))"
   ]
  },
  {
   "cell_type": "code",
   "execution_count": null,
   "id": "4576c0d5",
   "metadata": {},
   "outputs": [],
   "source": []
  },
  {
   "cell_type": "markdown",
   "id": "6d4c166f",
   "metadata": {},
   "source": [
    "<aside>\n",
    "💡 3. **First Bad Version Solution**\n",
    "\n",
    "You are a product manager and currently leading a team to develop a new product. Unfortunately, the latest version of your product fails the quality check. Since each version is developed based on the previous version, all the versions after a bad version are also bad.\n",
    "\n",
    "Suppose you have `n` versions `[1, 2, ..., n]` and you want to find out the first bad one, which causes all the following ones to be bad.\n",
    "\n",
    "You are given an API `bool isBadVersion(version)` which returns whether `version` is bad. Implement a function to find the first bad version. You should minimize the number of calls to the API.\n",
    "\n",
    "**Example 1:**\n",
    "```\n",
    "Input: n = 5, bad = 4\n",
    "Output: 4\n",
    "Explanation:\n",
    "call isBadVersion(3) -> false\n",
    "call isBadVersion(5) -> true\n",
    "call isBadVersion(4) -> true\n",
    "Then 4 is the first bad version.\n",
    "```\n",
    "</aside>"
   ]
  },
  {
   "cell_type": "markdown",
   "id": "c5cb80b4",
   "metadata": {},
   "source": [
    "**Ans:-**\n",
    "To find the first bad version while minimizing the number of API calls, we can use a binary search algorithm. Here's the implementation in Python:\n",
    "\n",
    "\n",
    "In this algorithm, we maintain two pointers, `left` and `right`, which represent the range of versions we are currently searching. Initially, `left` is set to the first version (1) and `right` is set to the last version (`n`).\n",
    "\n",
    "We enter a while loop, which continues until the range is narrowed down to a single version (`left == right`). In each iteration, we calculate the middle version using `mid = left + (right - left) // 2`. We then check if `mid` is a bad version by calling `isBadVersion(mid)`.\n",
    "\n",
    "- If `mid` is a bad version, we know that all versions after `mid` will also be bad. So, we update `right = mid` to narrow down the search range to the left half.\n",
    "- If `mid` is not a bad version, we update `left = mid + 1` to narrow down the search range to the right half.\n",
    "\n",
    "Once the loop terminates (`left == right`), we have found the first bad version, and we can return it.\n",
    "\n",
    "This algorithm guarantees that we make the minimum number of API calls. It achieves this by continuously dividing the search range in half, effectively eliminating half of the remaining versions at each step. This results in a logarithmic time complexity of O(log n), where n is the number of versions."
   ]
  },
  {
   "cell_type": "code",
   "execution_count": 10,
   "id": "02fef99f",
   "metadata": {},
   "outputs": [],
   "source": [
    "def firstBadVersion(n):\n",
    "    left = 1\n",
    "    right = n\n",
    "\n",
    "    while left < right:\n",
    "        mid = left + (right - left) // 2\n",
    "        if isBadVersion(mid):\n",
    "            right = mid\n",
    "        else:\n",
    "            left = mid + 1\n",
    "\n",
    "    return left"
   ]
  },
  {
   "cell_type": "code",
   "execution_count": null,
   "id": "36f9d885",
   "metadata": {},
   "outputs": [],
   "source": []
  },
  {
   "cell_type": "markdown",
   "id": "5497d4e2",
   "metadata": {},
   "source": [
    "<aside>\n",
    "💡 4. **Maximum Gap**\n",
    "\n",
    "Given an integer array `nums`, return *the maximum difference between two successive elements in its sorted form*. If the array contains less than two elements, return `0`.\n",
    "\n",
    "You must write an algorithm that runs in linear time and uses linear extra space.\n",
    "\n",
    "**Example 1:**\n",
    "```\n",
    "Input: nums = [3,6,9,1]\n",
    "Output: 3\n",
    "Explanation: The sorted form of the array is [1,3,6,9], either (3,6) or (6,9) has the maximum difference 3.\n",
    "```\n",
    "</aside>"
   ]
  },
  {
   "cell_type": "markdown",
   "id": "925a11c9",
   "metadata": {},
   "source": [
    "**Ans:-**\n",
    "To find the maximum gap between two successive elements in a given integer array, we can use the radix sort algorithm. Radix sort is a linear time sorting algorithm that can be used to sort integers.\n",
    "\n",
    "Here's the step-by-step algorithm to find the maximum gap:\n",
    "\n",
    "1. If the array `nums` contains less than two elements, return 0.\n",
    "2. Find the maximum element in the array `nums` and store it in a variable `max_num`.\n",
    "3. Initialize the variable `exp` to 1, representing the current digit place value.\n",
    "4. Initialize an empty list of buckets, where each bucket is a list.\n",
    "5. Perform the following steps while `max_num // exp` is greater than 0:\n",
    "   - Initialize an array `count` of size 10, representing the count of elements for each digit (0 to 9). Initialize all elements of `count` to 0.\n",
    "   - Iterate through each element `num` in `nums`:\n",
    "     - Increment `count[(num // exp) % 10]` by 1.\n",
    "   - Calculate the cumulative count for each digit in `count` by updating `count[i]` to `count[i] + count[i-1]`.\n",
    "   - Iterate through each element `num` in `nums` (in reverse order):\n",
    "     - Decrement `count[(num // exp) % 10]` by 1.\n",
    "     - Place `num` into the corresponding bucket based on the current digit value.\n",
    "6. Concatenate all the buckets to obtain a sorted array.\n",
    "7. Iterate through the sorted array and find the maximum difference between two successive elements. Return this maximum difference as the maximum gap."
   ]
  },
  {
   "cell_type": "code",
   "execution_count": 11,
   "id": "ae4c095d",
   "metadata": {},
   "outputs": [],
   "source": [
    "def maximumGap(nums):\n",
    "    if len(nums) < 2:\n",
    "        return 0\n",
    "    \n",
    "    max_num = max(nums)\n",
    "    exp = 1\n",
    "    \n",
    "    while max_num // exp > 0:\n",
    "        count = [0] * 10\n",
    "        buckets = [[] for _ in range(10)]\n",
    "        \n",
    "        for num in nums:\n",
    "            count[(num // exp) % 10] += 1\n",
    "        \n",
    "        for i in range(1, 10):\n",
    "            count[i] += count[i-1]\n",
    "        \n",
    "        for num in reversed(nums):\n",
    "            count[(num // exp) % 10] -= 1\n",
    "            digit = (num // exp) % 10\n",
    "            buckets[digit].append(num)\n",
    "        \n",
    "        nums = [num for bucket in buckets for num in bucket]\n",
    "        exp *= 10\n",
    "    \n",
    "    max_gap = 0\n",
    "    \n",
    "    for i in range(1, len(nums)):\n",
    "        max_gap = max(max_gap, nums[i] - nums[i-1])\n",
    "    \n",
    "    return max_gap"
   ]
  },
  {
   "cell_type": "code",
   "execution_count": 12,
   "id": "81b7aced",
   "metadata": {},
   "outputs": [
    {
     "data": {
      "text/plain": [
       "3"
      ]
     },
     "execution_count": 12,
     "metadata": {},
     "output_type": "execute_result"
    }
   ],
   "source": [
    "nums = [3,6,9,1]\n",
    "maximumGap(nums)"
   ]
  },
  {
   "cell_type": "code",
   "execution_count": null,
   "id": "3a7cc81d",
   "metadata": {},
   "outputs": [],
   "source": []
  },
  {
   "cell_type": "markdown",
   "id": "43825300",
   "metadata": {},
   "source": [
    "<aside>\n",
    "💡 5. **Contains Duplicate**\n",
    "\n",
    "Given an integer array `nums`, return `true` if any value appears **at least twice** in the array, and return `false` if every element is distinct.\n",
    "\n",
    "**Example 1:**\n",
    "```\n",
    "Input: nums = [1,2,3,1]\n",
    "Output: true\n",
    "```\n",
    "</aside>"
   ]
  },
  {
   "cell_type": "markdown",
   "id": "d877cbf3",
   "metadata": {},
   "source": [
    "**Ans:-**\n",
    "To determine whether an integer array contains any duplicate elements, we can utilize a set data structure. A set is an unordered collection of unique elements, which allows us to efficiently check for duplicates.\n",
    "\n",
    "Here's the algorithm to solve the problem:\n",
    "\n",
    "1. Create an empty set called `seen`.\n",
    "2. Iterate through each element `num` in the array `nums`.\n",
    "   - If `num` is already in the `seen` set, return `True` as a duplicate element has been found.\n",
    "   - Otherwise, add `num` to the `seen` set.\n",
    "3. After the loop completes, return `False` as no duplicate elements were found."
   ]
  },
  {
   "cell_type": "code",
   "execution_count": 13,
   "id": "956b7633",
   "metadata": {},
   "outputs": [],
   "source": [
    "def containsDuplicate(nums):\n",
    "    seen = set()\n",
    "    for num in nums:\n",
    "        if num in seen:\n",
    "            return True\n",
    "        seen.add(num)\n",
    "    return False"
   ]
  },
  {
   "cell_type": "code",
   "execution_count": 14,
   "id": "b799103d",
   "metadata": {},
   "outputs": [
    {
     "data": {
      "text/plain": [
       "True"
      ]
     },
     "execution_count": 14,
     "metadata": {},
     "output_type": "execute_result"
    }
   ],
   "source": [
    "nums = [1,2,3,1]\n",
    "containsDuplicate(nums)"
   ]
  },
  {
   "cell_type": "code",
   "execution_count": null,
   "id": "afdc07ab",
   "metadata": {},
   "outputs": [],
   "source": []
  },
  {
   "cell_type": "markdown",
   "id": "3fe10d9c",
   "metadata": {},
   "source": [
    "<aside>\n",
    "💡 6. **Minimum Number of Arrows to Burst Balloons**\n",
    "\n",
    "There are some spherical balloons taped onto a flat wall that represents the XY-plane. The balloons are represented as a 2D integer array `points` where `points[i] = [xstart, xend]` denotes a balloon whose **horizontal diameter** stretches between `xstart` and `xend`. You do not know the exact y-coordinates of the balloons.\n",
    "\n",
    "Arrows can be shot up **directly vertically** (in the positive y-direction) from different points along the x-axis. A balloon with `xstart` and `xend` is **burst** by an arrow shot at `x` if `xstart <= x <= xend`. There is **no limit** to the number of arrows that can be shot. A shot arrow keeps traveling up infinitely, bursting any balloons in its path.\n",
    "\n",
    "Given the array `points`, return *the **minimum** number of arrows that must be shot to burst all balloons*.\n",
    "\n",
    "**Example 1:**\n",
    "```\n",
    "Input: points = [[10,16],[2,8],[1,6],[7,12]]\n",
    "Output: 2\n",
    "Explanation: The balloons can be burst by 2 arrows:\n",
    "- Shoot an arrow at x = 6, bursting the balloons [2,8] and [1,6].\n",
    "- Shoot an arrow at x = 11, bursting the balloons [10,16] and [7,12].\n",
    "```\n",
    "</aside>"
   ]
  },
  {
   "cell_type": "markdown",
   "id": "d310c8a0",
   "metadata": {},
   "source": [
    "**Ans:-**\n",
    "To determine the minimum number of arrows needed to burst all the balloons, we can apply a greedy algorithm. The idea is to sort the balloons based on their end positions and then shoot arrows to burst as many balloons as possible with each shot.\n",
    "\n",
    "Here's the step-by-step algorithm:\n",
    "\n",
    "1. Sort the `points` array based on the end positions of the balloons.\n",
    "2. Initialize `shots` and `end` variables to 0.\n",
    "3. Iterate through each balloon in the sorted `points` array.\n",
    "   - If the start position of the balloon is greater than `end`, it means the current balloon cannot be burst with the previous shot. Increment `shots` by 1 and update `end` to the end position of the current balloon.\n",
    "4. Return the value of `shots`."
   ]
  },
  {
   "cell_type": "code",
   "execution_count": 15,
   "id": "985dff79",
   "metadata": {},
   "outputs": [],
   "source": [
    "def findMinArrowShots(points):\n",
    "    points.sort(key=lambda x: x[1])  # Sort based on end positions\n",
    "    shots = 0\n",
    "    end = float('-inf')\n",
    "\n",
    "    for balloon in points:\n",
    "        if balloon[0] > end:\n",
    "            shots += 1\n",
    "            end = balloon[1]\n",
    "\n",
    "    return shots"
   ]
  },
  {
   "cell_type": "code",
   "execution_count": 16,
   "id": "31aca1aa",
   "metadata": {},
   "outputs": [
    {
     "data": {
      "text/plain": [
       "2"
      ]
     },
     "execution_count": 16,
     "metadata": {},
     "output_type": "execute_result"
    }
   ],
   "source": [
    "points = [[10,16],[2,8],[1,6],[7,12]]\n",
    "findMinArrowShots(points)"
   ]
  },
  {
   "cell_type": "markdown",
   "id": "1498136b",
   "metadata": {},
   "source": [
    "The algorithm has a time complexity of O(n log n) due to the sorting step, where n is the number of balloons. The greedy approach allows us to minimize the number of shots needed by continuously updating the end position and shooting arrows that can burst multiple balloons."
   ]
  },
  {
   "cell_type": "code",
   "execution_count": null,
   "id": "4888748b",
   "metadata": {},
   "outputs": [],
   "source": []
  },
  {
   "cell_type": "markdown",
   "id": "94572173",
   "metadata": {},
   "source": [
    "<aside>\n",
    "💡 7. **Longest Increasing Subsequence**\n",
    "\n",
    "Given an integer array `nums`, return *the length of the longest **strictly increasing***\n",
    "\n",
    "***subsequence***\n",
    "\n",
    ".\n",
    "\n",
    "**Example 1:**\n",
    "```\n",
    "Input: nums = [10,9,2,5,3,7,101,18]\n",
    "Output: 4\n",
    "Explanation: The longest increasing subsequence is [2,3,7,101], therefore the length is 4.\n",
    "```\n",
    "\n",
    "</aside>"
   ]
  },
  {
   "cell_type": "markdown",
   "id": "fc429162",
   "metadata": {},
   "source": [
    "**Ans:-**\n",
    "To find the length of the longest strictly increasing subsequence in an integer array, we can use a dynamic programming approach. The idea is to maintain an array `dp` where `dp[i]` represents the length of the longest increasing subsequence ending at index `i`.\n",
    "\n",
    "Here's the step-by-step algorithm:\n",
    "\n",
    "1. Create an array `dp` of the same length as `nums` and initialize all elements to 1. This is because the minimum length of an increasing subsequence is always 1 (the element itself).\n",
    "2. Iterate through each element `nums[i]` starting from index 1.\n",
    "3. For each element, iterate through all previous elements `nums[j]` where `j` ranges from 0 to `i-1`.\n",
    "   - If `nums[i] > nums[j]`, it means we can extend the increasing subsequence ending at index `j` by including `nums[i]`. Check if `dp[j] + 1` is greater than the current value of `dp[i]`. If so, update `dp[i]` with `dp[j] + 1`.\n",
    "4. Find the maximum value in the `dp` array and return it as the length of the longest increasing subsequence."
   ]
  },
  {
   "cell_type": "code",
   "execution_count": 17,
   "id": "2fe7b8ab",
   "metadata": {},
   "outputs": [],
   "source": [
    "def lengthOfLIS(nums):\n",
    "    if not nums:\n",
    "        return 0\n",
    "\n",
    "    n = len(nums)\n",
    "    dp = [1] * n\n",
    "\n",
    "    for i in range(1, n):\n",
    "        for j in range(i):\n",
    "            if nums[i] > nums[j]:\n",
    "                dp[i] = max(dp[i], dp[j] + 1)\n",
    "\n",
    "    return max(dp)"
   ]
  },
  {
   "cell_type": "code",
   "execution_count": 18,
   "id": "d27607f2",
   "metadata": {},
   "outputs": [
    {
     "data": {
      "text/plain": [
       "4"
      ]
     },
     "execution_count": 18,
     "metadata": {},
     "output_type": "execute_result"
    }
   ],
   "source": [
    "nums = [10,9,2,5,3,7,101,18]\n",
    "lengthOfLIS(nums)"
   ]
  },
  {
   "cell_type": "markdown",
   "id": "7d9ad85c",
   "metadata": {},
   "source": [
    "The algorithm has a time complexity of O(n^2), where n is the number of elements in the input array nums. This is because we have nested loops to iterate through each element and compare it with all previous elements. However, it can be optimized to O(n log n) using the patience sorting algorithm or binary search techniques."
   ]
  },
  {
   "cell_type": "code",
   "execution_count": null,
   "id": "4850e2f6",
   "metadata": {},
   "outputs": [],
   "source": []
  },
  {
   "cell_type": "markdown",
   "id": "12f1c5e4",
   "metadata": {},
   "source": [
    "<aside>\n",
    "💡 8. **132 Pattern**\n",
    "\n",
    "Given an array of `n` integers `nums`, a **132 pattern** is a subsequence of three integers `nums[i]`, `nums[j]` and `nums[k]` such that `i < j < k` and `nums[i] < nums[k] < nums[j]`.\n",
    "\n",
    "Return `true` *if there is a **132 pattern** in* `nums`*, otherwise, return* `false`*.*\n",
    "\n",
    "**Example 1:**\n",
    "```\n",
    "Input: nums = [1,2,3,4]\n",
    "Output: false\n",
    "Explanation: There is no 132 pattern in the sequence.\n",
    "```\n",
    "</aside>"
   ]
  },
  {
   "cell_type": "markdown",
   "id": "cbc362df",
   "metadata": {},
   "source": [
    "**Ans:-**\n",
    "To determine if an array contains a \"132 pattern,\" we can use a stack-based approach. The idea is to keep track of the maximum value (`numsk`) encountered so far that can potentially be the `nums[k]` element of the pattern. We iterate through the array from right to left and maintain a stack of values that are greater than `numsk`. If we encounter a value smaller than `numsk`, it means we have found a valid pattern.\n",
    "\n",
    "Here's the step-by-step algorithm:\n",
    "\n",
    "1. Create an empty stack.\n",
    "2. Initialize `numsk` to negative infinity.\n",
    "3. Iterate through the array `nums` from right to left.\n",
    "   - If the current value `nums[i]` is greater than `numsk`, pop values from the stack and update `numsk` to the maximum popped value.\n",
    "   - If the current value `nums[i]` is smaller than `numsk`, return `True` as we have found a valid pattern.\n",
    "   - Push the current value `nums[i]` onto the stack.\n",
    "4. If no valid pattern is found, return `False`."
   ]
  },
  {
   "cell_type": "code",
   "execution_count": 19,
   "id": "906f407e",
   "metadata": {},
   "outputs": [],
   "source": [
    "def find132pattern(nums):\n",
    "    stack = []\n",
    "    numsk = float('-inf')\n",
    "\n",
    "    for i in range(len(nums)-1, -1, -1):\n",
    "        if nums[i] < numsk:\n",
    "            return True\n",
    "\n",
    "        while stack and stack[-1] < nums[i]:\n",
    "            numsk = stack.pop()\n",
    "\n",
    "        stack.append(nums[i])\n",
    "\n",
    "    return False"
   ]
  },
  {
   "cell_type": "code",
   "execution_count": 20,
   "id": "f5a2b414",
   "metadata": {},
   "outputs": [
    {
     "data": {
      "text/plain": [
       "False"
      ]
     },
     "execution_count": 20,
     "metadata": {},
     "output_type": "execute_result"
    }
   ],
   "source": [
    "nums = [1,2,3,4]\n",
    "find132pattern(nums)"
   ]
  },
  {
   "cell_type": "markdown",
   "id": "8ca11de8",
   "metadata": {},
   "source": [
    "The algorithm has a time complexity of O(n), where n is the number of elements in the input array nums. We iterate through the array once from right to left, and the stack operations take constant time on average."
   ]
  }
 ],
 "metadata": {
  "kernelspec": {
   "display_name": "Python 3 (ipykernel)",
   "language": "python",
   "name": "python3"
  },
  "language_info": {
   "codemirror_mode": {
    "name": "ipython",
    "version": 3
   },
   "file_extension": ".py",
   "mimetype": "text/x-python",
   "name": "python",
   "nbconvert_exporter": "python",
   "pygments_lexer": "ipython3",
   "version": "3.10.9"
  }
 },
 "nbformat": 4,
 "nbformat_minor": 5
}
