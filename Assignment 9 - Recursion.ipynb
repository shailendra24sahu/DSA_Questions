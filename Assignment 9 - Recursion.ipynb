{
 "cells": [
  {
   "cell_type": "markdown",
   "id": "a194c8e1",
   "metadata": {},
   "source": [
    "<aside>\n",
    "💡 **Question 1**\n",
    "\n",
    "Given an integer `n`, return *`true` if it is a power of two. Otherwise, return `false`*.\n",
    "\n",
    "An integer `n` is a power of two, if there exists an integer `x` such that `n == 2x`.\n",
    "\n",
    "**Example 1:**\n",
    "Input: n = 1 \n",
    "\n",
    "Output: true\n",
    "\n",
    "**Example 2:**\n",
    "Input: n = 16 \n",
    "\n",
    "Output: true\n",
    "\n",
    "**Example 3:**\n",
    "Input: n = 3 \n",
    "\n",
    "Output: false\n",
    "\n",
    "</aside>"
   ]
  },
  {
   "cell_type": "markdown",
   "id": "ee693ca1",
   "metadata": {},
   "source": [
    "**Ans:-**\n",
    "To determine if an integer `n` is a power of two, we can use the following approach:\n",
    "\n",
    "1. If `n` is less than or equal to 0, return `false` because negative numbers and zero cannot be powers of two.\n",
    "2. While `n` is greater than 1, check if `n` is divisible by 2. If `n` is not divisible by 2 (i.e., `n % 2 != 0`), return `false` because it means `n` is not a power of two.\n",
    "3. If `n` becomes 1 at the end of the loop, return `true` because it means `n` is a power of two."
   ]
  },
  {
   "cell_type": "code",
   "execution_count": 1,
   "id": "5a6fccdb",
   "metadata": {},
   "outputs": [],
   "source": [
    "def is_power_of_two(n):\n",
    "    if n <= 0:\n",
    "        return False\n",
    "\n",
    "    while n > 1:\n",
    "        if n % 2 != 0:\n",
    "            return False\n",
    "        n = n // 2\n",
    "\n",
    "    return True"
   ]
  },
  {
   "cell_type": "code",
   "execution_count": 2,
   "id": "b18546a3",
   "metadata": {},
   "outputs": [
    {
     "name": "stdout",
     "output_type": "stream",
     "text": [
      "True\n",
      "True\n",
      "False\n"
     ]
    }
   ],
   "source": [
    "print(is_power_of_two(1))    # Output: True\n",
    "print(is_power_of_two(16))   # Output: True\n",
    "print(is_power_of_two(3))    # Output: False"
   ]
  },
  {
   "cell_type": "code",
   "execution_count": null,
   "id": "832a467c",
   "metadata": {},
   "outputs": [],
   "source": []
  },
  {
   "cell_type": "markdown",
   "id": "741015ad",
   "metadata": {},
   "source": [
    "<aside>\n",
    "💡 **Question 2**\n",
    "\n",
    "Given a number n, find the sum of the first natural numbers.\n",
    "\n",
    "**Example 1:**\n",
    "\n",
    "Input: n = 3 \n",
    "\n",
    "Output: 6\n",
    "\n",
    "**Example 2:**\n",
    "\n",
    "Input  : 5 \n",
    "\n",
    "Output : 15\n",
    "\n",
    "</aside>"
   ]
  },
  {
   "cell_type": "markdown",
   "id": "12964bdf",
   "metadata": {},
   "source": [
    "**Ans:-**\n",
    "To find the sum of the first n natural numbers, we can use the formula for the sum of an arithmetic series: sum = (n * (n + 1)) / 2."
   ]
  },
  {
   "cell_type": "code",
   "execution_count": 3,
   "id": "56473a14",
   "metadata": {},
   "outputs": [],
   "source": [
    "def sum_of_natural_numbers(n):\n",
    "    sum = (n * (n + 1)) // 2\n",
    "    return sum"
   ]
  },
  {
   "cell_type": "code",
   "execution_count": 4,
   "id": "c80895ae",
   "metadata": {},
   "outputs": [
    {
     "name": "stdout",
     "output_type": "stream",
     "text": [
      "6\n",
      "15\n"
     ]
    }
   ],
   "source": [
    "print(sum_of_natural_numbers(3))    # Output: 6\n",
    "print(sum_of_natural_numbers(5))    # Output: 15"
   ]
  },
  {
   "cell_type": "code",
   "execution_count": null,
   "id": "8a05cc0d",
   "metadata": {},
   "outputs": [],
   "source": []
  },
  {
   "cell_type": "markdown",
   "id": "d253e590",
   "metadata": {},
   "source": [
    "<aside>\n",
    "💡 **Question 3**\n",
    "\n",
    "****Given a positive integer, N. Find the factorial of N. \n",
    "\n",
    "**Example 1:**\n",
    "\n",
    "Input: N = 5 \n",
    "\n",
    "Output: 120\n",
    "\n",
    "**Example 2:**\n",
    "\n",
    "Input: N = 4\n",
    "\n",
    "Output: 24\n",
    "\n",
    "</aside>"
   ]
  },
  {
   "cell_type": "code",
   "execution_count": 5,
   "id": "4558c1f6",
   "metadata": {},
   "outputs": [],
   "source": [
    "def factorial(N):\n",
    "    fact = 1\n",
    "    for i in range(1, N + 1):\n",
    "        fact *= i\n",
    "    return fact"
   ]
  },
  {
   "cell_type": "code",
   "execution_count": 6,
   "id": "5f216970",
   "metadata": {},
   "outputs": [
    {
     "name": "stdout",
     "output_type": "stream",
     "text": [
      "120\n",
      "24\n"
     ]
    }
   ],
   "source": [
    "print(factorial(5))    # Output: 120\n",
    "print(factorial(4))    # Output: 24"
   ]
  },
  {
   "cell_type": "code",
   "execution_count": null,
   "id": "905493cb",
   "metadata": {},
   "outputs": [],
   "source": []
  },
  {
   "cell_type": "markdown",
   "id": "80eff582",
   "metadata": {},
   "source": [
    "<aside>\n",
    "💡 **Question 4**\n",
    "\n",
    "Given a number N and a power P, the task is to find the exponent of this number raised to the given power, i.e. N^P.\n",
    "\n",
    "**Example 1 :** \n",
    "\n",
    "Input: N = 5, P = 2\n",
    "\n",
    "Output: 25\n",
    "\n",
    "**Example 2 :**\n",
    "Input: N = 2, P = 5\n",
    "\n",
    "Output: 32\n",
    "\n",
    "</aside>"
   ]
  },
  {
   "cell_type": "markdown",
   "id": "cadf7825",
   "metadata": {},
   "source": [
    "**Ans:-**\n",
    "To find the exponentiation of a number N raised to a given power P, we can use the ** operator in Python. The ** operator raises the left operand to the power of the right operand."
   ]
  },
  {
   "cell_type": "code",
   "execution_count": 7,
   "id": "a46b9a44",
   "metadata": {},
   "outputs": [],
   "source": [
    "def exponentiation(N, P):\n",
    "    result = N ** P\n",
    "    return result"
   ]
  },
  {
   "cell_type": "code",
   "execution_count": 8,
   "id": "486c6ec5",
   "metadata": {},
   "outputs": [
    {
     "name": "stdout",
     "output_type": "stream",
     "text": [
      "25\n",
      "32\n"
     ]
    }
   ],
   "source": [
    "print(exponentiation(5, 2))    # Output: 25\n",
    "print(exponentiation(2, 5))    # Output: 32"
   ]
  },
  {
   "cell_type": "code",
   "execution_count": null,
   "id": "69daff79",
   "metadata": {},
   "outputs": [],
   "source": []
  },
  {
   "cell_type": "markdown",
   "id": "91faa02d",
   "metadata": {},
   "source": [
    "<aside>\n",
    "💡 **Question 5**\n",
    "\n",
    "Given an array of integers **arr**, the task is to find maximum element of that array using recursion.\n",
    "\n",
    "**Example 1:**\n",
    "\n",
    "Input: arr = {1, 4, 3, -5, -4, 8, 6};\n",
    "Output: 8\n",
    "\n",
    "**Example 2:**\n",
    "\n",
    "Input: arr = {1, 4, 45, 6, 10, -8};\n",
    "Output: 45\n",
    "\n",
    "</aside>"
   ]
  },
  {
   "cell_type": "markdown",
   "id": "51a5d8db",
   "metadata": {},
   "source": [
    "**Ans:-**\n",
    "To find the maximum element of an array arr using recursion, we can use a divide-and-conquer approach. We divide the array into two halves, find the maximum of each half recursively, and then compare the maximums of the two halves to determine the overall maximum."
   ]
  },
  {
   "cell_type": "code",
   "execution_count": 9,
   "id": "ab11881b",
   "metadata": {},
   "outputs": [],
   "source": [
    "def find_max(arr):\n",
    "    if len(arr) == 1:\n",
    "        return arr[0]\n",
    "    else:\n",
    "        mid = len(arr) // 2\n",
    "        left_max = find_max(arr[:mid])\n",
    "        right_max = find_max(arr[mid:])\n",
    "        return max(left_max, right_max)"
   ]
  },
  {
   "cell_type": "code",
   "execution_count": 10,
   "id": "1d27f9f0",
   "metadata": {},
   "outputs": [
    {
     "name": "stdout",
     "output_type": "stream",
     "text": [
      "8\n",
      "45\n"
     ]
    }
   ],
   "source": [
    "arr1 = [1, 4, 3, -5, -4, 8, 6]\n",
    "print(find_max(arr1))    # Output: 8\n",
    "\n",
    "arr2 = [1, 4, 45, 6, 10, -8]\n",
    "print(find_max(arr2))    # Output: 45"
   ]
  },
  {
   "cell_type": "code",
   "execution_count": null,
   "id": "40fffa20",
   "metadata": {},
   "outputs": [],
   "source": []
  },
  {
   "cell_type": "markdown",
   "id": "1b0b4035",
   "metadata": {},
   "source": [
    "<aside>\n",
    "💡 **Question 6**\n",
    "\n",
    "Given first term (a), common difference (d) and a integer N of the Arithmetic Progression series, the task is to find Nth term of the series.\n",
    "\n",
    "**Example 1:**\n",
    "\n",
    "Input : a = 2 d = 1 N = 5\n",
    "Output : 6\n",
    "The 5th term of the series is : 6\n",
    "\n",
    "**Example 2:**\n",
    "\n",
    "Input : a = 5 d = 2 N = 10\n",
    "Output : 23\n",
    "The 10th term of the series is : 23\n",
    "\n",
    "</aside>"
   ]
  },
  {
   "cell_type": "markdown",
   "id": "6318f414",
   "metadata": {},
   "source": [
    "**Ans:-**\n",
    "To find the Nth term of an arithmetic progression series, we can use the following formula:\n",
    "\n",
    "Nth term = a + (N - 1) * d\n",
    "\n",
    "where:\n",
    "\n",
    "'a' is the first term of the series,\n",
    "'d' is the common difference between consecutive terms, and\n",
    "'N' is the position of the term we want to find.\n",
    "Using this formula, we can calculate the Nth term of the arithmetic progression series."
   ]
  },
  {
   "cell_type": "code",
   "execution_count": 11,
   "id": "77ff4195",
   "metadata": {},
   "outputs": [
    {
     "name": "stdout",
     "output_type": "stream",
     "text": [
      "The 5 th term of the series is: 6\n"
     ]
    }
   ],
   "source": [
    "def find_nth_term(a, d, N):\n",
    "    nth_term = a + (N - 1) * d\n",
    "    return nth_term\n",
    "\n",
    "# Example usage:\n",
    "a = 2\n",
    "d = 1\n",
    "N = 5\n",
    "nth_term = find_nth_term(a, d, N)\n",
    "print(\"The\", N, \"th term of the series is:\", nth_term)"
   ]
  },
  {
   "cell_type": "code",
   "execution_count": null,
   "id": "287cdd1f",
   "metadata": {},
   "outputs": [],
   "source": []
  },
  {
   "cell_type": "markdown",
   "id": "f9d64eea",
   "metadata": {},
   "source": [
    "<aside>\n",
    "💡 **Question 7**\n",
    "\n",
    "Given a string S, the task is to write a program to print all permutations of a given string.\n",
    "\n",
    "**Example 1:**\n",
    "\n",
    "***Input:***\n",
    "\n",
    "*S = “ABC”*\n",
    "\n",
    "***Output:***\n",
    "\n",
    "*“ABC”, “ACB”, “BAC”, “BCA”, “CBA”, “CAB”*\n",
    "\n",
    "**Example 2:**\n",
    "\n",
    "***Input:***\n",
    "\n",
    "*S = “XY”*\n",
    "\n",
    "***Output:***\n",
    "\n",
    "*“XY”, “YX”*\n",
    "\n",
    "</aside>"
   ]
  },
  {
   "cell_type": "markdown",
   "id": "f59f9497",
   "metadata": {},
   "source": [
    "**Ans:-**\n",
    "To generate all permutations of a given string, we can use the concept of backtracking. Here's a Python code snippet that solves this problem:"
   ]
  },
  {
   "cell_type": "code",
   "execution_count": 12,
   "id": "cc1d927d",
   "metadata": {},
   "outputs": [
    {
     "name": "stdout",
     "output_type": "stream",
     "text": [
      "Permutations of ABC : ['ABC', 'ACB', 'BAC', 'BCA', 'CAB', 'CBA']\n"
     ]
    }
   ],
   "source": [
    "def permute_string(S):\n",
    "    permutations = []  # Store the permutations\n",
    "\n",
    "    # Helper function to generate permutations using backtracking\n",
    "    def backtrack(string, current):\n",
    "        # Base case: If the current permutation is complete, add it to the list\n",
    "        if len(current) == len(S):\n",
    "            permutations.append(current)\n",
    "            return\n",
    "\n",
    "        # Recursive case: Generate permutations by choosing one character at a time\n",
    "        for i in range(len(string)):\n",
    "            # Choose the character at index i\n",
    "            char = string[i]\n",
    "\n",
    "            # Generate new string without the chosen character\n",
    "            new_string = string[:i] + string[i + 1:]\n",
    "\n",
    "            # Recursively generate permutations with the chosen character\n",
    "            backtrack(new_string, current + char)\n",
    "\n",
    "    # Start the backtracking process\n",
    "    backtrack(S, \"\")\n",
    "\n",
    "    return permutations\n",
    "\n",
    "# Example usage:\n",
    "S = \"ABC\"\n",
    "result = permute_string(S)\n",
    "print(\"Permutations of\", S, \":\", result)"
   ]
  },
  {
   "cell_type": "code",
   "execution_count": null,
   "id": "f3ca1ecd",
   "metadata": {},
   "outputs": [],
   "source": []
  },
  {
   "cell_type": "markdown",
   "id": "23ee0dfc",
   "metadata": {},
   "source": [
    "<aside>\n",
    "💡 **Question 8**\n",
    "\n",
    "Given an array, find a product of all array elements.\n",
    "\n",
    "**Example 1:**\n",
    "\n",
    "Input  : arr[] = {1, 2, 3, 4, 5}\n",
    "Output : 120\n",
    "**Example 2:**\n",
    "\n",
    "Input  : arr[] = {1, 6, 3}\n",
    "Output : 18\n",
    "\n",
    "</aside>"
   ]
  },
  {
   "cell_type": "markdown",
   "id": "0c5928ce",
   "metadata": {},
   "source": [
    "**Ans:-**\n",
    "To find the product of all elements in an array, we can iterate through the array and multiply each element together. Here's a Python code snippet that solves this problem:"
   ]
  },
  {
   "cell_type": "code",
   "execution_count": 13,
   "id": "5b323557",
   "metadata": {},
   "outputs": [
    {
     "name": "stdout",
     "output_type": "stream",
     "text": [
      "Product of array [1, 2, 3, 4, 5] : 120\n",
      "Product of array [1, 6, 3] : 18\n"
     ]
    }
   ],
   "source": [
    "def product_of_array(arr):\n",
    "    product = 1\n",
    "\n",
    "    # Iterate through the array and multiply each element\n",
    "    for num in arr:\n",
    "        product *= num\n",
    "\n",
    "    return product\n",
    "\n",
    "# Example usage:\n",
    "arr1 = [1, 2, 3, 4, 5]\n",
    "result1 = product_of_array(arr1)\n",
    "print(\"Product of array\", arr1, \":\", result1)\n",
    "\n",
    "arr2 = [1, 6, 3]\n",
    "result2 = product_of_array(arr2)\n",
    "print(\"Product of array\", arr2, \":\", result2)"
   ]
  },
  {
   "cell_type": "code",
   "execution_count": null,
   "id": "7b696f46",
   "metadata": {},
   "outputs": [],
   "source": []
  }
 ],
 "metadata": {
  "kernelspec": {
   "display_name": "Python 3 (ipykernel)",
   "language": "python",
   "name": "python3"
  },
  "language_info": {
   "codemirror_mode": {
    "name": "ipython",
    "version": 3
   },
   "file_extension": ".py",
   "mimetype": "text/x-python",
   "name": "python",
   "nbconvert_exporter": "python",
   "pygments_lexer": "ipython3",
   "version": "3.10.9"
  }
 },
 "nbformat": 4,
 "nbformat_minor": 5
}
