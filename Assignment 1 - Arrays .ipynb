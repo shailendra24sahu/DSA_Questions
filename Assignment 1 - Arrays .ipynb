{
 "cells": [
  {
   "cell_type": "markdown",
   "id": "f772c0e4",
   "metadata": {},
   "source": [
    "<aside>\n",
    "💡 **Q1.** Given an array of integers nums and an integer target, return indices of the two numbers such that they add up to target.\n",
    "\n",
    "You may assume that each input would have exactly one solution, and you may not use the same element twice.\n",
    "\n",
    "You can return the answer in any order.\n",
    "\n",
    "**Example:**\n",
    "Input: nums = [2,7,11,15], target = 9\n",
    "Output0 [0,1]\n",
    "\n",
    "**Explanation:** Because nums[0] + nums[1] == 9, we return [0, 1][\n",
    "\n",
    "</aside>"
   ]
  },
  {
   "cell_type": "markdown",
   "id": "0054065c",
   "metadata": {},
   "source": [
    "**Ans :-** To solve this problem, we can use a hash map to store the complement of each number as we iterate through the array. Here's the step-by-step approach to solve the problem:\n",
    "\n",
    "1. Create an empty hash map to store the complement of each number.\n",
    "2. Iterate through the array `nums` using a for loop, and for each number `num` at index `i`:\n",
    "   - Calculate the complement `complement = target - num`.\n",
    "   - Check if the complement exists in the hash map. If it does, return the indices `[hashMap[complement], i]`.\n",
    "   - If the complement doesn't exist in the hash map, store the current number `num` in the hash map with its index `i`.\n",
    "3. If no two numbers sum up to the target, return an empty array or indicate that no solution exists.\n",
    "\n",
    "Here's the implementation in Python:"
   ]
  },
  {
   "cell_type": "code",
   "execution_count": 1,
   "id": "e9173286",
   "metadata": {},
   "outputs": [
    {
     "name": "stdout",
     "output_type": "stream",
     "text": [
      "[0, 1]\n"
     ]
    }
   ],
   "source": [
    "def twoSum(nums, target):\n",
    "    numMap = {}  # Hash map to store the complement of each number\n",
    "    \n",
    "    for i, num in enumerate(nums):\n",
    "        complement = target - num\n",
    "        \n",
    "        if complement in numMap:\n",
    "            return [numMap[complement], i]\n",
    "        \n",
    "        numMap[num] = i\n",
    "    \n",
    "    return []  # If no solution exists\n",
    "\n",
    "# Test the function\n",
    "nums = [2, 7, 11, 15]\n",
    "target = 9\n",
    "result = twoSum(nums, target)\n",
    "print(result)  # Output: [0, 1]\n"
   ]
  },
  {
   "cell_type": "code",
   "execution_count": null,
   "id": "8d10cd6e",
   "metadata": {},
   "outputs": [],
   "source": []
  },
  {
   "cell_type": "markdown",
   "id": "1d22fa8d",
   "metadata": {},
   "source": [
    "<aside>\n",
    "💡 **Q2.** Given an integer array nums and an integer val, remove all occurrences of val in nums in-place. The order of the elements may be changed. Then return the number of elements in nums which are not equal to val.\n",
    "\n",
    "Consider the number of elements in nums which are not equal to val be k, to get accepted, you need to do the following things:\n",
    "\n",
    "- Change the array nums such that the first k elements of nums contain the elements which are not equal to val. The remaining elements of nums are not important as well as the size of nums.\n",
    "- Return k.\n",
    "\n",
    "**Example :**\n",
    "Input: nums = [3,2,2,3], val = 3\n",
    "Output: 2, nums = [2,2,_*,_*]\n",
    "\n",
    "**Explanation:** Your function should return k = 2, with the first two elements of nums being 2. It does not matter what you leave beyond the returned k (hence they are underscores)[\n",
    "\n",
    "</aside>"
   ]
  },
  {
   "cell_type": "markdown",
   "id": "18b85ba9",
   "metadata": {},
   "source": [
    "**Ans:-**\n",
    "To remove all occurrences of a specific value in an integer array nums in-place, we can use the following approach:\n",
    "\n",
    "Initialize two pointers, i and k, to 0. The pointer i will iterate through the array nums, and the pointer k will keep track of the index for the next non-val element.\n",
    "\n",
    "Iterate through the array nums using the pointer i:\n",
    "\n",
    "If nums[i] is not equal to val, set nums[k] to nums[i], increment k by 1, and move to the next element.\n",
    "If nums[i] is equal to val, skip it and move to the next element.\n",
    "After iterating through the entire array, the first k elements of nums will contain the elements that are not equal to val.\n",
    "\n",
    "Return k as the number of elements in nums that are not equal to val."
   ]
  },
  {
   "cell_type": "code",
   "execution_count": 1,
   "id": "1cb195b5",
   "metadata": {},
   "outputs": [],
   "source": [
    "def removeElement(nums, val):\n",
    "    k = 0\n",
    "    for i in range(len(nums)):\n",
    "        if nums[i] != val:\n",
    "            nums[k] = nums[i]\n",
    "            k += 1\n",
    "    return k"
   ]
  },
  {
   "cell_type": "code",
   "execution_count": 3,
   "id": "cb2d3785",
   "metadata": {},
   "outputs": [
    {
     "name": "stdout",
     "output_type": "stream",
     "text": [
      "Output: 2\n",
      "nums: [2, 2]"
     ]
    }
   ],
   "source": [
    "nums = [3, 2, 2, 3]\n",
    "val = 3\n",
    "\n",
    "k = removeElement(nums, val)\n",
    "print(\"Output:\", k)\n",
    "print(\"nums:\", nums[:k], end=\"\")\n",
    "# print(\"_*_\" * (len(nums) - k))"
   ]
  },
  {
   "cell_type": "code",
   "execution_count": null,
   "id": "06666478",
   "metadata": {},
   "outputs": [],
   "source": []
  },
  {
   "cell_type": "markdown",
   "id": "7ff3c63b",
   "metadata": {},
   "source": [
    "<aside>\n",
    "💡 **Q3.** Given a sorted array of distinct integers and a target value, return the index if the target is found. If not, return the index where it would be if it were inserted in order.\n",
    "\n",
    "You must write an algorithm with O(log n) runtime complexity.\n",
    "\n",
    "**Example 1:**\n",
    "Input: nums = [1,3,5,6], target = 5\n",
    "\n",
    "Output: 2\n",
    "\n",
    "</aside>"
   ]
  },
  {
   "cell_type": "markdown",
   "id": "69e30f8b",
   "metadata": {},
   "source": [
    "**Ans:-**\n",
    "To find the index of a target value in a sorted array of distinct integers or the index where it would be inserted in order, we can use the binary search algorithm. This algorithm has a runtime complexity of O(log n), where n is the size of the array.\n",
    "\n",
    "Here's the step-by-step algorithm:\n",
    "\n",
    "Initialize two pointers, left and right, to the start and end of the array respectively.\n",
    "\n",
    "While left is less than or equal to right, perform the following steps:\n",
    "\n",
    "Calculate the middle index as mid = (left + right) // 2.\n",
    "If the middle element nums[mid] is equal to the target value, return mid as the index where the target is found.\n",
    "If the middle element nums[mid] is greater than the target value, set right = mid - 1 to search the left half of the array.\n",
    "If the middle element nums[mid] is less than the target value, set left = mid + 1 to search the right half of the array.\n",
    "\n",
    "If the target value is not found in the array, the left pointer will be pointing to the index where the target would be inserted. Return left as the index."
   ]
  },
  {
   "cell_type": "code",
   "execution_count": 4,
   "id": "28d78e69",
   "metadata": {},
   "outputs": [],
   "source": [
    "def searchInsert(nums, target):\n",
    "    left, right = 0, len(nums) - 1\n",
    "\n",
    "    while left <= right:\n",
    "        mid = (left + right) // 2\n",
    "        if nums[mid] == target:\n",
    "            return mid\n",
    "        elif nums[mid] < target:\n",
    "            left = mid + 1\n",
    "        else:\n",
    "            right = mid - 1\n",
    "\n",
    "    return left"
   ]
  },
  {
   "cell_type": "code",
   "execution_count": 5,
   "id": "366f01e7",
   "metadata": {},
   "outputs": [
    {
     "name": "stdout",
     "output_type": "stream",
     "text": [
      "Output: 2\n"
     ]
    }
   ],
   "source": [
    "nums = [1, 3, 5, 6]\n",
    "target = 5\n",
    "\n",
    "index = searchInsert(nums, target)\n",
    "print(\"Output:\", index)"
   ]
  },
  {
   "cell_type": "code",
   "execution_count": null,
   "id": "1d8b5eaa",
   "metadata": {},
   "outputs": [],
   "source": []
  },
  {
   "cell_type": "markdown",
   "id": "e8423797",
   "metadata": {},
   "source": [
    "<aside>\n",
    "💡 **Q4.** You are given a large integer represented as an integer array digits, where each digits[i] is the ith digit of the integer. The digits are ordered from most significant to least significant in left-to-right order. The large integer does not contain any leading 0's.\n",
    "\n",
    "Increment the large integer by one and return the resulting array of digits.\n",
    "\n",
    "**Example 1:**\n",
    "Input: digits = [1,2,3]\n",
    "Output: [1,2,4]\n",
    "\n",
    "**Explanation:** The array represents the integer 123.\n",
    "\n",
    "Incrementing by one gives 123 + 1 = 124.\n",
    "Thus, the result should be [1,2,4].\n",
    "\n",
    "</aside>"
   ]
  },
  {
   "cell_type": "markdown",
   "id": "e7bacb3c",
   "metadata": {},
   "source": [
    "**Ans:-**\n",
    "\n",
    "To increment a large integer represented as an integer array digits, we can follow the following steps:\n",
    "\n",
    "Start from the rightmost digit of the array and initialize a carry variable carry as 1. This represents the value to be added to the digits.\n",
    "\n",
    "Iterate over the digits from right to left:\n",
    "\n",
    "Calculate the sum of the current digit and the carry.\n",
    "Update the current digit to the sum modulo 10.\n",
    "Update the carry to the sum divided by 10 (integer division).\n",
    "After iterating through all the digits, if the carry is still 1, it means there was a carry-over to an additional digit. Append this carry digit to the left of the array.\n",
    "\n",
    "Reverse the array to restore the original order of digits.\n",
    "\n",
    "Return the updated array."
   ]
  },
  {
   "cell_type": "code",
   "execution_count": 6,
   "id": "aa56ab13",
   "metadata": {},
   "outputs": [],
   "source": [
    "def plusOne(digits):\n",
    "    carry = 1\n",
    "\n",
    "    for i in range(len(digits) - 1, -1, -1):\n",
    "        digit_sum = digits[i] + carry\n",
    "        digits[i] = digit_sum % 10\n",
    "        carry = digit_sum // 10\n",
    "\n",
    "    if carry == 1:\n",
    "        digits.insert(0, carry)\n",
    "\n",
    "    return digits"
   ]
  },
  {
   "cell_type": "code",
   "execution_count": 7,
   "id": "0d7d6a52",
   "metadata": {},
   "outputs": [
    {
     "name": "stdout",
     "output_type": "stream",
     "text": [
      "Output: [1, 2, 4]\n"
     ]
    }
   ],
   "source": [
    "digits = [1, 2, 3]\n",
    "result = plusOne(digits)\n",
    "print(\"Output:\", result)"
   ]
  },
  {
   "cell_type": "code",
   "execution_count": 8,
   "id": "f3895d87",
   "metadata": {},
   "outputs": [
    {
     "name": "stdout",
     "output_type": "stream",
     "text": [
      "Output: [1, 2, 3, 8]\n"
     ]
    }
   ],
   "source": [
    "digits = [1, 2, 3,7]\n",
    "result = plusOne(digits)\n",
    "print(\"Output:\", result)"
   ]
  },
  {
   "cell_type": "code",
   "execution_count": null,
   "id": "ea50003d",
   "metadata": {},
   "outputs": [],
   "source": []
  },
  {
   "cell_type": "markdown",
   "id": "22d8e2e9",
   "metadata": {},
   "source": [
    "<aside>\n",
    "💡 **Q5.** You are given two integer arrays nums1 and nums2, sorted in non-decreasing order, and two integers m and n, representing the number of elements in nums1 and nums2 respectively.\n",
    "\n",
    "Merge nums1 and nums2 into a single array sorted in non-decreasing order.\n",
    "\n",
    "The final sorted array should not be returned by the function, but instead be stored inside the array nums1. To accommodate this, nums1 has a length of m + n, where the first m elements denote the elements that should be merged, and the last n elements are set to 0 and should be ignored. nums2 has a length of n.\n",
    "\n",
    "**Example 1:**\n",
    "Input: nums1 = [1,2,3,0,0,0], m = 3, nums2 = [2,5,6], n = 3\n",
    "Output: [1,2,2,3,5,6]\n",
    "\n",
    "**Explanation:** The arrays we are merging are [1,2,3] and [2,5,6].\n",
    "The result of the merge is [1,2,2,3,5,6] with the underlined elements coming from nums1.\n",
    "\n",
    "</aside>"
   ]
  },
  {
   "cell_type": "markdown",
   "id": "0fd739a1",
   "metadata": {},
   "source": [
    "**Ans:-**\n",
    "To merge two sorted arrays nums1 and nums2 into a single sorted array in non-decreasing order, we can use the following approach:\n",
    "\n",
    "Initialize three pointers, p1, p2, and p:\n",
    "\n",
    "p1 points to the last element in nums1 (excluding the extra zeros).\n",
    "p2 points to the last element in nums2.\n",
    "p points to the last position in nums1, which can accommodate the merged elements.\n",
    "Iterate from p to 0 (inclusive) while p1 and p2 are greater than or equal to 0:\n",
    "\n",
    "If nums1[p1] is greater than nums2[p2], set nums1[p] to nums1[p1], decrement p1 by 1, and decrement p by 1.\n",
    "If nums1[p1] is less than or equal to nums2[p2], set nums1[p] to nums2[p2], decrement p2 by 1, and decrement p by 1.\n",
    "After the above loop, there are three possible cases to handle:\n",
    "\n",
    "If there are remaining elements in nums2 and p2 is greater than or equal to 0, copy the remaining elements of nums2 to nums1.\n",
    "If there are remaining elements in nums1 and p1 is greater than or equal to 0, no additional action is needed as the remaining elements are already in the correct place.\n",
    "If both p1 and p2 become negative, it means all elements of nums2 have been merged into nums1 and no further action is needed.\n",
    "The merged array is now stored in nums1 with the elements in non-decreasing order."
   ]
  },
  {
   "cell_type": "code",
   "execution_count": 9,
   "id": "a8a9fdc2",
   "metadata": {},
   "outputs": [],
   "source": [
    "def merge(nums1, m, nums2, n):\n",
    "    p1 = m - 1\n",
    "    p2 = n - 1\n",
    "    p = m + n - 1\n",
    "\n",
    "    while p1 >= 0 and p2 >= 0:\n",
    "        if nums1[p1] > nums2[p2]:\n",
    "            nums1[p] = nums1[p1]\n",
    "            p1 -= 1\n",
    "        else:\n",
    "            nums1[p] = nums2[p2]\n",
    "            p2 -= 1\n",
    "        p -= 1\n",
    "\n",
    "    if p2 >= 0:\n",
    "        nums1[:p2 + 1] = nums2[:p2 + 1]\n",
    "\n",
    "    return nums1"
   ]
  },
  {
   "cell_type": "code",
   "execution_count": 10,
   "id": "4f2af8af",
   "metadata": {},
   "outputs": [
    {
     "name": "stdout",
     "output_type": "stream",
     "text": [
      "Output: [1, 2, 2, 3, 5, 6]\n"
     ]
    }
   ],
   "source": [
    "nums1 = [1, 2, 3, 0, 0, 0]\n",
    "m = 3\n",
    "nums2 = [2, 5, 6]\n",
    "n = 3\n",
    "\n",
    "result = merge(nums1, m, nums2, n)\n",
    "print(\"Output:\", result)"
   ]
  },
  {
   "cell_type": "code",
   "execution_count": null,
   "id": "ae95603b",
   "metadata": {},
   "outputs": [],
   "source": []
  },
  {
   "cell_type": "markdown",
   "id": "c600881f",
   "metadata": {},
   "source": [
    "<aside>\n",
    "💡 **Q6.** Given an integer array nums, return true if any value appears at least twice in the array, and return false if every element is distinct.\n",
    "\n",
    "**Example 1:**\n",
    "Input: nums = [1,2,3,1]\n",
    "\n",
    "Output: true\n",
    "\n",
    "</aside>"
   ]
  },
  {
   "cell_type": "markdown",
   "id": "e7b4daa6",
   "metadata": {},
   "source": [
    "\n",
    "**Ans:-**\n",
    "To determine if any value appears at least twice in an integer array nums, we can use a set to keep track of the unique elements encountered so far. Here's the algorithm:\n",
    "\n",
    "Initialize an empty set called seen.\n",
    "\n",
    "Iterate through each element num in nums:\n",
    "\n",
    "If num is already in the seen set, return True as there is a duplicate element.\n",
    "If num is not in the seen set, add it to the set.\n",
    "If the loop completes without finding any duplicates, return False as all elements are distinct."
   ]
  },
  {
   "cell_type": "code",
   "execution_count": 11,
   "id": "4e89c6bc",
   "metadata": {},
   "outputs": [],
   "source": [
    "def containsDuplicate(nums):\n",
    "    seen = set()\n",
    "\n",
    "    for num in nums:\n",
    "        if num in seen:\n",
    "            return True\n",
    "        seen.add(num)\n",
    "\n",
    "    return False"
   ]
  },
  {
   "cell_type": "code",
   "execution_count": 12,
   "id": "47e941ce",
   "metadata": {},
   "outputs": [
    {
     "name": "stdout",
     "output_type": "stream",
     "text": [
      "Output: True\n"
     ]
    }
   ],
   "source": [
    "nums = [1, 2, 3, 1]\n",
    "result = containsDuplicate(nums)\n",
    "print(\"Output:\", result)"
   ]
  },
  {
   "cell_type": "code",
   "execution_count": 13,
   "id": "e426aa0f",
   "metadata": {},
   "outputs": [
    {
     "name": "stdout",
     "output_type": "stream",
     "text": [
      "Output: False\n"
     ]
    }
   ],
   "source": [
    "nums = [1, 2, 3]\n",
    "result = containsDuplicate(nums)\n",
    "print(\"Output:\", result)"
   ]
  },
  {
   "cell_type": "code",
   "execution_count": null,
   "id": "3fbfdbc2",
   "metadata": {},
   "outputs": [],
   "source": []
  },
  {
   "cell_type": "markdown",
   "id": "8d830b79",
   "metadata": {},
   "source": [
    "<aside>\n",
    "💡 **Q7.** Given an integer array nums, move all 0's to the end of it while maintaining the relative order of the nonzero elements.\n",
    "\n",
    "Note that you must do this in-place without making a copy of the array.\n",
    "\n",
    "**Example 1:**\n",
    "Input: nums = [0,1,0,3,12]\n",
    "Output: [1,3,12,0,0]\n",
    "\n",
    "</aside>"
   ]
  },
  {
   "cell_type": "markdown",
   "id": "e1e22bd4",
   "metadata": {},
   "source": [
    "**Ans:-**\n",
    "To move all zeros to the end of an integer array nums while maintaining the relative order of the nonzero elements, we can use a two-pointer approach. Here's how the algorithm works:\n",
    "\n",
    "Initialize two pointers, left and right, both pointing to the start of the array.\n",
    "\n",
    "Iterate through the array using the right pointer:\n",
    "\n",
    "If nums[right] is not equal to 0, swap nums[left] with nums[right], increment both left and right pointers.\n",
    "If nums[right] is equal to 0, increment only the right pointer.\n",
    "After the iteration, all nonzero elements will be placed at the beginning of the array, and all zeros will be at the end."
   ]
  },
  {
   "cell_type": "code",
   "execution_count": 14,
   "id": "26d8cb66",
   "metadata": {},
   "outputs": [],
   "source": [
    "def moveZeroes(nums):\n",
    "    left = right = 0\n",
    "\n",
    "    while right < len(nums):\n",
    "        if nums[right] != 0:\n",
    "            nums[left], nums[right] = nums[right], nums[left]\n",
    "            left += 1\n",
    "        right += 1\n",
    "\n",
    "    return nums"
   ]
  },
  {
   "cell_type": "code",
   "execution_count": 15,
   "id": "60fcaf6b",
   "metadata": {},
   "outputs": [
    {
     "name": "stdout",
     "output_type": "stream",
     "text": [
      "Output: [1, 3, 12, 0, 0]\n"
     ]
    }
   ],
   "source": [
    "nums = [0, 1, 0, 3, 12]\n",
    "result = moveZeroes(nums)\n",
    "print(\"Output:\", result)"
   ]
  },
  {
   "cell_type": "code",
   "execution_count": null,
   "id": "0ebdcd78",
   "metadata": {},
   "outputs": [],
   "source": []
  },
  {
   "cell_type": "markdown",
   "id": "8f725ad1",
   "metadata": {},
   "source": [
    "<aside>\n",
    "💡 **Q8.** You have a set of integers s, which originally contains all the numbers from 1 to n. Unfortunately, due to some error, one of the numbers in s got duplicated to another number in the set, which results in repetition of one number and loss of another number.\n",
    "\n",
    "You are given an integer array nums representing the data status of this set after the error.\n",
    "\n",
    "Find the number that occurs twice and the number that is missing and return them in the form of an array.\n",
    "\n",
    "**Example 1:**\n",
    "Input: nums = [1,2,2,4]\n",
    "Output: [2,3]\n",
    "\n",
    "</aside>"
   ]
  },
  {
   "cell_type": "markdown",
   "id": "be4d8ffe",
   "metadata": {},
   "source": [
    "**Ans:-**\n",
    "To find the number that occurs twice and the number that is missing in an integer array nums, we can use the following approach:\n",
    "\n",
    "Initialize a set called seen to keep track of the numbers encountered in nums.\n",
    "\n",
    "Initialize two variables, duplicate and missing, to 0. These variables will store the duplicate number and the missing number, respectively.\n",
    "\n",
    "Iterate through each element num in nums:\n",
    "\n",
    "If num is already in the seen set, it is the duplicate number. Set duplicate to num.\n",
    "Add num to the seen set.\n",
    "Iterate from 1 to the length of nums (inclusive) and check if each number is present in the seen set:\n",
    "\n",
    "If a number is not present in the seen set, it is the missing number. Set missing to that number.\n",
    "Return the array [duplicate, missing] as the result."
   ]
  },
  {
   "cell_type": "code",
   "execution_count": 20,
   "id": "dee01fdf",
   "metadata": {},
   "outputs": [],
   "source": [
    "def findErrorNums(nums):\n",
    "    seen = set()\n",
    "    duplicate = missing = 0\n",
    "\n",
    "    for num in nums:\n",
    "        if num in seen:\n",
    "            duplicate = num\n",
    "        seen.add(num)\n",
    "\n",
    "    for i in range(1, len(nums) + 1):\n",
    "        if i not in seen:\n",
    "            missing = i\n",
    "\n",
    "    return [duplicate, missing]\n"
   ]
  },
  {
   "cell_type": "code",
   "execution_count": 21,
   "id": "c90d0a5e",
   "metadata": {},
   "outputs": [
    {
     "name": "stdout",
     "output_type": "stream",
     "text": [
      "Output: [2, 3]\n"
     ]
    }
   ],
   "source": [
    "nums = [1, 2, 2, 4]\n",
    "result = findErrorNums(nums)\n",
    "print(\"Output:\", result)\n"
   ]
  }
 ],
 "metadata": {
  "kernelspec": {
   "display_name": "Python 3 (ipykernel)",
   "language": "python",
   "name": "python3"
  },
  "language_info": {
   "codemirror_mode": {
    "name": "ipython",
    "version": 3
   },
   "file_extension": ".py",
   "mimetype": "text/x-python",
   "name": "python",
   "nbconvert_exporter": "python",
   "pygments_lexer": "ipython3",
   "version": "3.10.9"
  }
 },
 "nbformat": 4,
 "nbformat_minor": 5
}
