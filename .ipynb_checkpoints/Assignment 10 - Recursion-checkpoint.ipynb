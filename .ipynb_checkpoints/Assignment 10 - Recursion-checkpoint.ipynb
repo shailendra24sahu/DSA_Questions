{
 "cells": [
  {
   "cell_type": "markdown",
   "id": "01facab4",
   "metadata": {},
   "source": [
    "Q1:- \n",
    "Given an integer `n`, return *`true` if it is a power of three. Otherwise, return `false`*.\n",
    "\n",
    "An integer `n` is a power of three, if there exists an integer `x` such that `n == 3x`.\n",
    "\n",
    "**Example 1:**\n",
    "\n",
    "```\n",
    "Input: n = 27\n",
    "Output: true\n",
    "Explanation: 27 = 33\n",
    "```\n",
    "\n",
    "**Example 2:**\n",
    "\n",
    "```\n",
    "Input: n = 0\n",
    "Output: false\n",
    "Explanation: There is no x where 3x = 0.\n",
    "\n",
    "```\n",
    "\n",
    "**Example 3:**"
   ]
  },
  {
   "cell_type": "markdown",
   "id": "306994dd",
   "metadata": {},
   "source": [
    "**Ans:-**\n",
    "To determine if an integer `n` is a power of three, we can use the following approach:\n",
    "\n",
    "1. Check if `n` is less than or equal to 0. If it is, return `false` since a power of three must be a positive integer.\n",
    "2. Initialize a variable `x` to 1.\n",
    "3. While `x` is less than `n`, multiply `x` by 3.\n",
    "4. If `x` becomes equal to `n`, return `true` since `n` is a power of three. Otherwise, return `false`."
   ]
  },
  {
   "cell_type": "code",
   "execution_count": 14,
   "id": "bc67c90f",
   "metadata": {},
   "outputs": [],
   "source": [
    "def isPowerOfThree(n):\n",
    "    if n <= 0:\n",
    "        return False\n",
    "\n",
    "    x = 1\n",
    "    while x < n:\n",
    "        x *= 3\n",
    "\n",
    "    return x == n"
   ]
  },
  {
   "cell_type": "code",
   "execution_count": 15,
   "id": "e93e1e99",
   "metadata": {},
   "outputs": [
    {
     "name": "stdout",
     "output_type": "stream",
     "text": [
      "True\n",
      "True\n"
     ]
    }
   ],
   "source": [
    "print(isPowerOfThree(27))  # Output: True\n",
    "print(isPowerOfThree(1))   # Output: False"
   ]
  },
  {
   "cell_type": "code",
   "execution_count": 16,
   "id": "1727dbf6",
   "metadata": {},
   "outputs": [],
   "source": [
    "# method2\n",
    "def powerofthree(n):\n",
    "    if n<= 0:\n",
    "        return False\n",
    "    while n>1:\n",
    "        if n%3 !=0:     # check if it is divisible by 3\n",
    "            return False\n",
    "        n = n//3       # floor div by 3 and get new n\n",
    "    return True"
   ]
  },
  {
   "cell_type": "code",
   "execution_count": 19,
   "id": "fea66a9e",
   "metadata": {},
   "outputs": [
    {
     "name": "stdout",
     "output_type": "stream",
     "text": [
      "False\n",
      "True\n",
      "True\n"
     ]
    }
   ],
   "source": [
    "print(powerofthree(18))\n",
    "print(powerofthree(27))\n",
    "print(powerofthree(1))"
   ]
  },
  {
   "cell_type": "code",
   "execution_count": null,
   "id": "fec4a508",
   "metadata": {},
   "outputs": [],
   "source": []
  },
  {
   "cell_type": "markdown",
   "id": "cb5bb37b",
   "metadata": {},
   "source": [
    "<aside>\n",
    "💡 **Question 2**\n",
    "\n",
    "You have a list `arr` of all integers in the range `[1, n]` sorted in a strictly increasing order. Apply the following algorithm on `arr`:\n",
    "\n",
    "- Starting from left to right, remove the first number and every other number afterward until you reach the end of the list.\n",
    "- Repeat the previous step again, but this time from right to left, remove the rightmost number and every other number from the remaining numbers.\n",
    "- Keep repeating the steps again, alternating left to right and right to left, until a single number remains.\n",
    "\n",
    "Given the integer `n`, return *the last number that remains in* `arr`.\n",
    "\n",
    "**Example 1:**\n",
    "\n",
    "```\n",
    "Input: n = 9\n",
    "Output: 6\n",
    "Explanation:\n",
    "arr = [1, 2,3, 4,5, 6,7, 8,9]\n",
    "arr = [2,4, 6,8]\n",
    "arr = [2, 6]\n",
    "arr = [6]\n",
    "\n",
    "```\n",
    "\n",
    "**Example 2:**\n",
    "\n",
    "</aside>"
   ]
  },
  {
   "cell_type": "markdown",
   "id": "5717cd1c",
   "metadata": {},
   "source": [
    "**Ans:-**\n",
    "To find the last number that remains in the given list `arr` according to the described algorithm, we can use a recursive approach.\n",
    "\n",
    "The algorithm reduces the list size by half in each iteration until only one number remains. We can divide the problem into two subproblems by considering the left and right halves separately.\n",
    "\n",
    "Here's the step-by-step algorithm:\n",
    "\n",
    "1. If `n` is equal to 1, return `1` as it is the only number remaining.\n",
    "2. If `n` is an even number, the first number remaining after removing every other number is the same as the first number remaining in the list `[2, 4, 6, ..., n]` when applying the algorithm on `n/2`.\n",
    "3. If `n` is an odd number, the first number remaining after removing every other number is the same as the first number remaining in the list `[2, 4, 6, ..., n-1]` when applying the algorithm on `n/2`.\n",
    "4. If `n` is even, call the function recursively with `n/2` and return the result.\n",
    "5. If `n` is odd, call the function recursively with `(n-1)/2` and return the result multiplied by 2."
   ]
  },
  {
   "cell_type": "code",
   "execution_count": 3,
   "id": "09435914",
   "metadata": {},
   "outputs": [],
   "source": [
    "def lastRemaining(n):\n",
    "    if n == 1:\n",
    "        return 1\n",
    "    if n % 2 == 0:\n",
    "        return lastRemaining(n // 2)\n",
    "    else:\n",
    "        return lastRemaining((n - 1) // 2) * 2"
   ]
  },
  {
   "cell_type": "code",
   "execution_count": 4,
   "id": "35ce7270",
   "metadata": {},
   "outputs": [
    {
     "name": "stdout",
     "output_type": "stream",
     "text": [
      "2\n"
     ]
    }
   ],
   "source": [
    "print(lastRemaining(9))  # Output: 6"
   ]
  },
  {
   "cell_type": "code",
   "execution_count": null,
   "id": "16668448",
   "metadata": {},
   "outputs": [],
   "source": []
  },
  {
   "cell_type": "markdown",
   "id": "ad4d495c",
   "metadata": {},
   "source": [
    "<aside>\n",
    "💡 **Question 3**\n",
    "\n",
    "****Given a set represented as a string, write a recursive code to print all subsets of it. The subsets can be printed in any order.\n",
    "\n",
    "**Example 1:**\n",
    "\n",
    "Input :  set = “abc”\n",
    "\n",
    "Output : { “”, “a”, “b”, “c”, “ab”, “ac”, “bc”, “abc”}\n",
    "\n",
    "**Example 2:**\n",
    "\n",
    "Input : set = “abcd”\n",
    "\n",
    "Output : { “”, “a” ,”ab” ,”abc” ,”abcd”, “abd” ,”ac” ,”acd”, “ad” ,”b”, “bc” ,”bcd” ,”bd” ,”c” ,”cd” ,”d” }\n",
    "\n",
    "</aside>"
   ]
  },
  {
   "cell_type": "markdown",
   "id": "a62afda1",
   "metadata": {},
   "source": [
    "**Ans:-**\n",
    "To print all subsets of a given set represented as a string, we can use a recursive approach.\n",
    "\n",
    "Here's the step-by-step algorithm:\n",
    "\n",
    "1. Define a recursive function `printSubsets(set, currentSubset, index)` that takes the set string, the current subset string, and the current index as parameters.\n",
    "2. If the current index is equal to the length of the set string, print the current subset and return.\n",
    "3. Recursively call the `printSubsets` function twice:\n",
    "   - In the first call, pass the set string, the current subset appended with the character at the current index, and increment the index by 1.\n",
    "   - In the second call, pass the set string, the current subset without appending any character, and increment the index by 1.\n",
    "4. Call the `printSubsets` function with the initial parameters: the set string, an empty string as the current subset, and index 0."
   ]
  },
  {
   "cell_type": "code",
   "execution_count": 5,
   "id": "ab38993a",
   "metadata": {},
   "outputs": [],
   "source": [
    "def printSubsets(set, currentSubset, index):\n",
    "    if index == len(set):\n",
    "        print(currentSubset)\n",
    "        return\n",
    "\n",
    "    printSubsets(set, currentSubset + set[index], index + 1)\n",
    "    printSubsets(set, currentSubset, index + 1)\n",
    "\n",
    "\n",
    "def printAllSubsets(set):\n",
    "    printSubsets(set, \"\", 0)"
   ]
  },
  {
   "cell_type": "code",
   "execution_count": 6,
   "id": "a619e85e",
   "metadata": {},
   "outputs": [
    {
     "name": "stdout",
     "output_type": "stream",
     "text": [
      "abc\n",
      "ab\n",
      "ac\n",
      "a\n",
      "bc\n",
      "b\n",
      "c\n",
      "\n"
     ]
    }
   ],
   "source": [
    "printAllSubsets(\"abc\")"
   ]
  },
  {
   "cell_type": "code",
   "execution_count": 7,
   "id": "eb1d5cf8",
   "metadata": {},
   "outputs": [
    {
     "name": "stdout",
     "output_type": "stream",
     "text": [
      "abcd\n",
      "abc\n",
      "abd\n",
      "ab\n",
      "acd\n",
      "ac\n",
      "ad\n",
      "a\n",
      "bcd\n",
      "bc\n",
      "bd\n",
      "b\n",
      "cd\n",
      "c\n",
      "d\n",
      "\n"
     ]
    }
   ],
   "source": [
    "printAllSubsets(\"abcd\")"
   ]
  },
  {
   "cell_type": "code",
   "execution_count": null,
   "id": "858d3f48",
   "metadata": {},
   "outputs": [],
   "source": []
  },
  {
   "cell_type": "markdown",
   "id": "6ae3ab16",
   "metadata": {},
   "source": [
    "<aside>\n",
    "💡 **Question 4**\n",
    "\n",
    "Given a string calculate length of the string using recursion.\n",
    "\n",
    "**Examples:**\n",
    "\n",
    "</aside>"
   ]
  },
  {
   "cell_type": "markdown",
   "id": "326b8786",
   "metadata": {},
   "source": [
    "**Ans:-**\n",
    "To calculate the length of a string using recursion, we can use the following approach:\n",
    "\n",
    "1. If the string is empty or has a length of 0, return 0 as the length.\n",
    "2. Otherwise, remove the first character from the string and recursively calculate the length of the remaining substring.\n",
    "3. Add 1 to the length of the remaining substring to account for the removed character and return the result."
   ]
  },
  {
   "cell_type": "code",
   "execution_count": 8,
   "id": "823fd5d8",
   "metadata": {},
   "outputs": [],
   "source": [
    "def calculateLength(string):\n",
    "    if string == \"\":\n",
    "        return 0\n",
    "    else:\n",
    "        return 1 + calculateLength(string[1:])"
   ]
  },
  {
   "cell_type": "code",
   "execution_count": 9,
   "id": "ff74c663",
   "metadata": {},
   "outputs": [
    {
     "name": "stdout",
     "output_type": "stream",
     "text": [
      "0\n",
      "5\n",
      "9\n"
     ]
    }
   ],
   "source": [
    "print(calculateLength(\"\"))          # Output: 0\n",
    "print(calculateLength(\"Hello\"))     # Output: 5\n",
    "print(calculateLength(\"Recursion\")) # Output: 9"
   ]
  },
  {
   "cell_type": "code",
   "execution_count": null,
   "id": "2a49e4e5",
   "metadata": {},
   "outputs": [],
   "source": []
  },
  {
   "cell_type": "markdown",
   "id": "f83775d5",
   "metadata": {},
   "source": [
    "<aside>\n",
    "💡 **Question 5**\n",
    "\n",
    "We are given a string S, we need to find count of all contiguous substrings starting and ending with same character.\n",
    "\n",
    "**Examples :**\n",
    "```\n",
    "Input  : S = \"abcab\"\n",
    "Output : 7\n",
    "There are 15 substrings of \"abcab\"\n",
    "a, ab, abc, abca, abcab, b, bc, bca\n",
    "bcab, c, ca, cab, a, ab, b\n",
    "Out of the above substrings, there\n",
    "are 7 substrings : a, abca, b, bcab,\n",
    "c, a and b.\n",
    "\n",
    "Input  : S = \"aba\"\n",
    "Output : 4\n",
    "The substrings are a, b, a and aba\n",
    "```\n",
    "</aside>"
   ]
  },
  {
   "cell_type": "markdown",
   "id": "ea43070d",
   "metadata": {},
   "source": [
    "**Ans:-**\n",
    "To find the count of all contiguous substrings in a string S that start and end with the same character, we can use the following approach:\n",
    "```\n",
    "Initialize a variable count to 0 to keep track of the count of valid substrings.\n",
    "Iterate over each character c in the string S.\n",
    "For each character c, consider it as the potential ending character of a valid substring.\n",
    "While considering c as the ending character, iterate backward from the current position and count the number of substrings that start with the same character c.\n",
    "Increment the count by the number of substrings found in the previous step.\n",
    "Finally, return the count as the result.\n",
    "```"
   ]
  },
  {
   "cell_type": "code",
   "execution_count": 10,
   "id": "0badb307",
   "metadata": {},
   "outputs": [],
   "source": [
    "def countSubstrings(S):\n",
    "    count = 0\n",
    "    n = len(S)\n",
    "\n",
    "    for i in range(n):\n",
    "        for j in range(i, -1, -1):\n",
    "            if S[i] == S[j]:\n",
    "                count += 1\n",
    "\n",
    "    return count"
   ]
  },
  {
   "cell_type": "code",
   "execution_count": 11,
   "id": "1e15687a",
   "metadata": {},
   "outputs": [
    {
     "name": "stdout",
     "output_type": "stream",
     "text": [
      "3\n",
      "6\n",
      "9\n"
     ]
    }
   ],
   "source": [
    "print(countSubstrings(\"abc\"))       # Output: 3\n",
    "print(countSubstrings(\"aaa\"))       # Output: 6\n",
    "print(countSubstrings(\"abccba\"))    # Output: 9"
   ]
  },
  {
   "cell_type": "code",
   "execution_count": 12,
   "id": "2fe18281",
   "metadata": {},
   "outputs": [
    {
     "name": "stdout",
     "output_type": "stream",
     "text": [
      "7\n"
     ]
    }
   ],
   "source": [
    "print(countSubstrings(\"abcab\")) "
   ]
  },
  {
   "cell_type": "code",
   "execution_count": null,
   "id": "bd2e8333",
   "metadata": {},
   "outputs": [],
   "source": []
  },
  {
   "cell_type": "markdown",
   "id": "e2ba5886",
   "metadata": {},
   "source": [
    "<aside>\n",
    "💡 **Question 7**\n",
    "\n",
    "Given a string **str**, the task is to print all the permutations of **str**. A **permutation** is an arrangement of all or part of a set of objects, with regard to the order of the arrangement. For instance, the words ‘bat’ and ‘tab’ represents two distinct permutation (or arrangements) of a similar three letter word.\n",
    "\n",
    "**Examples:**\n",
    "\n",
    "> Input: str = “cd”\n",
    "> \n",
    "> \n",
    "> **Output:** cd dc\n",
    "> \n",
    "> **Input:** str = “abb”\n",
    "> \n",
    "> **Output:** abb abb bab bba bab bba\n",
    "> \n",
    "</aside>"
   ]
  },
  {
   "cell_type": "markdown",
   "id": "2e6555b8",
   "metadata": {},
   "source": [
    "**Ans:-**\n",
    "To generate all permutations of a given string, we can use a recursive algorithm. Here's an example implementation in Python:"
   ]
  },
  {
   "cell_type": "code",
   "execution_count": 1,
   "id": "b1749b46",
   "metadata": {},
   "outputs": [
    {
     "name": "stdout",
     "output_type": "stream",
     "text": [
      "abc\n",
      "acb\n",
      "bac\n",
      "bca\n",
      "cab\n",
      "cba\n"
     ]
    }
   ],
   "source": [
    "def permute_string(string):\n",
    "    # Base case: if the string is empty, return an empty list\n",
    "    if len(string) == 0:\n",
    "        return []\n",
    "\n",
    "    # Base case: if the string has only one character, return a list containing that character\n",
    "    if len(string) == 1:\n",
    "        return [string]\n",
    "\n",
    "    # Recursive case: generate permutations by fixing each character in turn\n",
    "    permutations = []  # Store the permutations of the string\n",
    "\n",
    "    for i in range(len(string)):\n",
    "        # Fix the character at position i\n",
    "        fixed_char = string[i]\n",
    "\n",
    "        # Generate permutations of the remaining characters\n",
    "        remaining_chars = string[:i] + string[i + 1:]\n",
    "        sub_permutations = permute_string(remaining_chars)\n",
    "\n",
    "        # Add the fixed character to the front of each permutation\n",
    "        for sub_permutation in sub_permutations:\n",
    "            permutations.append(fixed_char + sub_permutation)\n",
    "\n",
    "    return permutations\n",
    "\n",
    "# Example usage:\n",
    "input_string = \"abc\"\n",
    "permutations = permute_string(input_string)\n",
    "\n",
    "# Print the permutations\n",
    "for permutation in permutations:\n",
    "    print(permutation)"
   ]
  },
  {
   "cell_type": "code",
   "execution_count": null,
   "id": "8659e2eb",
   "metadata": {},
   "outputs": [],
   "source": []
  },
  {
   "cell_type": "markdown",
   "id": "68ada250",
   "metadata": {},
   "source": [
    "<aside>\n",
    "💡 **Question 8**\n",
    "\n",
    "Given a string, count total number of consonants in it. A consonant is an English alphabet character that is not vowel (a, e, i, o and u). Examples of constants are b, c, d, f, and g.\n",
    "\n",
    "**Examples :**\n",
    "```\n",
    "Input : abc de\n",
    "Output : 3\n",
    "There are three consonants b, c and d.\n",
    "\n",
    "Input : geeksforgeeks portal\n",
    "Output : 12\n",
    "```\n",
    "</aside>"
   ]
  },
  {
   "cell_type": "markdown",
   "id": "82a77693",
   "metadata": {},
   "source": [
    "**Ans:-**\n",
    "To count the total number of consonants in a given string, we can use the following algorithm:\n",
    "```\n",
    "Initialize a variable count to 0. This variable will store the count of consonants.\n",
    "Convert the input string to lowercase to handle both uppercase and lowercase characters consistently.\n",
    "Iterate through each character in the string.\n",
    "Check if the character is an alphabet and not a vowel. If the character satisfies these conditions, increment the count variable by 1.\n",
    "After iterating through all the characters, the count variable will contain the total number of consonants in the string.\n",
    "```"
   ]
  },
  {
   "cell_type": "code",
   "execution_count": 2,
   "id": "e37a1a37",
   "metadata": {},
   "outputs": [],
   "source": [
    "def count_consonants(string):\n",
    "    count = 0\n",
    "    vowels = ['a', 'e', 'i', 'o', 'u']\n",
    "    string = string.lower()  # convert string to lowercase\n",
    "\n",
    "    for char in string:\n",
    "        if char.isalpha() and char not in vowels:\n",
    "            count += 1\n",
    "\n",
    "    return count"
   ]
  },
  {
   "cell_type": "code",
   "execution_count": 3,
   "id": "6ab19bed",
   "metadata": {},
   "outputs": [
    {
     "name": "stdout",
     "output_type": "stream",
     "text": [
      "Total consonants: 7\n"
     ]
    }
   ],
   "source": [
    "input_string = \"Hello, World!\"\n",
    "consonant_count = count_consonants(input_string)\n",
    "print(\"Total consonants:\", consonant_count)  # Output: Total consonants: 7"
   ]
  }
 ],
 "metadata": {
  "kernelspec": {
   "display_name": "Python 3 (ipykernel)",
   "language": "python",
   "name": "python3"
  },
  "language_info": {
   "codemirror_mode": {
    "name": "ipython",
    "version": 3
   },
   "file_extension": ".py",
   "mimetype": "text/x-python",
   "name": "python",
   "nbconvert_exporter": "python",
   "pygments_lexer": "ipython3",
   "version": "3.10.9"
  }
 },
 "nbformat": 4,
 "nbformat_minor": 5
}
