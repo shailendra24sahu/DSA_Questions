{
 "cells": [
  {
   "cell_type": "markdown",
   "id": "04d3c36e",
   "metadata": {},
   "source": [
    "<aside>\n",
    "💡 **Question 1**\n",
    "\n",
    "Given a non-negative integer `x`, return *the square root of* `x` *rounded down to the nearest integer*. The returned integer should be **non-negative** as well.\n",
    "\n",
    "You **must not use** any built-in exponent function or operator.\n",
    "\n",
    "- For example, do not use `pow(x, 0.5)` in c++ or `x ** 0.5` in python.\n",
    "\n",
    "**Example 1:**\n",
    "Input: x = 4\n",
    "Output: 2\n",
    "Explanation: The square root of 4 is 2, so we return 2.\n",
    "\n",
    "</aside>"
   ]
  },
  {
   "cell_type": "code",
   "execution_count": 2,
   "id": "56c98114",
   "metadata": {},
   "outputs": [
    {
     "name": "stdout",
     "output_type": "stream",
     "text": [
      "3\n"
     ]
    }
   ],
   "source": [
    "# Returns floor of square root of x\n",
    " \n",
    " \n",
    "def floorSqrt(x):\n",
    " \n",
    "    # Base cases\n",
    "    if (x == 0 or x == 1):\n",
    "        return x\n",
    " \n",
    "    # Starting from 1, try all numbers until\n",
    "    # i*i is greater than or equal to x.\n",
    "    i = 1\n",
    "    result = 1\n",
    "    while (result <= x):\n",
    " \n",
    "        i += 1\n",
    "        result = i * i\n",
    " \n",
    "    return i - 1\n",
    " \n",
    " \n",
    "# Driver Code\n",
    "x = 11\n",
    "print(floorSqrt(x))"
   ]
  },
  {
   "cell_type": "code",
   "execution_count": 9,
   "id": "577d5d80",
   "metadata": {},
   "outputs": [],
   "source": [
    "# method 2\n",
    "def sqrroot(n):\n",
    "    if n<0:\n",
    "        return []\n",
    "    result = 1\n",
    "    i = 1\n",
    "    while result <=n:\n",
    "        i+=1\n",
    "        result = i*i\n",
    "    return i-1"
   ]
  },
  {
   "cell_type": "code",
   "execution_count": 11,
   "id": "2bcd437c",
   "metadata": {},
   "outputs": [
    {
     "data": {
      "text/plain": [
       "2"
      ]
     },
     "execution_count": 11,
     "metadata": {},
     "output_type": "execute_result"
    }
   ],
   "source": [
    "sqrroot(7)"
   ]
  },
  {
   "cell_type": "markdown",
   "id": "e546490d",
   "metadata": {},
   "source": []
  },
  {
   "cell_type": "markdown",
   "id": "a4f149ac",
   "metadata": {},
   "source": [
    "<aside>\n",
    "💡 **Question 2**\n",
    "\n",
    "A peak element is an element that is strictly greater than its neighbors.\n",
    "\n",
    "Given a **0-indexed** integer array `nums`, find a peak element, and return its index. If the array contains multiple peaks, return the index to **any of the peaks**.\n",
    "\n",
    "You may imagine that `nums[-1] = nums[n] = -∞`. In other words, an element is always considered to be strictly greater than a neighbor that is outside the array.\n",
    "\n",
    "You must write an algorithm that runs in `O(log n)` time.\n",
    "\n",
    "**Example 1:**\n",
    "~~~\n",
    "Input: nums = [1,2,3,1]\n",
    "Output: 2\n",
    "Explanation: 3 is a peak element and your function should return the index number 2.\n",
    "~~~\n",
    "</aside>"
   ]
  },
  {
   "cell_type": "code",
   "execution_count": 3,
   "id": "215ed136",
   "metadata": {},
   "outputs": [
    {
     "name": "stdout",
     "output_type": "stream",
     "text": [
      "Index of a peak point is 2\n"
     ]
    }
   ],
   "source": [
    "# Find the peak element in the array\n",
    "def findPeak(arr) :\n",
    "    n = len(arr)\n",
    "    # first or last element is peak element\n",
    "    if (n == 1) :\n",
    "        return 0\n",
    "    if (arr[0] >= arr[1]) :\n",
    "        return 0\n",
    "    if (arr[n - 1] >= arr[n - 2]) :\n",
    "        return n - 1\n",
    "  \n",
    "    # check for every other element\n",
    "    for i in range(1, n - 1) :\n",
    "  \n",
    "        # check if the neighbors are smaller\n",
    "        if (arr[i] >= arr[i - 1] and arr[i] >= arr[i + 1]) :\n",
    "            return i\n",
    "             \n",
    "# Driver code.\n",
    "arr = [ 1, 3, 20, 4, 1, 0 ]\n",
    "print(\"Index of a peak point is\", findPeak(arr))"
   ]
  },
  {
   "cell_type": "code",
   "execution_count": null,
   "id": "6acc6677",
   "metadata": {},
   "outputs": [],
   "source": []
  },
  {
   "cell_type": "markdown",
   "id": "0df4b96f",
   "metadata": {},
   "source": [
    "<aside>\n",
    "💡 **Question 3**\n",
    "\n",
    "****\n",
    "\n",
    "Given an array `nums` containing `n` distinct numbers in the range `[0, n]`, return *the only number in the range that is missing from the array.*\n",
    "\n",
    "**Example 1:**\n",
    "```\n",
    "    \n",
    "Input: nums = [3,0,1]\n",
    "Output: 2\n",
    "Explanation: n = 3 since there are 3 numbers, so all numbers are in the range [0,3]. 2 is the missing number in the range since it does not appear in nums.\n",
    "\n",
    "```\n",
    "</aside>"
   ]
  },
  {
   "cell_type": "code",
   "execution_count": 5,
   "id": "c912a2f3",
   "metadata": {},
   "outputs": [],
   "source": [
    "# Find Missing Element\n",
    "def findMissing(arr):\n",
    "    N = len(arr)\n",
    "   \n",
    "    # create a list of zeroes\n",
    "    temp = [0] * (N+1)\n",
    " \n",
    "    for i in range(0, N):\n",
    "        temp[arr[i] - 1] = 1\n",
    " \n",
    "    for i in range(0, N+1):\n",
    "        if(temp[i] == 0):\n",
    "            ans = i + 1\n",
    " \n",
    "    print(ans)"
   ]
  },
  {
   "cell_type": "code",
   "execution_count": 6,
   "id": "6ae6a0cd",
   "metadata": {},
   "outputs": [
    {
     "name": "stdout",
     "output_type": "stream",
     "text": [
      "2\n"
     ]
    }
   ],
   "source": [
    "findMissing([3,0,1])"
   ]
  },
  {
   "cell_type": "code",
   "execution_count": 7,
   "id": "a8ab9e64",
   "metadata": {},
   "outputs": [
    {
     "name": "stdout",
     "output_type": "stream",
     "text": [
      "8\n"
     ]
    }
   ],
   "source": [
    "findMissing([9,6,4,2,3,5,7,0,1])"
   ]
  },
  {
   "cell_type": "code",
   "execution_count": 12,
   "id": "2747e0ba",
   "metadata": {},
   "outputs": [],
   "source": [
    "# method 2\n",
    "def findmissing(arr):\n",
    "    n = len(arr)\n",
    "    for i in range(n+1):\n",
    "        if i not in arr:\n",
    "            return i"
   ]
  },
  {
   "cell_type": "code",
   "execution_count": 13,
   "id": "74b7da93",
   "metadata": {},
   "outputs": [
    {
     "data": {
      "text/plain": [
       "2"
      ]
     },
     "execution_count": 13,
     "metadata": {},
     "output_type": "execute_result"
    }
   ],
   "source": [
    "findmissing([3,0,1])"
   ]
  },
  {
   "cell_type": "code",
   "execution_count": 14,
   "id": "b00bd247",
   "metadata": {},
   "outputs": [
    {
     "data": {
      "text/plain": [
       "8"
      ]
     },
     "execution_count": 14,
     "metadata": {},
     "output_type": "execute_result"
    }
   ],
   "source": [
    "findmissing([9,6,4,2,3,5,7,0,1])"
   ]
  },
  {
   "cell_type": "code",
   "execution_count": null,
   "id": "ba9933a3",
   "metadata": {},
   "outputs": [],
   "source": []
  },
  {
   "cell_type": "markdown",
   "id": "044c5b69",
   "metadata": {},
   "source": [
    "<aside>\n",
    "💡 **Question 4**\n",
    "\n",
    "Given an array of integers `nums` containing `n + 1` integers where each integer is in the range `[1, n]` inclusive.\n",
    "\n",
    "There is only **one repeated number** in `nums`, return *this repeated number*.\n",
    "\n",
    "You must solve the problem **without** modifying the array `nums` and uses only constant extra space.\n",
    "\n",
    "**Example 1:**\n",
    "Input: nums = [1,3,4,2,2]\n",
    "Output: 2\n",
    "\n",
    "</aside>"
   ]
  },
  {
   "cell_type": "code",
   "execution_count": 18,
   "id": "9d750f1b",
   "metadata": {},
   "outputs": [
    {
     "name": "stdout",
     "output_type": "stream",
     "text": [
      "2\n"
     ]
    }
   ],
   "source": [
    "def find_repeated_number(nums):\n",
    "    n = len(nums)\n",
    "    seen = set()\n",
    "    for num in nums:\n",
    "        if num in seen:\n",
    "            return num\n",
    "        else:\n",
    "            seen.add(num)\n",
    "    return -1\n",
    "\n",
    "\n",
    "\n",
    "nums = [1, 3, 4, 2, 2]\n",
    "print(find_repeated_number(nums))\n"
   ]
  },
  {
   "cell_type": "code",
   "execution_count": null,
   "id": "9ea5a3c8",
   "metadata": {},
   "outputs": [],
   "source": []
  },
  {
   "cell_type": "markdown",
   "id": "df149dfd",
   "metadata": {},
   "source": [
    "<aside>\n",
    "💡 **Question 5**\n",
    "\n",
    "Given two integer arrays `nums1` and `nums2`, return *an array of their intersection*. Each element in the result must be **unique** and you may return the result in **any order**.\n",
    "\n",
    "```\n",
    "Input: nums1 = [1,2,2,1], nums2 = [2,2]\n",
    "Output: [2]\n",
    "```\n",
    "</aside>"
   ]
  },
  {
   "cell_type": "code",
   "execution_count": 16,
   "id": "45c5c15c",
   "metadata": {},
   "outputs": [
    {
     "name": "stdout",
     "output_type": "stream",
     "text": [
      "[2]\n"
     ]
    }
   ],
   "source": [
    "def intersection(nums1, nums2):\n",
    "    intersection = []\n",
    "    seen = set()\n",
    "    for num in nums1:\n",
    "        if num in seen:\n",
    "            continue\n",
    "        if num in nums2:\n",
    "            intersection.append(num)\n",
    "            seen.add(num)\n",
    "    return intersection\n",
    "\n",
    "nums1 = [1, 2, 2, 1]\n",
    "nums2 = [2, 2]\n",
    "print(intersection(nums1, nums2))\n"
   ]
  },
  {
   "cell_type": "code",
   "execution_count": 20,
   "id": "d8252c9e",
   "metadata": {},
   "outputs": [],
   "source": [
    "# method 2\n",
    "def intersec(nums1,nums2):\n",
    "    seen = set()\n",
    "    \n",
    "    for i in nums1:\n",
    "        if i in nums2:\n",
    "            seen.add(i)\n",
    "    return seen"
   ]
  },
  {
   "cell_type": "code",
   "execution_count": 21,
   "id": "33adc3c1",
   "metadata": {},
   "outputs": [
    {
     "data": {
      "text/plain": [
       "{2}"
      ]
     },
     "execution_count": 21,
     "metadata": {},
     "output_type": "execute_result"
    }
   ],
   "source": [
    "intersec(nums1, nums2)"
   ]
  },
  {
   "cell_type": "code",
   "execution_count": null,
   "id": "9415cc93",
   "metadata": {},
   "outputs": [],
   "source": []
  },
  {
   "cell_type": "markdown",
   "id": "a507108b",
   "metadata": {},
   "source": [
    "<aside>\n",
    "💡 **Question 6**\n",
    "\n",
    "Suppose an array of length `n` sorted in ascending order is **rotated** between `1` and `n` times. For example, the array `nums = [0,1,2,4,5,6,7]` might become:\n",
    "\n",
    "- `[4,5,6,7,0,1,2]` if it was rotated `4` times.\n",
    "- `[0,1,2,4,5,6,7]` if it was rotated `7` times.\n",
    "\n",
    "Notice that **rotating** an array `[a[0], a[1], a[2], ..., a[n-1]]` 1 time results in the array `[a[n-1], a[0], a[1], a[2], ..., a[n-2]]`.\n",
    "\n",
    "Given the sorted rotated array `nums` of **unique** elements, return *the minimum element of this array*.\n",
    "\n",
    "You must write an algorithm that runs in `O(log n) time.`\n",
    "\n",
    "**Example 1:**\n",
    "```\n",
    "Input: nums = [3,4,5,1,2]\n",
    "Output: 1\n",
    "Explanation: The original array was [1,2,3,4,5] rotated 3 times.\n",
    "```\n",
    "</aside>"
   ]
  },
  {
   "cell_type": "code",
   "execution_count": 21,
   "id": "28edeaed",
   "metadata": {},
   "outputs": [
    {
     "name": "stdout",
     "output_type": "stream",
     "text": [
      "1\n"
     ]
    }
   ],
   "source": [
    "def find_minimum_element(nums):\n",
    "    low = 0\n",
    "    high = len(nums) - 1\n",
    "    while low < high:\n",
    "        mid = (low + high) // 2\n",
    "        if nums[mid] > nums[high]:\n",
    "            low = mid + 1\n",
    "        else:\n",
    "            high = mid\n",
    "    return nums[low]\n",
    "\n",
    "\n",
    "nums = [3, 4, 5, 1, 2]\n",
    "print(find_minimum_element(nums))\n"
   ]
  },
  {
   "cell_type": "code",
   "execution_count": null,
   "id": "85e35368",
   "metadata": {},
   "outputs": [],
   "source": []
  },
  {
   "cell_type": "markdown",
   "id": "d7fbfee6",
   "metadata": {},
   "source": [
    "<aside>\n",
    "💡 **Question 7**\n",
    "\n",
    "Given an array of integers `nums` sorted in non-decreasing order, find the starting and ending position of a given `target` value.\n",
    "\n",
    "If `target` is not found in the array, return `[-1, -1]`.\n",
    "\n",
    "You must write an algorithm with `O(log n)` runtime complexity.\n",
    "\n",
    "**Example 1:**\n",
    "```\n",
    "Input: nums = [5,7,7,8,8,10], target = 8\n",
    "Output: [3,4]\n",
    "\n",
    "```\n",
    "</aside>"
   ]
  },
  {
   "cell_type": "markdown",
   "id": "6501a730",
   "metadata": {},
   "source": [
    "**Ans:-**\n",
    "To find the starting and ending positions of a given target value in a sorted array `nums`, we can utilize the binary search algorithm twice. One binary search will find the leftmost occurrence of the target, and the other will find the rightmost occurrence.\n",
    "\n",
    "Here's the algorithm:\n",
    "\n",
    "1. Initialize two variables, `start` and `end`, to store the starting and ending positions of the target.\n",
    "2. Set `start` to the result of the leftmost binary search.\n",
    "3. If `start` is still `-1`, return `[-1, -1]`, as the target is not found in the array.\n",
    "4. Set `end` to the result of the rightmost binary search.\n",
    "5. Return `[start, end]` as the result."
   ]
  },
  {
   "cell_type": "code",
   "execution_count": 22,
   "id": "a4c8a2aa",
   "metadata": {},
   "outputs": [],
   "source": [
    "def searchRange(nums, target):\n",
    "    def findLeft(nums, target):\n",
    "        left, right = 0, len(nums) - 1\n",
    "        while left <= right:\n",
    "            mid = (left + right) // 2\n",
    "            if nums[mid] < target:\n",
    "                left = mid + 1\n",
    "            else:\n",
    "                right = mid - 1\n",
    "        return left\n",
    "\n",
    "    def findRight(nums, target):\n",
    "        left, right = 0, len(nums) - 1\n",
    "        while left <= right:\n",
    "            mid = (left + right) // 2\n",
    "            if nums[mid] <= target:\n",
    "                left = mid + 1\n",
    "            else:\n",
    "                right = mid - 1\n",
    "        return right\n",
    "\n",
    "    start = findLeft(nums, target)\n",
    "    if start == len(nums) or nums[start] != target:\n",
    "        return [-1, -1]\n",
    "\n",
    "    end = findRight(nums, target)\n",
    "    return [start, end]"
   ]
  },
  {
   "cell_type": "code",
   "execution_count": 24,
   "id": "3113aacf",
   "metadata": {},
   "outputs": [
    {
     "data": {
      "text/plain": [
       "[3, 4]"
      ]
     },
     "execution_count": 24,
     "metadata": {},
     "output_type": "execute_result"
    }
   ],
   "source": [
    "nums = [5,7,7,8,8,10]\n",
    "target = 8\n",
    "searchRange(nums,target)"
   ]
  },
  {
   "cell_type": "code",
   "execution_count": null,
   "id": "2906f383",
   "metadata": {},
   "outputs": [],
   "source": []
  },
  {
   "cell_type": "markdown",
   "id": "694f514d",
   "metadata": {},
   "source": [
    "<aside>\n",
    "💡 **Question 8**\n",
    "\n",
    "Given two integer arrays `nums1` and `nums2`, return *an array of their intersection*. Each element in the result must appear as many times as it shows in both arrays and you may return the result in **any order**.\n",
    "```\n",
    "Input: nums1 = [4,9,5], nums2 = [9,4,9,8,4]\n",
    "Output: [4,9]\n",
    "Explanation: [9,4] is also accepted.\n",
    "```\n",
    "</aside>"
   ]
  },
  {
   "cell_type": "markdown",
   "id": "39058b46",
   "metadata": {},
   "source": [
    "**Ans:-**\n",
    "To find the intersection of two integer arrays, `nums1` and `nums2`, while considering the frequency of elements, we can use a hash map to track the count of each element in one array and then iterate through the second array to check for common elements.\n",
    "\n",
    "Here's the algorithm:\n",
    "\n",
    "1. Create a dictionary (hash map) called `numCounts` to store the count of each element in `nums1`.\n",
    "2. Iterate through each element `num` in `nums1`:\n",
    "   - If `num` is not present in `numCounts`, set its count to 1.\n",
    "   - If `num` is already present in `numCounts`, increment its count by 1.\n",
    "3. Initialize an empty list called `intersection` to store the common elements.\n",
    "4. Iterate through each element `num` in `nums2`:\n",
    "   - If `num` is present in `numCounts` and its count is greater than 0, append `num` to the `intersection` list and decrement its count by 1.\n",
    "5. Return the `intersection` list."
   ]
  },
  {
   "cell_type": "code",
   "execution_count": 25,
   "id": "6daf1d3c",
   "metadata": {},
   "outputs": [],
   "source": [
    "def intersect(nums1, nums2):\n",
    "    numCounts = {}\n",
    "    for num in nums1:\n",
    "        if num not in numCounts:\n",
    "            numCounts[num] = 1\n",
    "        else:\n",
    "            numCounts[num] += 1\n",
    "\n",
    "    intersection = []\n",
    "    for num in nums2:\n",
    "        if num in numCounts and numCounts[num] > 0:\n",
    "            intersection.append(num)\n",
    "            numCounts[num] -= 1\n",
    "\n",
    "    return intersection"
   ]
  },
  {
   "cell_type": "code",
   "execution_count": 26,
   "id": "60457782",
   "metadata": {},
   "outputs": [
    {
     "name": "stdout",
     "output_type": "stream",
     "text": [
      "[9, 4]\n"
     ]
    }
   ],
   "source": [
    "nums1 = [4, 9, 5]\n",
    "nums2 = [9, 4, 9, 8, 4]\n",
    "print(intersect(nums1, nums2))"
   ]
  },
  {
   "cell_type": "code",
   "execution_count": null,
   "id": "b6536a91",
   "metadata": {},
   "outputs": [],
   "source": []
  }
 ],
 "metadata": {
  "kernelspec": {
   "display_name": "Python 3 (ipykernel)",
   "language": "python",
   "name": "python3"
  },
  "language_info": {
   "codemirror_mode": {
    "name": "ipython",
    "version": 3
   },
   "file_extension": ".py",
   "mimetype": "text/x-python",
   "name": "python",
   "nbconvert_exporter": "python",
   "pygments_lexer": "ipython3",
   "version": "3.10.9"
  }
 },
 "nbformat": 4,
 "nbformat_minor": 5
}
