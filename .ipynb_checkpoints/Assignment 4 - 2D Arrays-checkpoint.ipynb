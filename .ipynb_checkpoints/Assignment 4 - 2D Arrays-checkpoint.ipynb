{
 "cells": [
  {
   "cell_type": "markdown",
   "id": "d2101635",
   "metadata": {},
   "source": [
    "<aside>\n",
    "💡 **Question 1**\n",
    "Given three integer arrays arr1, arr2 and arr3 **sorted** in **strictly increasing** order, return a sorted array of **only** the integers that appeared in **all** three arrays.\n",
    "\n",
    "**Example 1:**\n",
    "\n",
    "Input: arr1 = [1,2,3,4,5], arr2 = [1,2,5,7,9], arr3 = [1,3,4,5,8]\n",
    "\n",
    "Output: [1,5]\n",
    "\n",
    "**Explanation:** Only 1 and 5 appeared in the three arrays.\n",
    "\n",
    "</aside>"
   ]
  },
  {
   "cell_type": "markdown",
   "id": "96f22db4",
   "metadata": {},
   "source": [
    "**Ans:-**\n",
    "To find the integers that appear in all three arrays, we can iterate through the arrays simultaneously using three pointers, comparing the values at each position. Since the arrays are sorted in strictly increasing order, we can increment the pointers accordingly to search for matching values.\n",
    "\n",
    "Here's an algorithm that solves the problem:\n",
    "\n",
    "1. Initialize three pointers: `ptr1`, `ptr2`, and `ptr3` to 0.\n",
    "2. Initialize an empty result array, `result`.\n",
    "3. While `ptr1` is less than the length of `arr1`, `ptr2` is less than the length of `arr2`, and `ptr3` is less than the length of `arr3`, do the following:\n",
    "   - If `arr1[ptr1]`, `arr2[ptr2]`, and `arr3[ptr3]` are equal, add the value to `result` and increment all three pointers.\n",
    "   - Otherwise, increment the pointer of the array with the smallest value among the three.\n",
    "4. Return `result`."
   ]
  },
  {
   "cell_type": "code",
   "execution_count": 1,
   "id": "424d2342",
   "metadata": {},
   "outputs": [
    {
     "name": "stdout",
     "output_type": "stream",
     "text": [
      "[1, 5]\n"
     ]
    }
   ],
   "source": [
    "def find_common_elements(arr1, arr2, arr3):\n",
    "    ptr1 = ptr2 = ptr3 = 0\n",
    "    result = []\n",
    "\n",
    "    while ptr1 < len(arr1) and ptr2 < len(arr2) and ptr3 < len(arr3):\n",
    "        if arr1[ptr1] == arr2[ptr2] == arr3[ptr3]:\n",
    "            result.append(arr1[ptr1])\n",
    "            ptr1 += 1\n",
    "            ptr2 += 1\n",
    "            ptr3 += 1\n",
    "        elif arr1[ptr1] < arr2[ptr2]:\n",
    "            ptr1 += 1\n",
    "        elif arr2[ptr2] < arr3[ptr3]:\n",
    "            ptr2 += 1\n",
    "        else:\n",
    "            ptr3 += 1\n",
    "\n",
    "    return result\n",
    "\n",
    "# Example usage\n",
    "arr1 = [1, 2, 3, 4, 5]\n",
    "arr2 = [1, 2, 5, 7, 9]\n",
    "arr3 = [1, 3, 4, 5, 8]\n",
    "result = find_common_elements(arr1, arr2, arr3)\n",
    "print(result)"
   ]
  },
  {
   "cell_type": "markdown",
   "id": "b3e8e4ca",
   "metadata": {},
   "source": [
    "\n",
    "Let's break down the code step by step:\n",
    "\n",
    "1. Initialize three pointers (`ptr1`, `ptr2`, and `ptr3`) to 0, which will be used to traverse `arr1`, `arr2`, and `arr3`, respectively.\n",
    "\n",
    "2. Create an empty list called `result` to store the common elements found in all three arrays.\n",
    "\n",
    "3. The while loop runs until at least one of the pointers (`ptr1`, `ptr2`, `ptr3`) reaches the end of its respective array.\n",
    "\n",
    "4. Inside the while loop, the code checks if the elements at the current positions of all three arrays (`arr1[ptr1]`, `arr2[ptr2]`, `arr3[ptr3]`) are equal. If they are equal, it means a common element is found in all three arrays. In this case, the element is appended to the `result` list, and all three pointers (`ptr1`, `ptr2`, and `ptr3`) are incremented by 1 to move to the next elements in their respective arrays.\n",
    "\n",
    "5. If the elements are not equal, the code checks which element is the smallest among the three (`arr1[ptr1]`, `arr2[ptr2]`, and `arr3[ptr3]`). It increments the pointer corresponding to the smallest element so that it can move closer to the other elements in the hope of finding a common element.\n",
    "\n",
    "6. The loop continues until one of the pointers reaches the end of its array, meaning there are no more common elements to be found, and the function returns the `result` list containing all the common elements.\n",
    "\n",
    "7. The example usage demonstrates how the function works by passing three sample arrays (`arr1`, `arr2`, and `arr3`) as input to the `find_common_elements` function and then printing the result.\n"
   ]
  },
  {
   "cell_type": "code",
   "execution_count": null,
   "id": "db43c4c8",
   "metadata": {},
   "outputs": [],
   "source": []
  },
  {
   "cell_type": "markdown",
   "id": "bd0617ae",
   "metadata": {},
   "source": [
    "<aside>\n",
    "💡 **Question 2**\n",
    "\n",
    "Given two **0-indexed** integer arrays nums1 and nums2, return *a list* answer *of size* 2 *where:*\n",
    "\n",
    "- answer[0] *is a list of all **distinct** integers in* nums1 *which are **not** present in* nums2*.*\n",
    "- answer[1] *is a list of all **distinct** integers in* nums2 *which are **not** present in* nums1.\n",
    "\n",
    "**Note** that the integers in the lists may be returned in **any** order.\n",
    "\n",
    "**Example 1:**\n",
    "\n",
    "**Input:** nums1 = [1,2,3], nums2 = [2,4,6]\n",
    "\n",
    "**Output:** [[1,3],[4,6]]\n",
    "\n",
    "**Explanation:**\n",
    "\n",
    "For nums1, nums1[1] = 2 is present at index 0 of nums2, whereas nums1[0] = 1 and nums1[2] = 3 are not present in nums2. Therefore, answer[0] = [1,3].\n",
    "\n",
    "For nums2, nums2[0] = 2 is present at index 1 of nums1, whereas nums2[1] = 4 and nums2[2] = 6 are not present in nums2. Therefore, answer[1] = [4,6].\n",
    "\n",
    "</aside>"
   ]
  },
  {
   "cell_type": "markdown",
   "id": "1f605859",
   "metadata": {},
   "source": [
    "**Ans:-**\n",
    "To solve this problem, we can iterate through both `nums1` and `nums2`, and for each element, check if it exists in the other array. We can use sets to efficiently perform these existence checks. Finally, we construct the result as a list of two lists, where each list contains distinct elements from one array that are not present in the other.\n",
    "\n",
    "Here's the algorithm to solve the problem:\n",
    "\n",
    "1. Initialize two empty sets, `set1` and `set2`.\n",
    "2. Iterate through each element in `nums1` and add it to `set1`.\n",
    "3. Iterate through each element in `nums2` and add it to `set2`.\n",
    "4. Construct the result as a list of two lists: `answer = [list(set1 - set2), list(set2 - set1)]`.\n",
    "5. Return `answer`.\n",
    "\n",
    "Let's apply this algorithm to the given example:\n",
    "\n",
    "Input: nums1 = [1, 2, 3], nums2 = [2, 4, 6]\n",
    "\n",
    "```plaintext\n",
    "set1 = {}, set2 = {}\n",
    "\n",
    "Iterating through nums1:\n",
    "- Add 1 to set1: set1 = {1}\n",
    "- Add 2 to set1: set1 = {1, 2}\n",
    "- Add 3 to set1: set1 = {1, 2, 3}\n",
    "\n",
    "Iterating through nums2:\n",
    "- Add 2 to set2: set2 = {2}\n",
    "- Add 4 to set2: set2 = {2, 4}\n",
    "- Add 6 to set2: set2 = {2, 4, 6}\n",
    "\n",
    "answer = [list(set1 - set2), list(set2 - set1)]\n",
    "       = [list({1, 3}), list({4, 6})]\n",
    "       = [[1, 3], [4, 6]]\n",
    "\n",
    "Return [[1, 3], [4, 6]] as the output.\n",
    "```\n",
    "\n",
    "Therefore, the output for the given example is `[[1, 3], [4, 6]]`."
   ]
  },
  {
   "cell_type": "code",
   "execution_count": 2,
   "id": "5de681b6",
   "metadata": {},
   "outputs": [
    {
     "name": "stdout",
     "output_type": "stream",
     "text": [
      "[[1, 3], [4, 6]]\n"
     ]
    }
   ],
   "source": [
    "def find_disjoint_elements(nums1, nums2):\n",
    "    set1 = set(nums1)\n",
    "    set2 = set(nums2)\n",
    "    answer = [list(set1 - set2), list(set2 - set1)]\n",
    "    return answer\n",
    "\n",
    "# Example usage\n",
    "nums1 = [1, 2, 3]\n",
    "nums2 = [2, 4, 6]\n",
    "result = find_disjoint_elements(nums1, nums2)\n",
    "print(result)"
   ]
  },
  {
   "cell_type": "code",
   "execution_count": null,
   "id": "905c4ffb",
   "metadata": {},
   "outputs": [],
   "source": []
  },
  {
   "cell_type": "markdown",
   "id": "080c42bf",
   "metadata": {},
   "source": [
    "<aside>\n",
    "💡 **Question 3**\n",
    "Given a 2D integer array matrix, return *the **transpose** of* matrix.\n",
    "\n",
    "The **transpose** of a matrix is the matrix flipped over its main diagonal, switching the matrix's row and column indices.\n",
    "\n",
    "**Example 1:**\n",
    "\n",
    "Input: matrix = [[1,2,3],[4,5,6],[7,8,9]]\n",
    "\n",
    "Output: [[1,4,7],[2,5,8],[3,6,9]]\n",
    "\n",
    "</aside>"
   ]
  },
  {
   "cell_type": "markdown",
   "id": "782caaca",
   "metadata": {},
   "source": [
    "**Ans:-**\n",
    "To find the transpose of a matrix, we need to swap the elements of the matrix across its main diagonal. In other words, the rows of the original matrix become the columns of the transposed matrix, and vice versa.\n",
    "\n",
    "Here's an algorithm to find the transpose of a matrix:\n",
    "\n",
    "1. Initialize an empty list `transposed_matrix`.\n",
    "2. Iterate through the columns of the input matrix. For each column index `col`, do the following:\n",
    "   - Initialize an empty list `row_values`.\n",
    "   - Iterate through the rows of the input matrix. For each row index `row`, do the following:\n",
    "     - Append the element at `matrix[row][col]` to `row_values`.\n",
    "   - Append `row_values` to `transposed_matrix`.\n",
    "3. Return `transposed_matrix` as the transpose of the input matrix.\n",
    "\n",
    "Let's apply this algorithm to the given example:\n",
    "\n",
    "Input: matrix = [[1, 2, 3], [4, 5, 6], [7, 8, 9]]\n",
    "\n",
    "```plaintext\n",
    "transposed_matrix = []\n",
    "\n",
    "Iterating through columns:\n",
    "col = 0:\n",
    "   row_values = [matrix[0][0], matrix[1][0], matrix[2][0]] = [1, 4, 7]\n",
    "   Append row_values to transposed_matrix.\n",
    "\n",
    "col = 1:\n",
    "   row_values = [matrix[0][1], matrix[1][1], matrix[2][1]] = [2, 5, 8]\n",
    "   Append row_values to transposed_matrix.\n",
    "\n",
    "col = 2:\n",
    "   row_values = [matrix[0][2], matrix[1][2], matrix[2][2]] = [3, 6, 9]\n",
    "   Append row_values to transposed_matrix.\n",
    "\n",
    "Return transposed_matrix as the output: [[1, 4, 7], [2, 5, 8], [3, 6, 9]].\n",
    "```\n",
    "\n",
    "Therefore, the output for the given example is `[[1, 4, 7], [2, 5, 8], [3, 6, 9]]`."
   ]
  },
  {
   "cell_type": "code",
   "execution_count": 15,
   "id": "d94d09e4",
   "metadata": {},
   "outputs": [
    {
     "data": {
      "text/plain": [
       "[1, 2, 3]"
      ]
     },
     "execution_count": 15,
     "metadata": {},
     "output_type": "execute_result"
    }
   ],
   "source": [
    "matrix = [[1,2,3],[4,5,6],[7,8,9],[5,8,3,5]]\n",
    "matrix[0]"
   ]
  },
  {
   "cell_type": "code",
   "execution_count": 16,
   "id": "86375321",
   "metadata": {},
   "outputs": [
    {
     "data": {
      "text/plain": [
       "4"
      ]
     },
     "execution_count": 16,
     "metadata": {},
     "output_type": "execute_result"
    }
   ],
   "source": [
    "len(matrix)"
   ]
  },
  {
   "cell_type": "code",
   "execution_count": 14,
   "id": "3170f13f",
   "metadata": {},
   "outputs": [
    {
     "name": "stdout",
     "output_type": "stream",
     "text": [
      "1\n",
      "2\n",
      "3\n"
     ]
    }
   ],
   "source": [
    "for i in range(len(matrix[0])):\n",
    "    print(matrix[0][i])"
   ]
  },
  {
   "cell_type": "code",
   "execution_count": 12,
   "id": "86a31851",
   "metadata": {},
   "outputs": [
    {
     "data": {
      "text/plain": [
       "[7, 8, 9]"
      ]
     },
     "execution_count": 12,
     "metadata": {},
     "output_type": "execute_result"
    }
   ],
   "source": [
    "matrix[2]"
   ]
  },
  {
   "cell_type": "code",
   "execution_count": 4,
   "id": "caf4f16b",
   "metadata": {},
   "outputs": [
    {
     "name": "stdout",
     "output_type": "stream",
     "text": [
      "[[1, 4, 7], [2, 5, 8], [3, 6, 9]]\n"
     ]
    }
   ],
   "source": [
    "def transpose_matrix(matrix):\n",
    "    transposed_matrix = []\n",
    "\n",
    "    for col in range(len(matrix[0])):\n",
    "        row_values = []\n",
    "        for row in range(len(matrix)):\n",
    "            row_values.append(matrix[row][col])\n",
    "        transposed_matrix.append(row_values)\n",
    "\n",
    "    return transposed_matrix\n",
    "\n",
    "# Example usage\n",
    "matrix = [[1, 2, 3], [4, 5, 6], [7, 8, 9]]\n",
    "result = transpose_matrix(matrix)\n",
    "print(result)"
   ]
  },
  {
   "cell_type": "code",
   "execution_count": 5,
   "id": "da928d53",
   "metadata": {},
   "outputs": [
    {
     "data": {
      "text/plain": [
       "[[1, 2, 3], [4, 5, 6], [7, 8, 9]]"
      ]
     },
     "execution_count": 5,
     "metadata": {},
     "output_type": "execute_result"
    }
   ],
   "source": [
    "transpose_matrix([[1, 4, 7], [2, 5, 8], [3, 6, 9]])"
   ]
  },
  {
   "cell_type": "code",
   "execution_count": 28,
   "id": "f5694da2",
   "metadata": {},
   "outputs": [],
   "source": []
  },
  {
   "cell_type": "markdown",
   "id": "49e9336a",
   "metadata": {},
   "source": [
    "<aside>\n",
    "💡 **Question 4**\n",
    "Given an integer array nums of 2n integers, group these integers into n pairs (a1, b1), (a2, b2), ..., (an, bn) such that the sum of min(ai, bi) for all i is **maximized**. Return *the maximized sum*.\n",
    "\n",
    "**Example 1:**\n",
    "\n",
    "Input: nums = [1,4,3,2]\n",
    "\n",
    "Output: 4\n",
    "\n",
    "**Explanation:** All possible pairings (ignoring the ordering of elements) are:\n",
    "\n",
    "1. (1, 4), (2, 3) -> min(1, 4) + min(2, 3) = 1 + 2 = 3\n",
    "\n",
    "2. (1, 3), (2, 4) -> min(1, 3) + min(2, 4) = 1 + 2 = 3\n",
    "\n",
    "3. (1, 2), (3, 4) -> min(1, 2) + min(3, 4) = 1 + 3 = 4\n",
    "\n",
    "So the maximum possible sum is 4.\n",
    "\n",
    "</aside>"
   ]
  },
  {
   "cell_type": "markdown",
   "id": "d6174b5a",
   "metadata": {},
   "source": [
    "**Ans:-**\n",
    "To maximize the sum of the minimum values in the pairs, we need to pair the smallest numbers with each other, and the larger numbers with each other. By sorting the array in ascending order, we can ensure that the smallest numbers are paired together, leading to the maximum possible sum.\n",
    "\n",
    "Here's an algorithm to solve the problem:\n",
    "\n",
    "1. Sort the input array `nums` in ascending order.\n",
    "2. Initialize a variable `max_sum` to 0.\n",
    "3. Iterate over the sorted array by incrementing the index by 2. For each pair `(a, b)`, do the following:\n",
    "   - Add the minimum value between `a` and `b` to `max_sum`.\n",
    "4. Return `max_sum` as the maximum possible sum.\n",
    "\n",
    "Let's apply this algorithm to the given example:\n",
    "\n",
    "Input: nums = [1, 4, 3, 2]\n",
    "\n",
    "```plaintext\n",
    "Sorted array: [1, 2, 3, 4]\n",
    "\n",
    "max_sum = 0\n",
    "\n",
    "Pairs:\n",
    "- (1, 2): Add min(1, 2) = 1 to max_sum\n",
    "- (3, 4): Add min(3, 4) = 3 to max_sum\n",
    "\n",
    "Return max_sum = 1 + 3 = 4 as the output.\n",
    "```\n",
    "\n",
    "Therefore, the output for the given example is 4."
   ]
  },
  {
   "cell_type": "code",
   "execution_count": 7,
   "id": "1a57860e",
   "metadata": {},
   "outputs": [
    {
     "name": "stdout",
     "output_type": "stream",
     "text": [
      "4\n"
     ]
    }
   ],
   "source": [
    "def array_pair_sum(nums):\n",
    "    nums.sort()  # Sort the array in ascending order\n",
    "    max_sum = 0\n",
    "\n",
    "    for i in range(0, len(nums), 2):\n",
    "        max_sum += nums[i]\n",
    "\n",
    "    return max_sum\n",
    "\n",
    "# Example usage\n",
    "nums = [1, 4, 3, 2]\n",
    "result = array_pair_sum(nums)\n",
    "print(result)"
   ]
  },
  {
   "cell_type": "code",
   "execution_count": null,
   "id": "91b643f6",
   "metadata": {},
   "outputs": [],
   "source": []
  },
  {
   "cell_type": "markdown",
   "id": "b4237173",
   "metadata": {},
   "source": [
    "<aside>\n",
    "💡 **Question 5**\n",
    "You have n coins and you want to build a staircase with these coins. The staircase consists of k rows where the ith row has exactly i coins. The last row of the staircase **may be** incomplete.\n",
    "\n",
    "Given the integer n, return *the number of **complete rows** of the staircase you will build*.\n",
    "\n",
    "**Example 1:**\n",
    "```\n",
    "**Input:** n = 5\n",
    "\n",
    "**Output:** 2\n",
    "\n",
    "**Explanation:** Because the 3rd row is incomplete, we return 2.\n",
    "```\n",
    "</aside>"
   ]
  },
  {
   "attachments": {
    "image.png": {
     "image/png": "[encoded data removed]"
    }
   },
   "cell_type": "markdown",
   "id": "44ef1e86",
   "metadata": {},
   "source": [
    "![image.png](attachment:image.png)"
   ]
  },
  {
   "cell_type": "markdown",
   "id": "3d03d348",
   "metadata": {},
   "source": [
    "**Ans:-**\n",
    "To solve this problem, we can use a simple approach. We start with the first row and keep adding rows until we run out of coins or cannot complete the next row.\n",
    "\n",
    "Here's the step-by-step algorithm:\n",
    "\n",
    "1. Initialize a variable `completeRows` to 0. This variable will keep track of the number of complete rows.\n",
    "\n",
    "2. Initialize a variable `coinsRequired` to 1. This variable represents the number of coins required to complete the next row.\n",
    "\n",
    "3. While `n` is greater than or equal to `coinsRequired`:\n",
    "   - Increment `completeRows` by 1.\n",
    "   - Subtract `coinsRequired` from `n`.\n",
    "   - Increment `coinsRequired` by 1.\n",
    "\n",
    "4. Return the value of `completeRows` as the result."
   ]
  },
  {
   "cell_type": "code",
   "execution_count": 10,
   "id": "fc0944fd",
   "metadata": {},
   "outputs": [],
   "source": [
    "def numCompleteRows(n):\n",
    "    completeRows = 0\n",
    "    coinsRequired = 1\n",
    "\n",
    "    while n >= coinsRequired:\n",
    "        completeRows += 1\n",
    "        n -= coinsRequired\n",
    "        coinsRequired += 1\n",
    "\n",
    "    return completeRows"
   ]
  },
  {
   "cell_type": "code",
   "execution_count": 24,
   "id": "a02dcc45",
   "metadata": {},
   "outputs": [
    {
     "data": {
      "text/plain": [
       "2"
      ]
     },
     "execution_count": 24,
     "metadata": {},
     "output_type": "execute_result"
    }
   ],
   "source": [
    "numCompleteRows(5)"
   ]
  },
  {
   "cell_type": "code",
   "execution_count": null,
   "id": "88c42a1f",
   "metadata": {},
   "outputs": [],
   "source": []
  },
  {
   "cell_type": "code",
   "execution_count": 20,
   "id": "865118c0",
   "metadata": {},
   "outputs": [],
   "source": [
    "# method 2 \n",
    "def noofst(n):\n",
    "    stair = 0\n",
    "    i=1\n",
    "    while i<=n:\n",
    "        stair+=1\n",
    "        n-=i\n",
    "        i+=1\n",
    "    return stair"
   ]
  },
  {
   "cell_type": "code",
   "execution_count": 25,
   "id": "c7630375",
   "metadata": {},
   "outputs": [
    {
     "data": {
      "text/plain": [
       "2"
      ]
     },
     "execution_count": 25,
     "metadata": {},
     "output_type": "execute_result"
    }
   ],
   "source": [
    "noofst(5)"
   ]
  },
  {
   "cell_type": "code",
   "execution_count": null,
   "id": "12d7b4a2",
   "metadata": {},
   "outputs": [],
   "source": []
  },
  {
   "cell_type": "markdown",
   "id": "3750b6e9",
   "metadata": {},
   "source": [
    "<aside>\n",
    "💡 **Question 6**\n",
    "Given an integer array nums sorted in **non-decreasing** order, return *an array of **the squares of each number** sorted in non-decreasing order*.\n",
    "\n",
    "**Example 1:**\n",
    "\n",
    "Input: nums = [-4,-1,0,3,10]\n",
    "\n",
    "Output: [0,1,9,16,100]\n",
    "\n",
    "**Explanation:** After squaring, the array becomes [16,1,0,9,100].\n",
    "After sorting, it becomes [0,1,9,16,100]\n",
    "\n",
    "</aside>"
   ]
  },
  {
   "cell_type": "markdown",
   "id": "48ecffbc",
   "metadata": {},
   "source": [
    "**Ans:-**\n",
    "To solve this problem, we can follow these steps:\n",
    "\n",
    "1. Create an empty result list to store the squares of the numbers.\n",
    "2. Iterate through each number in the input `nums` array.\n",
    "3. Square each number and append it to the result list.\n",
    "4. Sort the result list in non-decreasing order.\n",
    "5. Return the sorted result list."
   ]
  },
  {
   "cell_type": "code",
   "execution_count": 10,
   "id": "be94006c",
   "metadata": {},
   "outputs": [],
   "source": [
    "def sortedSquares(nums):\n",
    "    result = []\n",
    "\n",
    "    for num in nums:\n",
    "        square = num * num\n",
    "        result.append(square)\n",
    "\n",
    "    result.sort()\n",
    "    return result"
   ]
  },
  {
   "cell_type": "code",
   "execution_count": 11,
   "id": "662a5196",
   "metadata": {},
   "outputs": [
    {
     "data": {
      "text/plain": [
       "[0, 1, 9, 16, 100]"
      ]
     },
     "execution_count": 11,
     "metadata": {},
     "output_type": "execute_result"
    }
   ],
   "source": [
    "nums = [-4,-1,0,3,10]\n",
    "sortedSquares(nums)"
   ]
  },
  {
   "cell_type": "code",
   "execution_count": 30,
   "id": "53b1fd53",
   "metadata": {},
   "outputs": [],
   "source": [
    "# method 2\n",
    "def sortsq(nums):\n",
    "    for idx,val in enumerate(nums):\n",
    "        nums[idx] = val*val\n",
    "    return sorted(nums)"
   ]
  },
  {
   "cell_type": "code",
   "execution_count": 31,
   "id": "4400efee",
   "metadata": {},
   "outputs": [
    {
     "data": {
      "text/plain": [
       "[0, 1, 9, 16, 100]"
      ]
     },
     "execution_count": 31,
     "metadata": {},
     "output_type": "execute_result"
    }
   ],
   "source": [
    "sortsq([-4,-1,0,3,10])"
   ]
  },
  {
   "cell_type": "code",
   "execution_count": null,
   "id": "7b2825b5",
   "metadata": {},
   "outputs": [],
   "source": []
  },
  {
   "cell_type": "markdown",
   "id": "6c22e867",
   "metadata": {},
   "source": [
    "<aside>\n",
    "💡 **Question 7**\n",
    "You are given an m x n matrix M initialized with all 0's and an array of operations ops, where ops[i] = [ai, bi] means M[x][y] should be incremented by one for all 0 <= x < ai and 0 <= y < bi.\n",
    "\n",
    "Count and return *the number of maximum integers in the matrix after performing all the operations*\n",
    "\n",
    "**Example 1:**\n",
    "\n",
    "\n",
    "**Input:** m = 3, n = 3, ops = [[2,2],[3,3]]\n",
    "\n",
    "**Output:** 4\n",
    "\n",
    "**Explanation:** The maximum integer in M is 2, and there are four of it in M. So return 4.\n",
    "\n",
    "</aside>"
   ]
  },
  {
   "attachments": {
    "image.png": {
     "image/png": "[encoded data removed]"
    }
   },
   "cell_type": "markdown",
   "id": "85e4afbc",
   "metadata": {},
   "source": [
    "![image.png](attachment:image.png)"
   ]
  },
  {
   "cell_type": "markdown",
   "id": "cacffc9d",
   "metadata": {},
   "source": [
    "**Ans:-**\n",
    "To solve this problem, we can keep track of the minimum values for both `m` and `n` based on the operations performed. The resulting number of maximum integers will be the product of these minimum values.\n",
    "\n",
    "Here's the step-by-step algorithm:\n",
    "\n",
    "1. Initialize `min_m` and `min_n` to `m` and `n` respectively.\n",
    "2. Iterate through each operation in `ops`.\n",
    "3. For each operation `[ai, bi]`, update `min_m` as the minimum of `min_m` and `ai` and `min_n` as the minimum of `min_n` and `bi`.\n",
    "4. Return the product of `min_m` and `min_n`."
   ]
  },
  {
   "cell_type": "code",
   "execution_count": 12,
   "id": "6d1bc7c4",
   "metadata": {},
   "outputs": [],
   "source": [
    "def maxCount(m, n, ops):\n",
    "    min_m = m\n",
    "    min_n = n\n",
    "\n",
    "    for op in ops:\n",
    "        min_m = min(min_m, op[0])\n",
    "        min_n = min(min_n, op[1])\n",
    "\n",
    "    return min_m * min_n"
   ]
  },
  {
   "cell_type": "code",
   "execution_count": 13,
   "id": "90978859",
   "metadata": {},
   "outputs": [
    {
     "name": "stdout",
     "output_type": "stream",
     "text": [
      "4\n"
     ]
    }
   ],
   "source": [
    "m = 3\n",
    "n = 3\n",
    "ops = [[2, 2], [3, 3]]\n",
    "print(maxCount(m, n, ops))"
   ]
  },
  {
   "cell_type": "code",
   "execution_count": null,
   "id": "fe35e0c5",
   "metadata": {},
   "outputs": [],
   "source": []
  },
  {
   "cell_type": "markdown",
   "id": "7a662ca2",
   "metadata": {},
   "source": [
    "<aside>\n",
    "💡 **Question 8**\n",
    "\n",
    "Given the array nums consisting of 2n elements in the form [x1,x2,...,xn,y1,y2,...,yn].\n",
    "\n",
    "*Return the array in the form* [x1,y1,x2,y2,...,xn,yn].\n",
    "\n",
    "**Example 1:**\n",
    "\n",
    "**Input:** nums = [2,5,1,3,4,7], n = 3\n",
    "\n",
    "**Output:** [2,3,5,4,1,7]\n",
    "\n",
    "**Explanation:** Since x1=2, x2=5, x3=1, y1=3, y2=4, y3=7 then the answer is [2,3,5,4,1,7].\n",
    "\n",
    "</aside>"
   ]
  },
  {
   "cell_type": "markdown",
   "id": "e90d67d5",
   "metadata": {},
   "source": [
    "**Ans:-**\n",
    "To solve this problem, we can create a new array and populate it by alternating elements from the first half of `nums` with elements from the second half.\n",
    "\n",
    "Here's the step-by-step algorithm:\n",
    "\n",
    "1. Create an empty result array to store the rearranged elements.\n",
    "2. Calculate the length of half of the `nums` array by dividing the length of `nums` by 2.\n",
    "3. Iterate from 0 to `half_length` (exclusive) and for each index `i`:\n",
    "   - Append `nums[i]` to the result array.\n",
    "   - Append `nums[i + half_length]` to the result array.\n",
    "4. Return the result array."
   ]
  },
  {
   "cell_type": "code",
   "execution_count": 14,
   "id": "0785ae8c",
   "metadata": {},
   "outputs": [],
   "source": [
    "def shuffle(nums, n):\n",
    "    result = []\n",
    "    half_length = n\n",
    "\n",
    "    for i in range(half_length):\n",
    "        result.append(nums[i])\n",
    "        result.append(nums[i + half_length])\n",
    "\n",
    "    return result"
   ]
  },
  {
   "cell_type": "code",
   "execution_count": 15,
   "id": "023bd070",
   "metadata": {},
   "outputs": [
    {
     "name": "stdout",
     "output_type": "stream",
     "text": [
      "[2, 3, 5, 4, 1, 7]\n"
     ]
    }
   ],
   "source": [
    "nums = [2, 5, 1, 3, 4, 7]\n",
    "n = 3\n",
    "print(shuffle(nums, n))"
   ]
  }
 ],
 "metadata": {
  "kernelspec": {
   "display_name": "Python 3 (ipykernel)",
   "language": "python",
   "name": "python3"
  },
  "language_info": {
   "codemirror_mode": {
    "name": "ipython",
    "version": 3
   },
   "file_extension": ".py",
   "mimetype": "text/x-python",
   "name": "python",
   "nbconvert_exporter": "python",
   "pygments_lexer": "ipython3",
   "version": "3.10.9"
  }
 },
 "nbformat": 4,
 "nbformat_minor": 5
}
