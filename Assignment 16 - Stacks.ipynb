{
 "cells": [
  {
   "cell_type": "markdown",
   "id": "662933a7",
   "metadata": {},
   "source": [
    "<aside>\n",
    "💡 **Question 1**\n",
    "\n",
    "Given an array, for each element find the value of the nearest element to the right which is having a frequency greater than that of the current element. If there does not exist an answer for a position, then make the value ‘-1’.\n",
    "\n",
    "**Examples:**\n",
    "\n",
    "```\n",
    "Input: a[] = [1, 1, 2, 3, 4, 2, 1]\n",
    "Output : [-1, -1, 1, 2, 2, 1, -1]\n",
    "\n",
    "Explanation:\n",
    "Given array a[] = [1, 1, 2, 3, 4, 2, 1]\n",
    "Frequency of each element is: 3, 3, 2, 1, 1, 2, 3\n",
    "\n",
    "Lets calls Next Greater Frequency element as NGF\n",
    "1. For element a[0] = 1 which has a frequency = 3,\n",
    "   As it has frequency of 3 and no other next element\n",
    "   has frequency more than 3 so  '-1'\n",
    "2. For element a[1] = 1 it will be -1 same logic\n",
    "   like a[0]\n",
    "3. For element a[2] = 2 which has frequency = 2,\n",
    "   NGF element is 1 at position = 6  with frequency\n",
    "   of 3 > 2\n",
    "4. For element a[3] = 3 which has frequency = 1,\n",
    "   NGF element is 2 at position = 5 with frequency\n",
    "   of 2 > 1\n",
    "5. For element a[4] = 4 which has frequency = 1,\n",
    "   NGF element is 2 at position = 5 with frequency\n",
    "   of 2 > 1\n",
    "6. For element a[5] = 2 which has frequency = 2,\n",
    "   NGF element is 1 at position = 6 with frequency\n",
    "   of 3 > 2\n",
    "7. For element a[6] = 1 there is no element to its\n",
    "   right, hence -1\n",
    "```\n",
    "\n",
    "```\n",
    "Input : a[] = [1, 1, 1, 2, 2, 2, 2, 11, 3, 3]\n",
    "Output : [2, 2, 2, -1, -1, -1, -1, 3, -1, -1]\n",
    "```\n",
    "\n",
    "</aside>"
   ]
  },
  {
   "cell_type": "markdown",
   "id": "b3d37291",
   "metadata": {},
   "source": [
    "**Ans:-**\n",
    "To find the nearest element to the right with a frequency greater than the current element, you can follow the steps below:\n",
    "\n",
    "1. Create a dictionary to store the frequency of each element in the array.\n",
    "2. Create a stack to keep track of the indices of the elements in descending order of their frequency.\n",
    "3. Initialize the result array with -1 for all positions.\n",
    "4. Iterate through the array from right to left:\n",
    "   - Check if the stack is empty or if the frequency of the current element is greater than the frequency of the element at the top of the stack.\n",
    "     - If true, pop elements from the stack until a greater frequency element is found or the stack becomes empty.\n",
    "     - For each popped index, update the result array with the current element.\n",
    "   - Push the current index onto the stack.\n",
    "5. Return the result array.\n",
    "\n"
   ]
  },
  {
   "cell_type": "code",
   "execution_count": 1,
   "id": "fa766b78",
   "metadata": {},
   "outputs": [],
   "source": [
    "def find_nearest_greater_frequency(arr):\n",
    "    frequency = {}\n",
    "    stack = []\n",
    "    result = [-1] * len(arr)\n",
    "\n",
    "    # Calculate the frequency of each element\n",
    "    for num in arr:\n",
    "        frequency[num] = frequency.get(num, 0) + 1\n",
    "\n",
    "    # Iterate through the array from right to left\n",
    "    for i in range(len(arr) - 1, -1, -1):\n",
    "        # Pop elements from the stack with lower frequencies\n",
    "        while stack and frequency[arr[i]] >= frequency[arr[stack[-1]]]:\n",
    "            stack.pop()\n",
    "\n",
    "        # Update the result array if a greater frequency element is found\n",
    "        if stack:\n",
    "            result[i] = arr[stack[-1]]\n",
    "\n",
    "        # Push the current index onto the stack\n",
    "        stack.append(i)\n",
    "\n",
    "    return result\n"
   ]
  },
  {
   "cell_type": "code",
   "execution_count": 2,
   "id": "ef5af9b7",
   "metadata": {},
   "outputs": [
    {
     "name": "stdout",
     "output_type": "stream",
     "text": [
      "[-1, -1, 1, 2, 2, 1, -1]\n",
      "[2, 2, 2, -1, -1, -1, -1, 3, -1, -1]\n"
     ]
    }
   ],
   "source": [
    "arr1 = [1, 1, 2, 3, 4, 2, 1]\n",
    "arr2 = [1, 1, 1, 2, 2, 2, 2, 11, 3, 3]\n",
    "\n",
    "print(find_nearest_greater_frequency(arr1))\n",
    "# Output: [-1, -1, 1, 2, 2, 1, -1]\n",
    "\n",
    "print(find_nearest_greater_frequency(arr2))\n",
    "# Output: [2, 2, 2, -1, -1, -1, -1, 3, -1, -1]\n"
   ]
  },
  {
   "cell_type": "code",
   "execution_count": null,
   "id": "fae3a5e0",
   "metadata": {},
   "outputs": [],
   "source": []
  },
  {
   "cell_type": "markdown",
   "id": "0aa44e17",
   "metadata": {},
   "source": [
    "<aside>\n",
    "💡 **Question 2**\n",
    "\n",
    "Given a stack of integers, sort it in ascending order using another temporary stack.\n",
    "\n",
    "**Examples:**\n",
    "\n",
    "```\n",
    "Input : [34, 3, 31, 98, 92, 23]\n",
    "Output : [3, 23, 31, 34, 92, 98]\n",
    "\n",
    "Input : [3, 5, 1, 4, 2, 8]\n",
    "Output : [1, 2, 3, 4, 5, 8]\n",
    "```\n",
    "\n",
    "</aside>"
   ]
  },
  {
   "cell_type": "markdown",
   "id": "eabcec45",
   "metadata": {},
   "source": [
    "**Ans:-**\n",
    "To sort a stack of integers in ascending order using another temporary stack, you can follow the steps below:\n",
    "\n",
    "1. Create an empty temporary stack.\n",
    "2. While the input stack is not empty, do the following:\n",
    "   - Pop the top element from the input stack and store it in a variable, let's call it `temp`.\n",
    "   - While the temporary stack is not empty and the top element is greater than `temp`, do the following:\n",
    "     - Pop the top element from the temporary stack and push it back into the input stack.\n",
    "   - Push `temp` onto the temporary stack.\n",
    "3. The temporary stack now contains the sorted elements in descending order. To obtain the sorted stack in ascending order, you can transfer the elements from the temporary stack back to the input stack.\n",
    "4. Return the sorted stack.\n"
   ]
  },
  {
   "cell_type": "code",
   "execution_count": 19,
   "id": "cc603ab5",
   "metadata": {},
   "outputs": [],
   "source": [
    "def sort_stack(stack):\n",
    "    temp_stack = []\n",
    "\n",
    "    while stack:\n",
    "        temp = stack.pop()\n",
    "\n",
    "        while temp_stack and temp_stack[-1] < temp:\n",
    "            stack.append(temp_stack.pop())\n",
    "\n",
    "        temp_stack.append(temp)\n",
    "\n",
    "    return temp_stack[::-1]\n"
   ]
  },
  {
   "cell_type": "code",
   "execution_count": 20,
   "id": "a860ccd0",
   "metadata": {},
   "outputs": [
    {
     "name": "stdout",
     "output_type": "stream",
     "text": [
      "[3, 23, 31, 34, 92, 98]\n",
      "[1, 2, 3, 4, 5, 8]\n"
     ]
    }
   ],
   "source": [
    "stack1 = [34, 3, 31, 98, 92, 23]\n",
    "stack2 = [3, 5, 1, 4, 2, 8]\n",
    "\n",
    "print(sort_stack(stack1))\n",
    "# Output: [3, 23, 31, 34, 92, 98]\n",
    "\n",
    "print(sort_stack(stack2))\n",
    "# Output: [1, 2, 3, 4, 5, 8]\n"
   ]
  },
  {
   "cell_type": "code",
   "execution_count": null,
   "id": "610670fb",
   "metadata": {},
   "outputs": [],
   "source": []
  },
  {
   "cell_type": "markdown",
   "id": "37c4f9d6",
   "metadata": {},
   "source": [
    "<aside>\n",
    "💡 **Question 3**\n",
    "\n",
    "Given a stack with **push()**, **pop()**, and **empty()** operations, The task is to delete the **middle** element ****of it without using any additional data structure.\n",
    "\n",
    "Input  : Stack[] = [1, 2, 3, 4, 5]\n",
    "\n",
    "Output : Stack[] = [1, 2, 4, 5]\n",
    "\n",
    "Input  : Stack[] = [1, 2, 3, 4, 5, 6]\n",
    "\n",
    "Output : Stack[] = [1, 2, 4, 5, 6]\n",
    "\n",
    "</aside>"
   ]
  },
  {
   "cell_type": "markdown",
   "id": "25d5d5ac",
   "metadata": {},
   "source": [
    "**Ans:-**\n",
    "To delete the middle element of a stack without using any additional data structure, you can follow the steps below:\n",
    "\n",
    "1. Calculate the size of the stack.\n",
    "2. Identify the middle index based on the size of the stack.\n",
    "3. Use a recursive function to remove the middle element and maintain the order of the remaining elements.\n",
    "   - Base case: If the current index is equal to the middle index, simply return without pushing the element back to the stack.\n",
    "   - Recursive case: Pop an element from the stack and call the function recursively with the updated index. Then, push the popped element back to the stack.\n",
    "4. Repeat step 3 until the stack is empty.\n",
    "\n"
   ]
  },
  {
   "cell_type": "code",
   "execution_count": 21,
   "id": "fd528612",
   "metadata": {},
   "outputs": [],
   "source": [
    "def delete_middle(stack):\n",
    "    size = len(stack)\n",
    "    if size == 0:\n",
    "        return\n",
    "\n",
    "    middle_index = size // 2\n",
    "    delete_middle_util(stack, middle_index)\n",
    "\n",
    "def delete_middle_util(stack, index):\n",
    "    if index == 0:\n",
    "        stack.pop()\n",
    "        return\n",
    "\n",
    "    temp = stack.pop()\n",
    "    delete_middle_util(stack, index - 1)\n",
    "    stack.append(temp)\n"
   ]
  },
  {
   "cell_type": "code",
   "execution_count": 22,
   "id": "e0c2ecc3",
   "metadata": {},
   "outputs": [
    {
     "name": "stdout",
     "output_type": "stream",
     "text": [
      "[1, 2, 4, 5]\n"
     ]
    }
   ],
   "source": [
    "stack = [1, 2, 3, 4, 5]\n",
    "delete_middle(stack)\n",
    "print(stack)  # Output: [1, 2, 4, 5]\n"
   ]
  },
  {
   "cell_type": "code",
   "execution_count": 23,
   "id": "f8c04c35",
   "metadata": {},
   "outputs": [
    {
     "name": "stdout",
     "output_type": "stream",
     "text": [
      "[1, 2, 4, 5, 6]\n"
     ]
    }
   ],
   "source": [
    "stack = [1, 2, 3, 4, 5, 6]\n",
    "delete_middle(stack)\n",
    "print(stack)  # Output: [1, 2, 4, 5, 6]\n"
   ]
  },
  {
   "cell_type": "code",
   "execution_count": null,
   "id": "47c1bea4",
   "metadata": {},
   "outputs": [],
   "source": []
  },
  {
   "cell_type": "markdown",
   "id": "69046ab3",
   "metadata": {},
   "source": [
    "<aside>\n",
    "💡 **Question 4**\n",
    "\n",
    "Given a Queue consisting of first **n** natural numbers (in random order). The task is to check whether the given Queue elements can be arranged in increasing order in another Queue using a stack. The operation allowed are:\n",
    "\n",
    "1. Push and pop elements from the stack\n",
    "2. Pop (Or Dequeue) from the given Queue.\n",
    "3. Push (Or Enqueue) in the another Queue.\n",
    "\n",
    "**Examples :**\n",
    "\n",
    "Input : Queue[] = { 5, 1, 2, 3, 4 } \n",
    "\n",
    "Output : Yes \n",
    "\n",
    "Pop the first element of the given Queue \n",
    "\n",
    "i.e 5. Push 5 into the stack. \n",
    "\n",
    "Now, pop all the elements of the given Queue and push them to second Queue. \n",
    "\n",
    "Now, pop element 5 in the stack and push it to the second Queue.   \n",
    "\n",
    "Input : Queue[] = { 5, 1, 2, 6, 3, 4 } \n",
    "\n",
    "Output : No \n",
    "\n",
    "Push 5 to stack. \n",
    "\n",
    "Pop 1, 2 from given Queue and push it to another Queue. \n",
    "\n",
    "Pop 6 from given Queue and push to stack. \n",
    "\n",
    "Pop 3, 4 from given Queue and push to second Queue. \n",
    "\n",
    "Now, from using any of above operation, we cannot push 5 into the second Queue because it is below the 6 in the stack.\n",
    "\n",
    "</aside>"
   ]
  },
  {
   "cell_type": "markdown",
   "id": "b91eb7b2",
   "metadata": {},
   "source": [
    "**Ans:-**\n",
    "To check whether the elements of a queue can be arranged in increasing order in another queue using a stack, you can follow the steps below:\n",
    "\n",
    "1. Create an empty stack and an empty second queue.\n",
    "2. Iterate through the given queue:\n",
    "   - If the front element of the queue is equal to the expected number (starting from 1), simply dequeue it and enqueue it into the second queue.\n",
    "   - If the front element of the queue is greater than the expected number, check if the stack is empty or the top element of the stack is smaller than the front element. If both conditions are true, push the front element of the queue onto the stack and dequeue it.\n",
    "   - If the front element of the queue is greater than the expected number and the top element of the stack is also greater, return \"No\" since it is not possible to arrange the elements in increasing order.\n",
    "3. After the iteration, check if there are any remaining elements in the queue. If there are, enqueue them into the second queue.\n",
    "4. Iterate through the stack and the second queue simultaneously:\n",
    "   - If the top element of the stack is equal to the expected number, pop it from the stack.\n",
    "   - If the front element of the second queue is equal to the expected number, dequeue it from the second queue.\n",
    "   - If at any point the above conditions are not satisfied, return \"No\" since it means the elements cannot be arranged in increasing order.\n",
    "5. If the iteration completes without any issues, return \"Yes\" since it is possible to arrange the elements in increasing order.\n",
    "\n"
   ]
  },
  {
   "cell_type": "code",
   "execution_count": 24,
   "id": "7691742e",
   "metadata": {},
   "outputs": [],
   "source": [
    "from queue import Queue\n",
    "\n",
    "def arrange_queue(queue):\n",
    "    stack = []\n",
    "    second_queue = Queue()\n",
    "\n",
    "    expected_number = 1\n",
    "\n",
    "    while not queue.empty():\n",
    "        front_element = queue.get()\n",
    "\n",
    "        if front_element == expected_number:\n",
    "            second_queue.put(front_element)\n",
    "            expected_number += 1\n",
    "        else:\n",
    "            if len(stack) > 0 and stack[-1] < front_element:\n",
    "                return \"No\"\n",
    "            stack.append(front_element)\n",
    "\n",
    "    while not queue.empty():\n",
    "        second_queue.put(queue.get())\n",
    "\n",
    "    while len(stack) > 0 and not second_queue.empty():\n",
    "        if stack[-1] == expected_number:\n",
    "            stack.pop()\n",
    "            expected_number += 1\n",
    "        elif second_queue.queue[0] == expected_number:\n",
    "            second_queue.get()\n",
    "            expected_number += 1\n",
    "        else:\n",
    "            return \"No\"\n",
    "\n",
    "    return \"Yes\"\n"
   ]
  },
  {
   "cell_type": "code",
   "execution_count": 25,
   "id": "259f1ca2",
   "metadata": {},
   "outputs": [
    {
     "name": "stdout",
     "output_type": "stream",
     "text": [
      "Yes\n"
     ]
    }
   ],
   "source": [
    "queue = Queue()\n",
    "queue.put(5)\n",
    "queue.put(1)\n",
    "queue.put(2)\n",
    "queue.put(3)\n",
    "queue.put(4)\n",
    "\n",
    "print(arrange_queue(queue))  # Output: Yes\n"
   ]
  },
  {
   "cell_type": "code",
   "execution_count": 26,
   "id": "67acd6cf",
   "metadata": {},
   "outputs": [
    {
     "name": "stdout",
     "output_type": "stream",
     "text": [
      "No\n"
     ]
    }
   ],
   "source": [
    "queue = Queue()\n",
    "queue.put(5)\n",
    "queue.put(1)\n",
    "queue.put(2)\n",
    "queue.put(6)\n",
    "queue.put(3)\n",
    "queue.put(4)\n",
    "\n",
    "print(arrange_queue(queue))  # Output: No\n"
   ]
  },
  {
   "cell_type": "code",
   "execution_count": null,
   "id": "c03f8f43",
   "metadata": {},
   "outputs": [],
   "source": []
  },
  {
   "cell_type": "markdown",
   "id": "f1e21315",
   "metadata": {},
   "source": [
    "<aside>\n",
    "💡 **Question 5**\n",
    "\n",
    "Given a number , write a program to reverse this number using stack.\n",
    "\n",
    "**Examples:**\n",
    "\n",
    "```\n",
    "Input : 365\n",
    "Output : 563\n",
    "\n",
    "Input : 6899\n",
    "Output : 9986\n",
    "```\n",
    "\n",
    "</aside>"
   ]
  },
  {
   "cell_type": "markdown",
   "id": "a089a681",
   "metadata": {},
   "source": [
    "**Ans:-**\n",
    "To reverse a number using a stack, you can follow the steps below:\n",
    "\n",
    "1. Convert the given number into a string.\n",
    "2. Create an empty stack.\n",
    "3. Iterate through each digit in the string representation of the number:\n",
    "   - Push each digit onto the stack.\n",
    "4. Create an empty string to store the reversed number.\n",
    "5. Pop each digit from the stack and append it to the reversed number string.\n",
    "6. Convert the reversed number string back to an integer.\n",
    "\n"
   ]
  },
  {
   "cell_type": "code",
   "execution_count": 27,
   "id": "966e7c3c",
   "metadata": {},
   "outputs": [],
   "source": [
    "def reverse_number(number):\n",
    "    number_str = str(number)\n",
    "    stack = []\n",
    "\n",
    "    for digit in number_str:\n",
    "        stack.append(digit)\n",
    "\n",
    "    reversed_number_str = \"\"\n",
    "\n",
    "    while stack:\n",
    "        reversed_number_str += stack.pop()\n",
    "\n",
    "    reversed_number = int(reversed_number_str)\n",
    "\n",
    "    return reversed_number\n"
   ]
  },
  {
   "cell_type": "code",
   "execution_count": 28,
   "id": "318e6a00",
   "metadata": {},
   "outputs": [
    {
     "name": "stdout",
     "output_type": "stream",
     "text": [
      "563\n"
     ]
    }
   ],
   "source": [
    "number = 365\n",
    "print(reverse_number(number))  # Output: 563\n"
   ]
  },
  {
   "cell_type": "code",
   "execution_count": 29,
   "id": "fffb428f",
   "metadata": {},
   "outputs": [
    {
     "name": "stdout",
     "output_type": "stream",
     "text": [
      "9986\n"
     ]
    }
   ],
   "source": [
    "number = 6899\n",
    "print(reverse_number(number))  # Output: 9986\n"
   ]
  },
  {
   "cell_type": "code",
   "execution_count": null,
   "id": "cb6187b7",
   "metadata": {},
   "outputs": [],
   "source": []
  },
  {
   "cell_type": "markdown",
   "id": "ee84cae8",
   "metadata": {},
   "source": [
    "<aside>\n",
    "💡 **Question 6**\n",
    "\n",
    "Given an integer k and a **[queue](https://www.geeksforgeeks.org/queue-data-structure/)** of integers, The task is to reverse the order of the first **k** elements of the queue, leaving the other elements in the same relative order.\n",
    "\n",
    "Only following standard operations are allowed on queue.\n",
    "\n",
    "- **enqueue(x) :** Add an item x to rear of queue\n",
    "- **dequeue() :** Remove an item from front of queue\n",
    "- **size() :** Returns number of elements in queue.\n",
    "- **front() :** Finds front item.\n",
    "</aside>"
   ]
  },
  {
   "cell_type": "markdown",
   "id": "e790f2dc",
   "metadata": {},
   "source": [
    "**Ans:-**\n",
    "To reverse the order of the first k elements in a queue, you can use a stack. Here's the algorithm:\n",
    "\n",
    "1. Create an empty stack.\n",
    "2. Dequeue the first k elements from the queue and push them onto the stack.\n",
    "3. Dequeue the remaining elements from the queue and enqueue them back into the queue.\n",
    "4. Pop the elements from the stack and enqueue them back into the queue.\n",
    "\n"
   ]
  },
  {
   "cell_type": "code",
   "execution_count": null,
   "id": "e6a807d0",
   "metadata": {},
   "outputs": [],
   "source": [
    "from queue import Queue\n",
    "\n",
    "def reverse_k_elements(queue, k):\n",
    "    if k <= 0 or k > queue.qsize():\n",
    "        return \"Invalid value of k\"\n",
    "\n",
    "    stack = []\n",
    "\n",
    "    # Dequeue the first k elements and push them onto the stack\n",
    "    for _ in range(k):\n",
    "        stack.append(queue.get())\n",
    "\n",
    "    # Dequeue the remaining elements and enqueue them back into the queue\n",
    "    while not queue.empty():\n",
    "        queue.put(queue.get())\n",
    "\n",
    "    # Pop the elements from the stack and enqueue them back into the queue\n",
    "    while stack:\n",
    "        queue.put(stack.pop())\n",
    "\n",
    "    return queue\n",
    "\n",
    "# Testing the implementation\n",
    "queue = Queue()\n",
    "queue.put(1)\n",
    "queue.put(2)\n",
    "queue.put(3)\n",
    "queue.put(4)\n",
    "queue.put(5)\n",
    "\n",
    "reversed_queue = reverse_k_elements(queue, 3)\n",
    "while not reversed_queue.empty():\n",
    "    print(reversed_queue.get(), end=\" \")  # Output: 3 2 1 4 5\n"
   ]
  },
  {
   "cell_type": "code",
   "execution_count": null,
   "id": "d9b93b09",
   "metadata": {},
   "outputs": [],
   "source": []
  },
  {
   "cell_type": "markdown",
   "id": "8eee6482",
   "metadata": {},
   "source": [
    "<aside>\n",
    "💡 **Question 7**\n",
    "\n",
    "Given a sequence of n strings, the task is to check if any two similar words come together and then destroy each other then print the number of words left in the sequence after this pairwise destruction.\n",
    "\n",
    "**Examples:**\n",
    "\n",
    "Input : ab aa aa bcd ab\n",
    "\n",
    "Output : 3\n",
    "\n",
    "*As aa, aa destroys each other so,*\n",
    "\n",
    "*ab bcd ab is the new sequence.*\n",
    "\n",
    "Input :  tom jerry jerry tom\n",
    "\n",
    "Output : 0\n",
    "\n",
    "*As first both jerry will destroy each other.*\n",
    "\n",
    "*Then sequence will be tom, tom they will also destroy*\n",
    "\n",
    "*each other. So, the final sequence doesn’t contain any*\n",
    "\n",
    "*word.*\n",
    "\n",
    "</aside>"
   ]
  },
  {
   "cell_type": "markdown",
   "id": "f6839cef",
   "metadata": {},
   "source": [
    "**Ans:-**\n",
    "To solve this problem, you can use a stack data structure. Here's the algorithm you can follow:\n",
    "\n",
    "1. Initialize an empty stack.\n",
    "2. Iterate through each word in the sequence.\n",
    "3. If the stack is empty, push the current word onto the stack.\n",
    "4. If the stack is not empty and the current word is equal to the top word on the stack, pop the top word from the stack (as they destroy each other).\n",
    "5. If the stack is not empty and the current word is not equal to the top word on the stack, push the current word onto the stack.\n",
    "6. After iterating through all the words, the remaining words on the stack will be the ones that are not destroyed.\n",
    "7. Return the number of words left in the stack.\n"
   ]
  },
  {
   "cell_type": "code",
   "execution_count": 31,
   "id": "b6a033e8",
   "metadata": {},
   "outputs": [
    {
     "name": "stdout",
     "output_type": "stream",
     "text": [
      "3\n"
     ]
    }
   ],
   "source": [
    "def count_remaining_words(sequence):\n",
    "    stack = []\n",
    "    for word in sequence:\n",
    "        if not stack or word != stack[-1]:\n",
    "            stack.append(word)\n",
    "        else:\n",
    "            stack.pop()\n",
    "    return len(stack)\n",
    "\n",
    "# Example usage:\n",
    "sequence = [\"ab\", \"aa\", \"aa\", \"bcd\", \"ab\"]\n",
    "result = count_remaining_words(sequence)\n",
    "print(result)  # Output: 3\n"
   ]
  },
  {
   "cell_type": "code",
   "execution_count": null,
   "id": "edd8614c",
   "metadata": {},
   "outputs": [],
   "source": []
  },
  {
   "cell_type": "markdown",
   "id": "c18940d9",
   "metadata": {},
   "source": [
    "<aside>\n",
    "💡 **Question 8**\n",
    "\n",
    "Given an array of integers, the task is to find the maximum absolute difference between the nearest left and the right smaller element of every element in the array.\n",
    "\n",
    "**Note:** If there is no smaller element on right side or left side of any element then we take zero as the smaller element. For example for the leftmost element, the nearest smaller element on the left side is considered as 0. Similarly, for rightmost elements, the smaller element on the right side is considered as 0.\n",
    "\n",
    "**Examples:**\n",
    "\n",
    "```\n",
    "Input : arr[] = {2, 1, 8}\n",
    "Output : 1\n",
    "Left smaller  LS[] {0, 0, 1}\n",
    "Right smaller RS[] {1, 0, 0}\n",
    "Maximum Diff of abs(LS[i] - RS[i]) = 1\n",
    "\n",
    "Input  : arr[] = {2, 4, 8, 7, 7, 9, 3}\n",
    "Output : 4\n",
    "Left smaller   LS[] = {0, 2, 4, 4, 4, 7, 2}\n",
    "Right smaller  RS[] = {0, 3, 7, 3, 3, 3, 0}\n",
    "Maximum Diff of abs(LS[i] - RS[i]) = 7 - 3 = 4\n",
    "\n",
    "Input : arr[] = {5, 1, 9, 2, 5, 1, 7}\n",
    "Output : 1\n",
    "```\n",
    "\n",
    "</aside>"
   ]
  },
  {
   "cell_type": "markdown",
   "id": "669e59d0",
   "metadata": {},
   "source": [
    "**Ans:-**\n",
    "To find the maximum absolute difference between the nearest left and right smaller elements for each element in the array, you can use the concept of the nearest smaller element to the left and right of each element. \n",
    "\n",
    "Here's the algorithm you can follow:\n",
    "\n",
    "1. Initialize two arrays `LS` and `RS` of the same size as the input array `arr`. These arrays will store the nearest smaller element to the left (LS) and right (RS) of each element.\n",
    "2. Initialize the first element of `LS` as 0, and iterate from the second element to the last element of `arr`:\n",
    "   a. Start from the current index `i` and initialize `LS[i]` as 0.\n",
    "   b. Compare `arr[i]` with the element at index `i-1` in `arr`. If `arr[i]` is smaller, update `LS[i]` with `arr[i-1]`.\n",
    "   c. If `arr[i]` is larger, update `LS[i]` with `LS[i-1]`.\n",
    "3. Initialize the last element of `RS` as 0, and iterate from the second-to-last element to the first element of `arr`:\n",
    "   a. Start from the current index `i` and initialize `RS[i]` as 0.\n",
    "   b. Compare `arr[i]` with the element at index `i+1` in `arr`. If `arr[i]` is smaller, update `RS[i]` with `arr[i+1]`.\n",
    "   c. If `arr[i]` is larger, update `RS[i]` with `RS[i+1]`.\n",
    "4. Initialize a variable `max_diff` as 0 to store the maximum absolute difference.\n",
    "5. Iterate over each element in `arr` and calculate the absolute difference between `LS[i]` and `RS[i]`.\n",
    "6. If the absolute difference is greater than `max_diff`, update `max_diff` with the new value.\n",
    "7. Return `max_diff` as the maximum absolute difference between the nearest left and right smaller elements.\n",
    "\n"
   ]
  },
  {
   "cell_type": "code",
   "execution_count": 32,
   "id": "9c30409c",
   "metadata": {},
   "outputs": [
    {
     "name": "stdout",
     "output_type": "stream",
     "text": [
      "7\n"
     ]
    }
   ],
   "source": [
    "def max_abs_difference(arr):\n",
    "    n = len(arr)\n",
    "    LS = [0] * n\n",
    "    RS = [0] * n\n",
    "\n",
    "    LS[0] = 0\n",
    "    for i in range(1, n):\n",
    "        LS[i] = arr[i - 1] if arr[i - 1] < arr[i] else LS[i - 1]\n",
    "\n",
    "    RS[n - 1] = 0\n",
    "    for i in range(n - 2, -1, -1):\n",
    "        RS[i] = arr[i + 1] if arr[i + 1] < arr[i] else RS[i + 1]\n",
    "\n",
    "    max_diff = 0\n",
    "    for i in range(n):\n",
    "        diff = abs(LS[i] - RS[i])\n",
    "        if diff > max_diff:\n",
    "            max_diff = diff\n",
    "\n",
    "    return max_diff\n",
    "\n",
    "# Example usage:\n",
    "arr = [2, 4, 8, 7, 7, 9, 3]\n",
    "result = max_abs_difference(arr)\n",
    "print(result)  # Output: 4\n"
   ]
  },
  {
   "cell_type": "code",
   "execution_count": null,
   "id": "ad5ee15b",
   "metadata": {},
   "outputs": [],
   "source": []
  }
 ],
 "metadata": {
  "kernelspec": {
   "display_name": "Python 3 (ipykernel)",
   "language": "python",
   "name": "python3"
  },
  "language_info": {
   "codemirror_mode": {
    "name": "ipython",
    "version": 3
   },
   "file_extension": ".py",
   "mimetype": "text/x-python",
   "name": "python",
   "nbconvert_exporter": "python",
   "pygments_lexer": "ipython3",
   "version": "3.10.9"
  }
 },
 "nbformat": 4,
 "nbformat_minor": 5
}
